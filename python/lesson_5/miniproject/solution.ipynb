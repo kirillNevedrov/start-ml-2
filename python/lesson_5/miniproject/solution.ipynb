{
 "cells": [
  {
   "cell_type": "code",
   "execution_count": 61,
   "id": "24016123",
   "metadata": {},
   "outputs": [],
   "source": [
    "import pandas as pd\n",
    "\n",
    "playstore = pd.read_csv('playstore.csv', index_col=0)"
   ]
  },
  {
   "cell_type": "code",
   "execution_count": 62,
   "id": "b1209c4d",
   "metadata": {},
   "outputs": [],
   "source": [
    "data_head = playstore.head(3)\n",
    "data_tail = playstore.tail(3)"
   ]
  },
  {
   "cell_type": "code",
   "execution_count": 63,
   "id": "ec0c0231",
   "metadata": {},
   "outputs": [],
   "source": [
    "n_col = playstore.shape[1]\n",
    "n_row  = playstore.shape[0]"
   ]
  },
  {
   "cell_type": "code",
   "execution_count": 64,
   "id": "891bd46e",
   "metadata": {},
   "outputs": [
    {
     "data": {
      "text/plain": [
       "9659"
      ]
     },
     "execution_count": 64,
     "metadata": {},
     "output_type": "execute_result"
    }
   ],
   "source": [
    "playstore['App'].nunique()"
   ]
  },
  {
   "cell_type": "code",
   "execution_count": 65,
   "id": "2ce8608c",
   "metadata": {},
   "outputs": [],
   "source": [
    "playstore = playstore[~playstore['App'].duplicated()].reset_index(drop=True)"
   ]
  },
  {
   "cell_type": "code",
   "execution_count": 66,
   "id": "07da0e7b",
   "metadata": {},
   "outputs": [],
   "source": [
    "playstore.columns = playstore.columns.str.lower().str.replace(' ', '_')"
   ]
  },
  {
   "cell_type": "code",
   "execution_count": 67,
   "id": "93daeb57",
   "metadata": {},
   "outputs": [
    {
     "data": {
      "text/plain": [
       "0.92"
      ]
     },
     "execution_count": 67,
     "metadata": {},
     "output_type": "execute_result"
    }
   ],
   "source": [
    "round(playstore['type'].value_counts()['Free'] / playstore['type'].count(), 2)"
   ]
  },
  {
   "cell_type": "code",
   "execution_count": 68,
   "id": "0c169167",
   "metadata": {},
   "outputs": [],
   "source": [
    "education_playstore = playstore[(playstore['category'] == 'EDUCATION') & (playstore['reviews'] > 1000)].reset_index(drop=True)"
   ]
  },
  {
   "cell_type": "code",
   "execution_count": 69,
   "id": "d649e5bd",
   "metadata": {},
   "outputs": [],
   "source": [
    "import pandas as pd\n",
    "\n",
    "playstore.last_updated = pd.to_datetime(playstore.last_updated)"
   ]
  },
  {
   "cell_type": "code",
   "execution_count": 70,
   "id": "71867e41",
   "metadata": {},
   "outputs": [],
   "source": [
    "playstore.price = pd.to_numeric(playstore.price.str.replace('$', '', regex=False))"
   ]
  },
  {
   "cell_type": "code",
   "execution_count": 78,
   "id": "3037779c",
   "metadata": {},
   "outputs": [],
   "source": [
    "desc = playstore.price.describe()\n",
    "price_median = round(desc['50%'], 2)\n",
    "price_mean = round(desc['mean'], 2)"
   ]
  },
  {
   "cell_type": "code",
   "execution_count": null,
   "id": "a730098c",
   "metadata": {},
   "outputs": [],
   "source": []
  }
 ],
 "metadata": {
  "kernelspec": {
   "display_name": "Python 3 (ipykernel)",
   "language": "python",
   "name": "python3"
  },
  "language_info": {
   "codemirror_mode": {
    "name": "ipython",
    "version": 3
   },
   "file_extension": ".py",
   "mimetype": "text/x-python",
   "name": "python",
   "nbconvert_exporter": "python",
   "pygments_lexer": "ipython3",
   "version": "3.9.7"
  }
 },
 "nbformat": 4,
 "nbformat_minor": 5
}

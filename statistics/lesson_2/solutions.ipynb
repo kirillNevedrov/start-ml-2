{
 "cells": [
  {
   "cell_type": "code",
   "execution_count": 3,
   "id": "31246ab9",
   "metadata": {},
   "outputs": [
    {
     "name": "stdout",
     "output_type": "stream",
     "text": [
      "6.551810591859069 7.890087397189958\n"
     ]
    }
   ],
   "source": [
    "import numpy as np\n",
    "import pandas as pd\n",
    "import matplotlib.pyplot as plt\n",
    "import seaborn as sns\n",
    "from scipy.stats import t\n",
    "\n",
    "def get_samples(size):\n",
    "    return np.random.lognormal(mean=1.5, sigma=1.0, size=size)\n",
    "\n",
    "data = get_samples(size=1000)\n",
    "\n",
    "alpha = 0.05\n",
    "\n",
    "mu = np.mean(data)\n",
    "std = np.std(data)\n",
    "N = len(data)\n",
    "t_alpha2 = t.ppf(q=1-alpha/2, df=N-1)\n",
    "\n",
    "print(mu - t_alpha2 * std / np.sqrt(N), mu + t_alpha2 * std / np.sqrt(N))"
   ]
  },
  {
   "cell_type": "code",
   "execution_count": 5,
   "id": "03bc7bb3",
   "metadata": {},
   "outputs": [
    {
     "name": "stdout",
     "output_type": "stream",
     "text": [
      "165.04664345209275 174.95335654790725\n"
     ]
    }
   ],
   "source": [
    "alpha = 0.05\n",
    "\n",
    "mu = 170\n",
    "std = 12\n",
    "N = 25\n",
    "t_alpha2 = t.ppf(q=1-alpha/2, df=N-1)\n",
    "\n",
    "print(mu - t_alpha2 * std / np.sqrt(N), mu + t_alpha2 * std / np.sqrt(N))"
   ]
  },
  {
   "cell_type": "code",
   "execution_count": 8,
   "id": "f38af8c0",
   "metadata": {},
   "outputs": [
    {
     "name": "stdout",
     "output_type": "stream",
     "text": [
      "23.236165792623606 26.763834207376394\n"
     ]
    }
   ],
   "source": [
    "print(25 - 2 * 7 / np.sqrt(63), 25 + 2 * 7 / np.sqrt(63))"
   ]
  },
  {
   "cell_type": "code",
   "execution_count": 11,
   "id": "1fb0aa79",
   "metadata": {},
   "outputs": [],
   "source": [
    "data = np.random.poisson(50, 1000)"
   ]
  },
  {
   "cell_type": "code",
   "execution_count": 12,
   "id": "4e4a056a",
   "metadata": {},
   "outputs": [
    {
     "data": {
      "text/plain": [
       "array([58, 62, 64, 46, 39, 36, 40, 47, 54, 49, 41, 48, 44, 57, 60, 58, 43,\n",
       "       48, 57, 49, 47, 47, 58, 39, 44, 51, 56, 51, 42, 46, 45, 50, 48, 48,\n",
       "       60, 50, 51, 64, 46, 46, 50, 54, 58, 44, 47, 55, 42, 62, 49, 56, 41,\n",
       "       48, 60, 52, 63, 51, 41, 52, 59, 38, 43, 39, 54, 51, 58, 55, 59, 63,\n",
       "       39, 51, 58, 66, 53, 41, 41, 42, 57, 56, 44, 52, 54, 62, 59, 45, 46,\n",
       "       51, 49, 54, 44, 50, 43, 49, 54, 54, 50, 58, 45, 46, 55, 43, 48, 41,\n",
       "       60, 52, 56, 38, 53, 51, 52, 62, 44, 41, 49, 38, 60, 44, 52, 44, 55,\n",
       "       60, 45, 55, 49, 51, 57, 54, 50, 59, 40, 51, 49, 60, 47, 50, 59, 49,\n",
       "       59, 59, 52, 36, 42, 64, 54, 44, 49, 54, 39, 53, 51, 35, 36, 51, 60,\n",
       "       53, 44, 56, 56, 56, 51, 33, 57, 60, 45, 46, 48, 38, 46, 67, 59, 53,\n",
       "       55, 47, 45, 45, 34, 63, 50, 56, 53, 61, 48, 42, 46, 63, 53, 45, 48,\n",
       "       48, 47, 56, 47, 59, 36, 42, 54, 47, 45, 49, 52, 49, 51, 57, 51, 48,\n",
       "       55, 54, 61, 36, 65, 49, 48, 44, 58, 35, 46, 46, 48, 49, 51, 45, 50,\n",
       "       43, 59, 49, 41, 38, 43, 44, 49, 42, 49, 58, 55, 53, 39, 54, 45, 51,\n",
       "       37, 49, 50, 36, 51, 48, 48, 43, 45, 45, 44, 41, 57, 41, 52, 59, 59,\n",
       "       63, 43, 43, 42, 49, 38, 48, 63, 54, 47, 48, 60, 33, 47, 42, 58, 47,\n",
       "       44, 55, 50, 50, 51, 45, 46, 41, 39, 45, 65, 35, 55, 53, 68, 52, 55,\n",
       "       49, 56, 58, 53, 47, 41, 53, 61, 41, 50, 51, 43, 62, 53, 54, 46, 48,\n",
       "       60, 41, 42, 50, 55, 51, 55, 30, 47, 45, 57, 46, 52, 58, 57, 42, 48,\n",
       "       59, 52, 58, 55, 52, 43, 54, 54, 52, 47, 52, 36, 56, 51, 54, 55, 46,\n",
       "       52, 60, 51, 49, 38, 44, 61, 51, 67, 49, 55, 51, 57, 54, 55, 44, 45,\n",
       "       47, 54, 44, 48, 50, 43, 48, 59, 39, 40, 43, 45, 45, 54, 42, 44, 46,\n",
       "       54, 38, 58, 38, 46, 55, 47, 53, 48, 50, 59, 40, 40, 39, 51, 50, 55,\n",
       "       41, 49, 37, 53, 34, 56, 36, 49, 44, 37, 51, 53, 61, 45, 44, 49, 47,\n",
       "       54, 48, 56, 49, 49, 41, 58, 47, 47, 52, 49, 53, 53, 45, 43, 49, 45,\n",
       "       50, 40, 57, 44, 44, 45, 53, 49, 47, 55, 60, 47, 46, 50, 51, 59, 47,\n",
       "       47, 48, 51, 41, 59, 61, 46, 62, 57, 50, 48, 56, 54, 56, 52, 43, 50,\n",
       "       51, 43, 68, 61, 51, 53, 38, 45, 43, 48, 52, 43, 49, 55, 45, 49, 67,\n",
       "       54, 59, 46, 45, 53, 45, 45, 60, 46, 57, 50, 45, 50, 57, 49, 47, 53,\n",
       "       52, 51, 48, 45, 61, 41, 47, 53, 44, 62, 52, 32, 50, 39, 58, 46, 47,\n",
       "       49, 53, 42, 44, 41, 57, 47, 55, 53, 59, 47, 44, 53, 64, 38, 50, 44,\n",
       "       41, 62, 47, 49, 52, 54, 40, 49, 64, 45, 57, 56, 41, 37, 46, 48, 44,\n",
       "       51, 47, 55, 49, 58, 50, 47, 45, 52, 56, 50, 44, 52, 44, 67, 48, 60,\n",
       "       50, 68, 65, 38, 59, 54, 46, 60, 42, 58, 46, 54, 40, 49, 48, 47, 56,\n",
       "       41, 49, 53, 56, 56, 54, 57, 44, 50, 52, 45, 50, 42, 43, 49, 52, 56,\n",
       "       43, 54, 55, 49, 63, 39, 40, 52, 56, 48, 49, 46, 42, 48, 48, 50, 55,\n",
       "       55, 46, 55, 55, 48, 49, 47, 50, 50, 42, 47, 54, 50, 54, 51, 56, 52,\n",
       "       57, 60, 48, 57, 52, 53, 47, 58, 52, 49, 59, 48, 57, 53, 52, 65, 61,\n",
       "       57, 51, 28, 36, 56, 41, 56, 45, 58, 49, 63, 59, 36, 47, 42, 54, 48,\n",
       "       45, 56, 65, 65, 40, 51, 46, 42, 61, 40, 40, 52, 54, 52, 48, 51, 63,\n",
       "       44, 58, 60, 59, 46, 38, 42, 36, 46, 47, 55, 55, 52, 65, 54, 55, 45,\n",
       "       53, 47, 35, 40, 50, 51, 42, 51, 52, 62, 51, 54, 49, 49, 49, 38, 49,\n",
       "       54, 51, 56, 52, 49, 48, 53, 43, 63, 45, 51, 48, 51, 63, 42, 40, 48,\n",
       "       59, 47, 54, 47, 47, 59, 45, 58, 49, 47, 47, 62, 34, 55, 39, 54, 58,\n",
       "       44, 57, 42, 51, 53, 42, 43, 54, 42, 46, 57, 41, 48, 64, 56, 46, 42,\n",
       "       60, 56, 41, 52, 43, 51, 56, 58, 44, 52, 65, 48, 42, 64, 60, 47, 58,\n",
       "       41, 50, 55, 46, 36, 54, 49, 39, 45, 55, 59, 57, 47, 61, 46, 52, 56,\n",
       "       41, 47, 49, 45, 39, 53, 64, 37, 49, 49, 53, 51, 69, 40, 72, 52, 56,\n",
       "       52, 51, 48, 59, 38, 49, 45, 50, 56, 43, 58, 45, 46, 41, 41, 51, 51,\n",
       "       46, 45, 46, 49, 64, 50, 47, 45, 58, 45, 47, 54, 44, 67, 40, 40, 47,\n",
       "       41, 34, 48, 48, 41, 65, 59, 49, 61, 51, 42, 53, 55, 41, 55, 46, 43,\n",
       "       46, 46, 50, 50, 62, 53, 55, 49, 60, 49, 55, 57, 46, 41, 42, 58, 53,\n",
       "       59, 45, 47, 45, 57, 54, 61, 41, 43, 48, 52, 50, 54, 48, 50, 44, 53,\n",
       "       51, 57, 54, 54, 54, 47, 52, 51, 60, 56, 45, 49, 52, 55, 42, 52, 49,\n",
       "       40, 52, 50, 33, 37, 43, 65, 34, 46, 61, 54, 44, 52, 50, 54, 49, 62,\n",
       "       41, 45, 53, 60, 47, 46, 48, 40, 49, 41, 49, 46, 51, 54, 55, 56, 35,\n",
       "       41, 54, 53, 50, 46, 57, 33, 66, 59, 51, 48, 50, 58, 51, 49, 47, 46,\n",
       "       49, 48, 61, 41, 52, 43, 46, 48, 49, 51, 52, 46, 53, 45, 57, 41, 39,\n",
       "       53, 45, 47, 46, 55, 60, 46, 43, 46, 38, 48, 49, 45, 57])"
      ]
     },
     "execution_count": 12,
     "metadata": {},
     "output_type": "execute_result"
    }
   ],
   "source": [
    "data"
   ]
  },
  {
   "cell_type": "code",
   "execution_count": 15,
   "id": "206b07af",
   "metadata": {},
   "outputs": [
    {
     "name": "stdout",
     "output_type": "stream",
     "text": [
      "169.5621789826844 170.4378210173156\n"
     ]
    }
   ],
   "source": [
    "from scipy.stats import norm\n",
    "\n",
    "alpha = 0.05\n",
    "\n",
    "mean = np.mean(data)\n",
    "std = np.std(data)\n",
    "N = len(data)\n",
    "z_alpha2 = norm.ppf(q=1-alpha/2)\n",
    "\n",
    "print(mu - z_alpha2 * std / np.sqrt(N), mu + z_alpha2 * std / np.sqrt(N))"
   ]
  },
  {
   "cell_type": "code",
   "execution_count": 16,
   "id": "e96da679",
   "metadata": {},
   "outputs": [
    {
     "data": {
      "text/plain": [
       "0.8756420346311984"
      ]
     },
     "execution_count": 16,
     "metadata": {},
     "output_type": "execute_result"
    }
   ],
   "source": [
    "170.4378210173156 - 169.5621789826844"
   ]
  },
  {
   "cell_type": "code",
   "execution_count": 18,
   "id": "ddb24dda",
   "metadata": {},
   "outputs": [
    {
     "data": {
      "text/plain": [
       "ConfidenceInterval(low=6.75796019385066, high=7.3447996841070875)"
      ]
     },
     "execution_count": 18,
     "metadata": {},
     "output_type": "execute_result"
    }
   ],
   "source": [
    "from scipy.stats import bootstrap\n",
    "bootstrap(\n",
    "    data=(data,),\n",
    "    statistic=np.std,\n",
    "    confidence_level=0.95,\n",
    "    n_resamples=1000,\n",
    "    method='percentile',\n",
    ").confidence_interval"
   ]
  },
  {
   "cell_type": "code",
   "execution_count": 1,
   "id": "bad9e752",
   "metadata": {},
   "outputs": [
    {
     "name": "stderr",
     "output_type": "stream",
     "text": [
      "C:\\Users\\Kirill\\anaconda3\\lib\\site-packages\\numpy\\_distributor_init.py:30: UserWarning: loaded more than 1 DLL from .libs:\n",
      "C:\\Users\\Kirill\\anaconda3\\lib\\site-packages\\numpy\\.libs\\libopenblas.4SP5SUA7CBGXUEOC35YP2ASOICYYEQZZ.gfortran-win_amd64.dll\n",
      "C:\\Users\\Kirill\\anaconda3\\lib\\site-packages\\numpy\\.libs\\libopenblas.FB5AE2TYXYH2IJRDKGDGQ3XBKLKTF43H.gfortran-win_amd64.dll\n",
      "  warnings.warn(\"loaded more than 1 DLL from .libs:\"\n"
     ]
    }
   ],
   "source": [
    "from sklearn.datasets import fetch_california_housing\n",
    "\n",
    "X, y = fetch_california_housing(return_X_y=True, as_frame=True)"
   ]
  },
  {
   "cell_type": "code",
   "execution_count": 2,
   "id": "dddd2a50",
   "metadata": {},
   "outputs": [
    {
     "data": {
      "text/html": [
       "<div>\n",
       "<style scoped>\n",
       "    .dataframe tbody tr th:only-of-type {\n",
       "        vertical-align: middle;\n",
       "    }\n",
       "\n",
       "    .dataframe tbody tr th {\n",
       "        vertical-align: top;\n",
       "    }\n",
       "\n",
       "    .dataframe thead th {\n",
       "        text-align: right;\n",
       "    }\n",
       "</style>\n",
       "<table border=\"1\" class=\"dataframe\">\n",
       "  <thead>\n",
       "    <tr style=\"text-align: right;\">\n",
       "      <th></th>\n",
       "      <th>MedInc</th>\n",
       "      <th>HouseAge</th>\n",
       "      <th>AveRooms</th>\n",
       "      <th>AveBedrms</th>\n",
       "      <th>Population</th>\n",
       "      <th>AveOccup</th>\n",
       "      <th>Latitude</th>\n",
       "      <th>Longitude</th>\n",
       "    </tr>\n",
       "  </thead>\n",
       "  <tbody>\n",
       "    <tr>\n",
       "      <th>0</th>\n",
       "      <td>8.3252</td>\n",
       "      <td>41.0</td>\n",
       "      <td>6.984127</td>\n",
       "      <td>1.023810</td>\n",
       "      <td>322.0</td>\n",
       "      <td>2.555556</td>\n",
       "      <td>37.88</td>\n",
       "      <td>-122.23</td>\n",
       "    </tr>\n",
       "    <tr>\n",
       "      <th>1</th>\n",
       "      <td>8.3014</td>\n",
       "      <td>21.0</td>\n",
       "      <td>6.238137</td>\n",
       "      <td>0.971880</td>\n",
       "      <td>2401.0</td>\n",
       "      <td>2.109842</td>\n",
       "      <td>37.86</td>\n",
       "      <td>-122.22</td>\n",
       "    </tr>\n",
       "    <tr>\n",
       "      <th>2</th>\n",
       "      <td>7.2574</td>\n",
       "      <td>52.0</td>\n",
       "      <td>8.288136</td>\n",
       "      <td>1.073446</td>\n",
       "      <td>496.0</td>\n",
       "      <td>2.802260</td>\n",
       "      <td>37.85</td>\n",
       "      <td>-122.24</td>\n",
       "    </tr>\n",
       "    <tr>\n",
       "      <th>3</th>\n",
       "      <td>5.6431</td>\n",
       "      <td>52.0</td>\n",
       "      <td>5.817352</td>\n",
       "      <td>1.073059</td>\n",
       "      <td>558.0</td>\n",
       "      <td>2.547945</td>\n",
       "      <td>37.85</td>\n",
       "      <td>-122.25</td>\n",
       "    </tr>\n",
       "    <tr>\n",
       "      <th>4</th>\n",
       "      <td>3.8462</td>\n",
       "      <td>52.0</td>\n",
       "      <td>6.281853</td>\n",
       "      <td>1.081081</td>\n",
       "      <td>565.0</td>\n",
       "      <td>2.181467</td>\n",
       "      <td>37.85</td>\n",
       "      <td>-122.25</td>\n",
       "    </tr>\n",
       "    <tr>\n",
       "      <th>...</th>\n",
       "      <td>...</td>\n",
       "      <td>...</td>\n",
       "      <td>...</td>\n",
       "      <td>...</td>\n",
       "      <td>...</td>\n",
       "      <td>...</td>\n",
       "      <td>...</td>\n",
       "      <td>...</td>\n",
       "    </tr>\n",
       "    <tr>\n",
       "      <th>20635</th>\n",
       "      <td>1.5603</td>\n",
       "      <td>25.0</td>\n",
       "      <td>5.045455</td>\n",
       "      <td>1.133333</td>\n",
       "      <td>845.0</td>\n",
       "      <td>2.560606</td>\n",
       "      <td>39.48</td>\n",
       "      <td>-121.09</td>\n",
       "    </tr>\n",
       "    <tr>\n",
       "      <th>20636</th>\n",
       "      <td>2.5568</td>\n",
       "      <td>18.0</td>\n",
       "      <td>6.114035</td>\n",
       "      <td>1.315789</td>\n",
       "      <td>356.0</td>\n",
       "      <td>3.122807</td>\n",
       "      <td>39.49</td>\n",
       "      <td>-121.21</td>\n",
       "    </tr>\n",
       "    <tr>\n",
       "      <th>20637</th>\n",
       "      <td>1.7000</td>\n",
       "      <td>17.0</td>\n",
       "      <td>5.205543</td>\n",
       "      <td>1.120092</td>\n",
       "      <td>1007.0</td>\n",
       "      <td>2.325635</td>\n",
       "      <td>39.43</td>\n",
       "      <td>-121.22</td>\n",
       "    </tr>\n",
       "    <tr>\n",
       "      <th>20638</th>\n",
       "      <td>1.8672</td>\n",
       "      <td>18.0</td>\n",
       "      <td>5.329513</td>\n",
       "      <td>1.171920</td>\n",
       "      <td>741.0</td>\n",
       "      <td>2.123209</td>\n",
       "      <td>39.43</td>\n",
       "      <td>-121.32</td>\n",
       "    </tr>\n",
       "    <tr>\n",
       "      <th>20639</th>\n",
       "      <td>2.3886</td>\n",
       "      <td>16.0</td>\n",
       "      <td>5.254717</td>\n",
       "      <td>1.162264</td>\n",
       "      <td>1387.0</td>\n",
       "      <td>2.616981</td>\n",
       "      <td>39.37</td>\n",
       "      <td>-121.24</td>\n",
       "    </tr>\n",
       "  </tbody>\n",
       "</table>\n",
       "<p>20640 rows × 8 columns</p>\n",
       "</div>"
      ],
      "text/plain": [
       "       MedInc  HouseAge  AveRooms  AveBedrms  Population  AveOccup  Latitude  \\\n",
       "0      8.3252      41.0  6.984127   1.023810       322.0  2.555556     37.88   \n",
       "1      8.3014      21.0  6.238137   0.971880      2401.0  2.109842     37.86   \n",
       "2      7.2574      52.0  8.288136   1.073446       496.0  2.802260     37.85   \n",
       "3      5.6431      52.0  5.817352   1.073059       558.0  2.547945     37.85   \n",
       "4      3.8462      52.0  6.281853   1.081081       565.0  2.181467     37.85   \n",
       "...       ...       ...       ...        ...         ...       ...       ...   \n",
       "20635  1.5603      25.0  5.045455   1.133333       845.0  2.560606     39.48   \n",
       "20636  2.5568      18.0  6.114035   1.315789       356.0  3.122807     39.49   \n",
       "20637  1.7000      17.0  5.205543   1.120092      1007.0  2.325635     39.43   \n",
       "20638  1.8672      18.0  5.329513   1.171920       741.0  2.123209     39.43   \n",
       "20639  2.3886      16.0  5.254717   1.162264      1387.0  2.616981     39.37   \n",
       "\n",
       "       Longitude  \n",
       "0        -122.23  \n",
       "1        -122.22  \n",
       "2        -122.24  \n",
       "3        -122.25  \n",
       "4        -122.25  \n",
       "...          ...  \n",
       "20635    -121.09  \n",
       "20636    -121.21  \n",
       "20637    -121.22  \n",
       "20638    -121.32  \n",
       "20639    -121.24  \n",
       "\n",
       "[20640 rows x 8 columns]"
      ]
     },
     "execution_count": 2,
     "metadata": {},
     "output_type": "execute_result"
    }
   ],
   "source": [
    "X"
   ]
  },
  {
   "cell_type": "code",
   "execution_count": 3,
   "id": "53eee456",
   "metadata": {},
   "outputs": [
    {
     "data": {
      "text/plain": [
       "0        4.526\n",
       "1        3.585\n",
       "2        3.521\n",
       "3        3.413\n",
       "4        3.422\n",
       "         ...  \n",
       "20635    0.781\n",
       "20636    0.771\n",
       "20637    0.923\n",
       "20638    0.847\n",
       "20639    0.894\n",
       "Name: MedHouseVal, Length: 20640, dtype: float64"
      ]
     },
     "execution_count": 3,
     "metadata": {},
     "output_type": "execute_result"
    }
   ],
   "source": [
    "y"
   ]
  },
  {
   "cell_type": "code",
   "execution_count": 25,
   "id": "fc551632",
   "metadata": {},
   "outputs": [],
   "source": [
    "import numpy as np\n",
    "from sklearn.linear_model import Ridge\n",
    "\n",
    "scores = []\n",
    "n_iter = 1000\n",
    "\n",
    "for _ in range(n_iter):\n",
    "    train_indexes = np.random.choice(X.index.values, size=X.shape[0], replace=True)\n",
    "    test_indexes = np.setdiff1d(X.index.values, train_indexes)\n",
    "    \n",
    "    model_lasso = Ridge() \n",
    "    model_lasso.fit(X.loc[train_indexes], y.loc[train_indexes])\n",
    "    \n",
    "    predictions = model_lasso.predict(X.loc[test_indexes])\n",
    "    \n",
    "    scores.append(np.mean((predictions - y.loc[test_indexes])**2))"
   ]
  },
  {
   "cell_type": "code",
   "execution_count": 26,
   "id": "52370e05",
   "metadata": {},
   "outputs": [
    {
     "data": {
      "image/png": "[encoded data removed]",
      "text/plain": [
       "<Figure size 432x288 with 1 Axes>"
      ]
     },
     "metadata": {
      "needs_background": "light"
     },
     "output_type": "display_data"
    }
   ],
   "source": [
    "import matplotlib.pyplot as plt\n",
    "import seaborn as sns\n",
    "\n",
    "sns.histplot(scores, bins=30, kde=True, color='red', alpha=0.5)\n",
    "plt.show()"
   ]
  },
  {
   "cell_type": "code",
   "execution_count": 27,
   "id": "7b7bf373",
   "metadata": {},
   "outputs": [
    {
     "data": {
      "text/plain": [
       "array([0.50688355, 1.16827191])"
      ]
     },
     "execution_count": 27,
     "metadata": {},
     "output_type": "execute_result"
    }
   ],
   "source": [
    "alpha = 0.05\n",
    "ci = np.quantile(scores, q=[alpha / 2, 1 - alpha / 2])\n",
    "ci"
   ]
  },
  {
   "cell_type": "code",
   "execution_count": 35,
   "id": "f9f3b96c",
   "metadata": {},
   "outputs": [],
   "source": [
    "from scipy.stats import t\n",
    "intervals = []\n",
    "is_covered = []\n",
    "\n",
    "for i in range(1000):\n",
    "    data = np.random.normal(loc=3, scale=4, size=1000)\n",
    "    \n",
    "    alpha = 0.05\n",
    "\n",
    "    mean = np.mean(data)\n",
    "    std = np.std(data)\n",
    "    N = len(data)\n",
    "    t_alpha2 = t.ppf(q=1-alpha/2, df=N-1)\n",
    "    \n",
    "    left = mean - t_alpha2 * std / np.sqrt(N)\n",
    "    right  = mean + t_alpha2 * std / np.sqrt(N)\n",
    "\n",
    "    intervals.append((left, right))\n",
    "    is_covered.append(left <= 3 <= right)"
   ]
  },
  {
   "cell_type": "code",
   "execution_count": 37,
   "id": "06448ba0",
   "metadata": {},
   "outputs": [
    {
     "data": {
      "text/plain": [
       "0.948"
      ]
     },
     "execution_count": 37,
     "metadata": {},
     "output_type": "execute_result"
    }
   ],
   "source": [
    "len([i for i in is_covered if i])/len(is_covered)\n"
   ]
  },
  {
   "cell_type": "code",
   "execution_count": null,
   "id": "6653ee60",
   "metadata": {},
   "outputs": [],
   "source": []
  }
 ],
 "metadata": {
  "kernelspec": {
   "display_name": "Python 3 (ipykernel)",
   "language": "python",
   "name": "python3"
  },
  "language_info": {
   "codemirror_mode": {
    "name": "ipython",
    "version": 3
   },
   "file_extension": ".py",
   "mimetype": "text/x-python",
   "name": "python",
   "nbconvert_exporter": "python",
   "pygments_lexer": "ipython3",
   "version": "3.9.7"
  }
 },
 "nbformat": 4,
 "nbformat_minor": 5
}

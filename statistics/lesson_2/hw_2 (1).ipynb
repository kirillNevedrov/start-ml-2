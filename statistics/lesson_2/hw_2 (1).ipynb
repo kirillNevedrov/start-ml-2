{
 "cells": [
  {
   "cell_type": "code",
   "execution_count": 1,
   "id": "7df40434",
   "metadata": {},
   "outputs": [],
   "source": [
    "import numpy as np\n",
    "import pandas as pd"
   ]
  },
  {
   "cell_type": "markdown",
   "id": "323c238b",
   "metadata": {},
   "source": [
    "### 1"
   ]
  },
  {
   "cell_type": "markdown",
   "id": "91e006f8",
   "metadata": {},
   "source": [
    "Чем определяется (задаётся) доверительный интервал?\n",
    "\n",
    "С одной стороны, доверительный интервал на то и интервал, что задаётся не центром, а границами (иначе кроме центра надо было знать ещё и ширину).\n",
    "\n",
    "С другой стороны, важно знать и уровень значимости, так как для одной и той же случайной величины можно построить доверительный интервал с уровенем доверия 95%, а можно и 99%. Получатся два разных интервала, второй будет шире первого. \n",
    "\n",
    "Поэтому надо одновременно знать и границы интервала, и уровень значимости (или уровень доверия)."
   ]
  },
  {
   "cell_type": "markdown",
   "id": "0db1ece7",
   "metadata": {},
   "source": [
    "### 2"
   ]
  },
  {
   "cell_type": "markdown",
   "id": "b9d984fb",
   "metadata": {},
   "source": [
    "Чем доверительный интервал лучше точечной оценки?\n",
    "\n",
    "Доверительный интервал проще строить — как раз наоборот, для него надо не только посчитать \"среднее\", но и найти нужные квантили, оценить дисперсию (в случае построения через ЦПТ). \n",
    "\n",
    "Доверительный интервал передаёт точность оценки параметра — по ширине интервала можно судить о точности оценки.\n",
    "\n",
    "Точечную оценку можно построить не во всех ситуациях, где возможен доверительный интервал — точечную оценку проще строить (например, точечная оценка на среднее значения случайной величины - среднее арифметическое)."
   ]
  },
  {
   "cell_type": "markdown",
   "id": "b10eeb87",
   "metadata": {},
   "source": [
    "### 3"
   ]
  },
  {
   "cell_type": "markdown",
   "id": "1d42417f",
   "metadata": {},
   "source": [
    "Какое значение из следующей выборки наиболее близко к 0.7-й квантили выборки?\n",
    "\n",
    "[1, 3, 9, 2, 4, 0, 1, 5, -2, 12]\n",
    "\n",
    "Отсортируем выборку: [-2, 0, 1, 1, 2, 3, 4, 5, 9, 12]\n",
    "\n",
    "Под определение 0.7-квантили (больше 0.7 части объектов, то есть 7 первых чисел для нашей выборки) подходят все числа между 4 и 5. "
   ]
  },
  {
   "cell_type": "markdown",
   "id": "cdb152b5",
   "metadata": {},
   "source": [
    "### 4"
   ]
  },
  {
   "cell_type": "markdown",
   "id": "eceae640",
   "metadata": {},
   "source": [
    "Давайте вспомним дискретные распределения и немного попрактикуемся с ними.\n",
    "\n",
    "Предположим, мы обзваниваем наших клиентов и спрашиваем, будут ли они продлевать подписку на наш сервис. По нашему прошлому опыту с вероятностью p=0.3 пользователи продлевают подписку.\n",
    "\n",
    "Посчитайте, с какой вероятностью из 10 звонков согласятся продлить подписку менее 2 пользователей (то есть 0 или 1)?\n",
    "\n",
    "Попробуйте сделать это аналитически, то есть через формулы и калькулятор. Кстати, в формуле вероятности, которую мы рассматривали на прошлом уроке, присутствует число сочетаний из N по k, которое показывает, сколькими способами мы можем выбирать k элементов из множества N элементов (если из 10 людей 3-е продлили подписку, то это число показывает, сколько способов выбрать этих 3-х людей из 10 без учёта порядка. так как это могли быть первые трое, а могли быть 1, 5 и 7). Число сочетаний из N по k вычислить как N!/(k!(N-k)!), где k!=1*2*...*k.\n",
    "\n",
    "**Решение**\n",
    "\n",
    "Нам надо оценить, с какой вероятностью из 10 пользователей только 0 или 1 согласятся. Каждый пользователь соглашается с вероятностью p. Это [биномиальное](https://ru.wikipedia.org/wiki/Биномиальное_распределение) распределение, вероятность в котором можно посчитать по формуле:\n",
    "\n",
    "$P_N(k) = \\frac{N!}{k!(N-k)!} p^k (1-p)^(N-k)$\n",
    "\n",
    "Тогда получаем:\n",
    "\n",
    "$P(k=0) = C_{10}^0 * 0.3^0 * (1-0.3)^{10} = 1 * 1 * 0.7^{10} \\approx 0.0282$\n",
    "\n",
    "$P(k=1) = C_{10}^1 * 0.3^1 * (1-0.3)^9 = 10 * 0.3 * 0.7^9 \\approx 0.1211$\n",
    "\n",
    "Тогда искомая вероятность P = P(k=0) + P(k=1) = 0.0282 + 0.1211 ≈ 0.15"
   ]
  },
  {
   "cell_type": "markdown",
   "id": "98c56ded",
   "metadata": {},
   "source": [
    "### 5"
   ]
  },
  {
   "cell_type": "markdown",
   "id": "f46888f8",
   "metadata": {},
   "source": [
    "Теперь представим, что мы обзвонили 1000 клиентов и хотим проверить, с какой вероятностью 100 и меньше пользователей согласятся продлить нашу подписку.\n",
    "\n",
    "**Решение**\n",
    "\n",
    "Теперь мы сделаем то же самое, но с использованием готовых библиотек. \n",
    "\n",
    "Сначала инициализируем распределение с нужными параметрами:"
   ]
  },
  {
   "cell_type": "code",
   "execution_count": 2,
   "id": "4c21ee58",
   "metadata": {},
   "outputs": [],
   "source": [
    "from scipy.stats import binom\n",
    "\n",
    "n, p = 1000, 0.3\n",
    "dist = binom(n, p)"
   ]
  },
  {
   "cell_type": "markdown",
   "id": "2daa586d",
   "metadata": {},
   "source": [
    "Теперь посчитаем сумму вероятностей встретить каждое значение до 100 включительно:"
   ]
  },
  {
   "cell_type": "code",
   "execution_count": 3,
   "id": "1068a9a5",
   "metadata": {},
   "outputs": [
    {
     "data": {
      "text/plain": [
       "1.718340400329605e-52"
      ]
     },
     "execution_count": 3,
     "metadata": {},
     "output_type": "execute_result"
    }
   ],
   "source": [
    "sum(dist.pmf(range(0, 100+1)))"
   ]
  },
  {
   "cell_type": "markdown",
   "id": "a8c6624c",
   "metadata": {},
   "source": [
    "### 6"
   ]
  },
  {
   "cell_type": "markdown",
   "id": "cd9f3260",
   "metadata": {},
   "source": [
    "Почему при построении доверительного интервала с помощью бутстрэпа генерируют псевдовыборки из выборки?\n",
    "\n",
    "Мы бы хотели работать с генеральной совокупностью, но у нас есть только выборка. Мы генерируем псевдовыборки из этой выборки для построение бутстрэп-распределения."
   ]
  },
  {
   "cell_type": "markdown",
   "id": "39cc85bb",
   "metadata": {},
   "source": [
    "### 7"
   ]
  },
  {
   "cell_type": "markdown",
   "id": "170a97c5",
   "metadata": {},
   "source": [
    "О чём говорит центральная предельная теорема?\n",
    "\n",
    "Сумма независимых одинаково распределённых случайных величин распределена нормально с некоторыми параметрами"
   ]
  },
  {
   "cell_type": "markdown",
   "id": "0ff76687",
   "metadata": {},
   "source": [
    "### 8"
   ]
  },
  {
   "cell_type": "markdown",
   "id": "705a82a1",
   "metadata": {},
   "source": [
    "Предположим, что мы строим доверительный интервал, используя центральную предельную теорему. Что происходит с шириной доверительного интервала, если увеличить выборку в 4 раза?\n",
    "\n",
    "Чем больше выборка, тем более точные выводы по ней мы можем делать. В том числе доверительный интервал становится уже. \n",
    "\n",
    "Можно вспомнить, что в формуле доверительного интервала через ЦПТ фигурирует корень из числа объектов выборки в знаменателе:\n",
    "\n",
    "$$\\left( \\overline{X} - z_{1-\\frac{\\alpha}{2}} \\frac{S}{\\sqrt{N}} , \\overline{X} + z_{1 - \\frac{\\alpha}{2}} \\frac{S}{\\sqrt{N}} \\right)$$\n",
    "\n",
    "То есть при увеличении выборки в 4 раза интервал уменьшается в 2 раза."
   ]
  },
  {
   "cell_type": "markdown",
   "id": "d4a58f06",
   "metadata": {},
   "source": [
    "### 9"
   ]
  },
  {
   "cell_type": "markdown",
   "id": "6a28d9a7",
   "metadata": {},
   "source": [
    "Выберите из списка примеры непрерывных случайных величин?\n",
    "\n",
    "- Наличие дождя\n",
    "- Время, проведённое в приложении\n",
    "- Количество выпавших осадков\n",
    "- Количество проехавших мимо остановки автобусов\n",
    "\n",
    "Количество проехавших мимо остановки автобусов измеряется в виде целого числа, наличие дождя — бинарная величина.\n",
    "\n",
    "Количество выпавших осадков и время в приложении измеряется непрерывными числами (для любого значения можно отступить ещё небольшое число и это тоже будет валидным значением)."
   ]
  },
  {
   "cell_type": "markdown",
   "id": "35572ae7",
   "metadata": {},
   "source": [
    "### 10"
   ]
  },
  {
   "cell_type": "markdown",
   "id": "76b60ae9",
   "metadata": {},
   "source": [
    "Что должно происходить с доверительным интервалом, если мы будем уменьшать уровень значимости и вычислять для него доверительный интервал той же случайной величины?\n",
    "\n",
    "Уровень значимости — вероятность, с которой значение параметра не попадает в доверительный интервал. Таким образом, чтобы уровень значимости был ниже, \"приходится\" делать интервал шире."
   ]
  },
  {
   "cell_type": "markdown",
   "id": "286e656b",
   "metadata": {},
   "source": [
    "### 11"
   ]
  },
  {
   "cell_type": "markdown",
   "id": "1ffc10e0",
   "metadata": {},
   "source": [
    "Правило 2-х сигма возникло из-за того, что для 95%-го доверительного интервала (уровня значимости 0.05) выходит, что квантили стандартного нормального распределения близки к 2.\n",
    "\n",
    "Давайте проверим, а какому доверительного интервалу соответствовало бы правило 3-х сигма?\n",
    "\n",
    "Во-первых, посчитаем, сколько попадает в хвост \"далее 3 сигма\" с одной из сторон (функция распределения как раз нам показывается вероятность всех значений до аргумента):"
   ]
  },
  {
   "cell_type": "code",
   "execution_count": 4,
   "id": "cb110bca",
   "metadata": {},
   "outputs": [
    {
     "data": {
      "text/plain": [
       "0.0013498980316301035"
      ]
     },
     "execution_count": 4,
     "metadata": {},
     "output_type": "execute_result"
    }
   ],
   "source": [
    "from scipy.stats import norm\n",
    "\n",
    "1 - norm.cdf(3)"
   ]
  },
  {
   "cell_type": "markdown",
   "id": "10d8b5f5",
   "metadata": {},
   "source": [
    "Но нас интересуют оба хвоста — надо умножить на 2. Но нам нужна не вероятность попасть в эти хвосты, а наоборот — внутрь интервала:"
   ]
  },
  {
   "cell_type": "code",
   "execution_count": 5,
   "id": "6b234964",
   "metadata": {},
   "outputs": [
    {
     "data": {
      "text/plain": [
       "0.9973002039367398"
      ]
     },
     "execution_count": 5,
     "metadata": {},
     "output_type": "execute_result"
    }
   ],
   "source": [
    "1 - (1 - norm.cdf(3)) * 2"
   ]
  },
  {
   "cell_type": "markdown",
   "id": "6b768f83",
   "metadata": {},
   "source": [
    "Можем убедиться, что не ошиблись через правило \"двух сигм\". Действительно ли по нашей формуле мы получим 95-процентный доверительный интервал."
   ]
  },
  {
   "cell_type": "code",
   "execution_count": 6,
   "id": "eccabb76",
   "metadata": {},
   "outputs": [
    {
     "data": {
      "text/plain": [
       "0.9544997361036416"
      ]
     },
     "execution_count": 6,
     "metadata": {},
     "output_type": "execute_result"
    }
   ],
   "source": [
    "1 - (1 - norm.cdf(2)) * 2"
   ]
  },
  {
   "cell_type": "markdown",
   "id": "89da4dd7",
   "metadata": {},
   "source": [
    "### 12"
   ]
  },
  {
   "cell_type": "markdown",
   "id": "9e6d5b43",
   "metadata": {},
   "source": [
    "Давайте практиковаться в построении доверительных интервалов.\n",
    "\n",
    "Для начала будем стараться строить простые интервалы «на бумаге», то есть без использования библиотек со статистическими функциями (калькулятор можно использовать).\n",
    "\n",
    "Предположим, что мы оцениваем среднюю дневную температуру в некоторой городе. В нашей выборке 63 примера, со средним значением 25 и среднеквадратичным отклонением 7 (известно заранее, а не посчитано по выборке). Рассчитайте 95%-й доверительный интервал.\n",
    "\n",
    "**Решение**\n",
    "\n",
    "Так как мы знаем истинное среднеквадратичное отклонение, то можем использовать доверительный интервал для случая известной дисперсии."
   ]
  },
  {
   "cell_type": "code",
   "execution_count": 7,
   "id": "6ffe8bb5",
   "metadata": {},
   "outputs": [],
   "source": [
    "from scipy.stats import norm\n",
    "\n",
    "mean = 25\n",
    "std = 7\n",
    "N = 63"
   ]
  },
  {
   "cell_type": "markdown",
   "id": "9d048d86",
   "metadata": {},
   "source": [
    "Посчитаем нужную квантиль:"
   ]
  },
  {
   "cell_type": "code",
   "execution_count": 8,
   "id": "b9b0afab",
   "metadata": {},
   "outputs": [],
   "source": [
    "z_alpha = norm.ppf(1-0.05/2)"
   ]
  },
  {
   "cell_type": "markdown",
   "id": "d2278602",
   "metadata": {},
   "source": [
    "Подставим в формулу доверительного интервала с лекции:"
   ]
  },
  {
   "cell_type": "code",
   "execution_count": 9,
   "id": "ec938128",
   "metadata": {},
   "outputs": [
    {
     "data": {
      "text/plain": [
       "(23.27147423942126, 26.72852576057874)"
      ]
     },
     "execution_count": 9,
     "metadata": {},
     "output_type": "execute_result"
    }
   ],
   "source": [
    "mean - z_alpha * std / np.sqrt(N), mean + z_alpha * std / np.sqrt(N)"
   ]
  },
  {
   "cell_type": "markdown",
   "id": "9facefbb",
   "metadata": {},
   "source": [
    "### 13"
   ]
  },
  {
   "cell_type": "markdown",
   "id": "b38d4619",
   "metadata": {},
   "source": [
    "Предположим, что у нас есть 25 магазинов. Средняя выручка в день составляет 170 тысяч рублей, а оценённое по этой выборке среднеквадратичное отклонение составляет 12 тысяч рублей. Оцените 95%-й доверительный интервал средней выручки магазинов.\n",
    "\n",
    "**Решение**\n",
    "\n",
    "Теперь мы не знаем истинного значения среднеквадратичного отклонения, поэтому будем использовать формулу из случая неизвестной дисперсии с использованием распределения Стьюдента:"
   ]
  },
  {
   "cell_type": "code",
   "execution_count": 10,
   "id": "b34385ff",
   "metadata": {},
   "outputs": [],
   "source": [
    "from scipy.stats import t\n",
    "\n",
    "mean = 170\n",
    "std = 12\n",
    "N = 25"
   ]
  },
  {
   "cell_type": "markdown",
   "id": "9e124a03",
   "metadata": {},
   "source": [
    "Аналогично вычислим квантиль и подставим в формулу:"
   ]
  },
  {
   "cell_type": "code",
   "execution_count": 11,
   "id": "a51a73b0",
   "metadata": {},
   "outputs": [
    {
     "data": {
      "text/plain": [
       "(165.04664345209275, 174.95335654790725)"
      ]
     },
     "execution_count": 11,
     "metadata": {},
     "output_type": "execute_result"
    }
   ],
   "source": [
    "t_alpha = t(N-1).ppf(1-0.05/2)\n",
    "\n",
    "mean - t_alpha * std / np.sqrt(N), mean + t_alpha * std / np.sqrt(N)"
   ]
  },
  {
   "cell_type": "markdown",
   "id": "6e37e689",
   "metadata": {},
   "source": [
    "### 14"
   ]
  },
  {
   "cell_type": "markdown",
   "id": "ef99452b",
   "metadata": {},
   "source": [
    "Давайте ещё попрактикуемся в построении доверительного интервала. В качестве выборки будем брать синтетические данные — сгенерируйте 1000 чисел из распределения Пуассона с параметром 50. Вам будет полезен модуль random в библиотеке numpy.\n",
    "\n",
    "Посчитайте 95-й доверительный интервал среднего на основе центральной предельной теоремы. Какая ширина интервала у вас получилась? Среди вариантов ответа выбирайте ближайший к вашему.\n",
    "\n",
    "**Решение**\n",
    "\n",
    "Сгенерируем выборку:"
   ]
  },
  {
   "cell_type": "code",
   "execution_count": 12,
   "id": "f8c945b8",
   "metadata": {},
   "outputs": [],
   "source": [
    "data = np.random.poisson(lam=50, size=1000)"
   ]
  },
  {
   "cell_type": "markdown",
   "id": "e5d9c231",
   "metadata": {},
   "source": [
    "Далее будем аналогично вычислять сам интервал, но так как нам нужна его длина, то возьмём удвоенное слагаемое из каждой границы, которое показывало, на сколько мы должны отступить от среднего:"
   ]
  },
  {
   "cell_type": "code",
   "execution_count": 13,
   "id": "5d9ce507",
   "metadata": {},
   "outputs": [
    {
     "data": {
      "text/plain": [
       "0.8692783385171217"
      ]
     },
     "execution_count": 13,
     "metadata": {},
     "output_type": "execute_result"
    }
   ],
   "source": [
    "alpha = 0.05\n",
    "\n",
    "mean = np.mean(data)\n",
    "std = np.std(data)\n",
    "N = len(data)\n",
    "t_alpha2 = t.ppf(q=1-alpha/2, df=N-1)\n",
    "\n",
    "2 * t_alpha2 * std / np.sqrt(N)"
   ]
  },
  {
   "cell_type": "markdown",
   "id": "e04f2d52",
   "metadata": {},
   "source": [
    "Если же кажется, что одного вычисления длины недостаточно, ведь мы генерируем данные и каждый раз получаем новые, то можем попробовать посмотреть, а насколько сильно может меняться длина интервала:"
   ]
  },
  {
   "cell_type": "code",
   "execution_count": 14,
   "id": "4d466f35",
   "metadata": {},
   "outputs": [],
   "source": [
    "diffs = []\n",
    "\n",
    "for _ in range(10000):\n",
    "    data = np.random.poisson(lam=50, size=1000)\n",
    "    alpha = 0.05\n",
    "\n",
    "    mean = np.mean(data)\n",
    "    std = np.std(data)\n",
    "    N = len(data)\n",
    "    t_alpha2 = t.ppf(q=1-alpha/2, df=N-1)\n",
    "\n",
    "    diffs.append(2 * t_alpha2 * std / np.sqrt(N))"
   ]
  },
  {
   "cell_type": "code",
   "execution_count": 15,
   "id": "d429e6e4",
   "metadata": {},
   "outputs": [
    {
     "data": {
      "image/png": "[encoded data removed]",
      "text/plain": [
       "<Figure size 432x288 with 1 Axes>"
      ]
     },
     "metadata": {
      "needs_background": "light"
     },
     "output_type": "display_data"
    }
   ],
   "source": [
    "import matplotlib.pyplot as plt\n",
    "import seaborn as sns\n",
    "\n",
    "sns.histplot(diffs)\n",
    "plt.show()"
   ]
  },
  {
   "cell_type": "markdown",
   "id": "cbf287fe",
   "metadata": {},
   "source": [
    "### 15"
   ]
  },
  {
   "cell_type": "markdown",
   "id": "408a0cdc",
   "metadata": {},
   "source": [
    "Воспользуемся тем же набором данных (синтетическим из распределения Пуассона).\n",
    "\n",
    "Постройте 95-й доверительный интервал на среднеквадратичное отклонение с помощью бутстрэпа. Рекомендуется попробовать сделать это вручную (генерировать бутстрапированные выборки в цикле, сохранять нужную статистику, вычислять квантили вычисленного ряда статистик) и с помощью соответствующей функции из модуля stats библиотеки scipy. Внимание, у функции bootstrap есть параметр method, который определяет, как будут вычисляться границы доверительного интервала. В нашем случае это был percentile.\n",
    "\n",
    "**Решение**\n",
    "\n",
    "Снова сгенерируем данные:"
   ]
  },
  {
   "cell_type": "code",
   "execution_count": 16,
   "id": "f8d9a1ff",
   "metadata": {},
   "outputs": [],
   "source": [
    "data = np.random.poisson(lam=50, size=1000)"
   ]
  },
  {
   "cell_type": "markdown",
   "id": "179d9940",
   "metadata": {},
   "source": [
    "Вызовем функцию для вычисления доверительного интервала, передадим ей нужную нам статистику, укажем уровень значимости и число семплирований."
   ]
  },
  {
   "cell_type": "code",
   "execution_count": 17,
   "id": "6a836909",
   "metadata": {},
   "outputs": [
    {
     "data": {
      "text/plain": [
       "ConfidenceInterval(low=6.651356211427388, high=7.268795229253371)"
      ]
     },
     "execution_count": 17,
     "metadata": {},
     "output_type": "execute_result"
    }
   ],
   "source": [
    "from scipy.stats import bootstrap\n",
    "\n",
    "bootstrap(\n",
    "    data=(data,),\n",
    "    statistic=np.std,\n",
    "    confidence_level=0.95,\n",
    "    n_resamples=1000,\n",
    "    method='BCa',\n",
    ").confidence_interval"
   ]
  },
  {
   "cell_type": "markdown",
   "id": "1b5d629a",
   "metadata": {},
   "source": [
    "### 16"
   ]
  },
  {
   "cell_type": "markdown",
   "id": "4fe36b57",
   "metadata": {},
   "source": [
    "А теперь давайте воспользуемся доверительными интервалами, чтобы сделать более точные выводы о метриках модели.\n",
    "\n",
    "Это задача предсказания средней цены в области на дом. Давайте оценим 95-процентный доверительный интервал на MSE Ridge-регрессии для этой выборки. Будем использовать бутстрэп для этого.\n",
    "\n",
    "Для этого в цикле будем генерировать бутстрэп-выборки для обучения модели (то есть брать объекты из выборки с возвращением). В качестве тестовых объектов будем брать оставшиеся объекты. Каждый раз будем обучать модель и оценивать качество.\n",
    "\n",
    "Реализуйте такой код для 95-процентного доверительного интервала на MSE.\n",
    "\n",
    "**Решение**\n",
    "\n",
    "Подготовим данные:"
   ]
  },
  {
   "cell_type": "code",
   "execution_count": 18,
   "id": "6094bab5",
   "metadata": {},
   "outputs": [],
   "source": [
    "from sklearn.datasets import fetch_california_housing\n",
    "\n",
    "X, y = fetch_california_housing(return_X_y=True, as_frame=True)"
   ]
  },
  {
   "cell_type": "markdown",
   "id": "200773b9",
   "metadata": {},
   "source": [
    "Подготовим функцию-статистику, которая:\n",
    "- разбивает датасет на две части (обучающую выборку бустрапом)\n",
    "- обучает модель\n",
    "- оценивает качество на тестовой части"
   ]
  },
  {
   "cell_type": "code",
   "execution_count": 19,
   "id": "2eda4710",
   "metadata": {},
   "outputs": [],
   "source": [
    "from sklearn.metrics import mean_squared_error\n",
    "from sklearn.linear_model import Ridge\n",
    "\n",
    "def my_statisctic(X, y):\n",
    "    idx = np.arange(len(y))\n",
    "\n",
    "    train_idx = np.random.choice(idx, size=idx.shape[0], replace=True)\n",
    "    valid_idx = np.setdiff1d(idx, train_idx, assume_unique=False)\n",
    "\n",
    "    boot_train_X, boot_train_y = X[train_idx], y[train_idx]\n",
    "    boot_valid_X, boot_valid_y = X[valid_idx], y[valid_idx]\n",
    "    \n",
    "    boot_predict = Ridge().fit(boot_train_X, boot_train_y).predict(boot_valid_X)\n",
    "    rmse = mean_squared_error(boot_valid_y, boot_predict) \n",
    "    \n",
    "    return rmse"
   ]
  },
  {
   "cell_type": "markdown",
   "id": "fbd3d29d",
   "metadata": {},
   "source": [
    "Теперь повторим эту процендуру 1000 раз, соберём бутстрап-распределение:"
   ]
  },
  {
   "cell_type": "code",
   "execution_count": 20,
   "id": "00cc605c",
   "metadata": {
    "scrolled": true
   },
   "outputs": [],
   "source": [
    "n_iter = 1000\n",
    "stats = []\n",
    "\n",
    "for _ in range(n_iter):\n",
    "    stats.append(my_statisctic(X.values, y))"
   ]
  },
  {
   "cell_type": "markdown",
   "id": "f7f07373",
   "metadata": {},
   "source": [
    "Посчитаем доверительный интервал:"
   ]
  },
  {
   "cell_type": "code",
   "execution_count": 21,
   "id": "b094f8f6",
   "metadata": {
    "scrolled": true
   },
   "outputs": [
    {
     "data": {
      "text/plain": [
       "array([0.50709444, 1.10221413])"
      ]
     },
     "execution_count": 21,
     "metadata": {},
     "output_type": "execute_result"
    }
   ],
   "source": [
    "np.quantile(stats, [0.025, 0.975])"
   ]
  },
  {
   "cell_type": "markdown",
   "id": "1d549e96",
   "metadata": {},
   "source": [
    "### 17"
   ]
  },
  {
   "cell_type": "markdown",
   "id": "63a23e36",
   "metadata": {},
   "source": [
    "Давайте оценим, насколько хорошие интервалы у нас получается строить.\n",
    "\n",
    "Напишите функцию, которая генерирует случайную выборку из нормального распределения (давайте возьмём среднее значение, равное 3, среднеквадратичное отклонение, равное 4, а в выборке будет 1000 объектов).\n",
    "\n",
    "Возьмите из предыдущих заданий код для построение соответствующего 95-процентного доверительного интервала для среднего на основе центральной предельной теоремы.\n",
    "\n",
    "Повторите процедуру генерации выборки, построения доверительного интервала 1000 раз. Каждый раз проверяйте, действительно ли доверительный интервал покрыл ваше истинное среднее значение. \n",
    "\n",
    "Посчитайте долю случаев, когда интервал покрыл истинное значение. Ближе к какому значению вы получили ответ?\n",
    "\n",
    "**Решение**\n",
    "\n",
    "На самом деле ответ следует из определения доверительных интвервалов, но давайте убедимся в этом.\n",
    "\n",
    "Подготовим функцию для генерации данных:"
   ]
  },
  {
   "cell_type": "code",
   "execution_count": 22,
   "id": "d88d20b7",
   "metadata": {},
   "outputs": [],
   "source": [
    "def get_samples(loc, scale, size=1000):\n",
    "    return np.random.normal(loc=loc, scale=scale, size=size)"
   ]
  },
  {
   "cell_type": "markdown",
   "id": "b9fa8d43",
   "metadata": {},
   "source": [
    "Подготовим функцию, которая будет вычислять доверительный интервал:"
   ]
  },
  {
   "cell_type": "code",
   "execution_count": 23,
   "id": "22225fb8",
   "metadata": {},
   "outputs": [],
   "source": [
    "from scipy.stats import t\n",
    "\n",
    "def get_ci_interval(data, alpha):\n",
    "    mean = np.mean(data)\n",
    "    std = np.std(data)\n",
    "    N = len(data)\n",
    "    t_alpha2 = t.ppf(q=1-alpha/2, df=N-1)\n",
    "\n",
    "    return mean - t_alpha2 * std / np.sqrt(N), mean + t_alpha2 * std / np.sqrt(N)"
   ]
  },
  {
   "cell_type": "markdown",
   "id": "13712d59",
   "metadata": {},
   "source": [
    "Попробуем повторить процедуру построения доверительных интервалов 1000 раз с некоторыми настройками генерации данных, каждый раз будем проверить, а настоящее среднее значение попало в доверительный интервал или нет"
   ]
  },
  {
   "cell_type": "code",
   "execution_count": 24,
   "id": "0cad251f",
   "metadata": {},
   "outputs": [],
   "source": [
    "alpha = 0.05\n",
    "n_iter = 1000\n",
    "mu, sigma = 3, 4\n",
    "result = []\n",
    "\n",
    "for _ in range(n_iter):\n",
    "    samples = get_samples(loc=3, scale=5, size=1000)\n",
    "    ci_l, ci_r = get_ci_interval(samples, alpha)\n",
    "    result.append(ci_l <= mu <= ci_r)"
   ]
  },
  {
   "cell_type": "markdown",
   "id": "c4a76788",
   "metadata": {},
   "source": [
    "Проверим, а сколько раз оно действительно попало"
   ]
  },
  {
   "cell_type": "code",
   "execution_count": 25,
   "id": "a04c6af2",
   "metadata": {},
   "outputs": [
    {
     "data": {
      "text/plain": [
       "0.957"
      ]
     },
     "execution_count": 25,
     "metadata": {},
     "output_type": "execute_result"
    }
   ],
   "source": [
    "np.mean(result)"
   ]
  }
 ],
 "metadata": {
  "kernelspec": {
   "display_name": "Python 3 (ipykernel)",
   "language": "python",
   "name": "python3"
  },
  "language_info": {
   "codemirror_mode": {
    "name": "ipython",
    "version": 3
   },
   "file_extension": ".py",
   "mimetype": "text/x-python",
   "name": "python",
   "nbconvert_exporter": "python",
   "pygments_lexer": "ipython3",
   "version": "3.9.7"
  }
 },
 "nbformat": 4,
 "nbformat_minor": 5
}

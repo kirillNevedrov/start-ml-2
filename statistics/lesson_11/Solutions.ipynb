{
 "cells": [
  {
   "cell_type": "code",
   "execution_count": 3,
   "id": "f9565e7a",
   "metadata": {},
   "outputs": [],
   "source": [
    "import pandas as pd"
   ]
  },
  {
   "cell_type": "code",
   "execution_count": 4,
   "id": "70c88d6d",
   "metadata": {},
   "outputs": [
    {
     "data": {
      "text/html": [
       "<div>\n",
       "<style scoped>\n",
       "    .dataframe tbody tr th:only-of-type {\n",
       "        vertical-align: middle;\n",
       "    }\n",
       "\n",
       "    .dataframe tbody tr th {\n",
       "        vertical-align: top;\n",
       "    }\n",
       "\n",
       "    .dataframe thead th {\n",
       "        text-align: right;\n",
       "    }\n",
       "</style>\n",
       "<table border=\"1\" class=\"dataframe\">\n",
       "  <thead>\n",
       "    <tr style=\"text-align: right;\">\n",
       "      <th></th>\n",
       "      <th>user_id</th>\n",
       "      <th>exp_group</th>\n",
       "      <th>recommendations</th>\n",
       "      <th>timestamp</th>\n",
       "    </tr>\n",
       "  </thead>\n",
       "  <tbody>\n",
       "    <tr>\n",
       "      <th>0</th>\n",
       "      <td>128381</td>\n",
       "      <td>control</td>\n",
       "      <td>[3644 4529 4704 5294 4808]</td>\n",
       "      <td>1654030803</td>\n",
       "    </tr>\n",
       "    <tr>\n",
       "      <th>1</th>\n",
       "      <td>146885</td>\n",
       "      <td>test</td>\n",
       "      <td>[1399 1076  797 7015 5942]</td>\n",
       "      <td>1654030811</td>\n",
       "    </tr>\n",
       "    <tr>\n",
       "      <th>2</th>\n",
       "      <td>50948</td>\n",
       "      <td>test</td>\n",
       "      <td>[2315 3037 1861 6567 4093]</td>\n",
       "      <td>1654030825</td>\n",
       "    </tr>\n",
       "    <tr>\n",
       "      <th>3</th>\n",
       "      <td>37703</td>\n",
       "      <td>test</td>\n",
       "      <td>[2842 1949  162 1588 6794]</td>\n",
       "      <td>1654030826</td>\n",
       "    </tr>\n",
       "    <tr>\n",
       "      <th>4</th>\n",
       "      <td>14661</td>\n",
       "      <td>test</td>\n",
       "      <td>[2395 5881 5648 3417  673]</td>\n",
       "      <td>1654030829</td>\n",
       "    </tr>\n",
       "    <tr>\n",
       "      <th>...</th>\n",
       "      <td>...</td>\n",
       "      <td>...</td>\n",
       "      <td>...</td>\n",
       "      <td>...</td>\n",
       "    </tr>\n",
       "    <tr>\n",
       "      <th>193290</th>\n",
       "      <td>158267</td>\n",
       "      <td>test</td>\n",
       "      <td>[1733 6834 4380 1915 1627]</td>\n",
       "      <td>1655240340</td>\n",
       "    </tr>\n",
       "    <tr>\n",
       "      <th>193291</th>\n",
       "      <td>63527</td>\n",
       "      <td>control</td>\n",
       "      <td>[2454  191 3873 6404 1588]</td>\n",
       "      <td>1655240347</td>\n",
       "    </tr>\n",
       "    <tr>\n",
       "      <th>193292</th>\n",
       "      <td>52169</td>\n",
       "      <td>test</td>\n",
       "      <td>[1368 1709 1616  798 5305]</td>\n",
       "      <td>1655240354</td>\n",
       "    </tr>\n",
       "    <tr>\n",
       "      <th>193293</th>\n",
       "      <td>142402</td>\n",
       "      <td>test</td>\n",
       "      <td>[5895 6984 1978 6548 6106]</td>\n",
       "      <td>1655240373</td>\n",
       "    </tr>\n",
       "    <tr>\n",
       "      <th>193294</th>\n",
       "      <td>72259</td>\n",
       "      <td>control</td>\n",
       "      <td>[6117 1255 6567 3587 3811]</td>\n",
       "      <td>1655240388</td>\n",
       "    </tr>\n",
       "  </tbody>\n",
       "</table>\n",
       "<p>193295 rows × 4 columns</p>\n",
       "</div>"
      ],
      "text/plain": [
       "        user_id exp_group             recommendations   timestamp\n",
       "0        128381   control  [3644 4529 4704 5294 4808]  1654030803\n",
       "1        146885      test  [1399 1076  797 7015 5942]  1654030811\n",
       "2         50948      test  [2315 3037 1861 6567 4093]  1654030825\n",
       "3         37703      test  [2842 1949  162 1588 6794]  1654030826\n",
       "4         14661      test  [2395 5881 5648 3417  673]  1654030829\n",
       "...         ...       ...                         ...         ...\n",
       "193290   158267      test  [1733 6834 4380 1915 1627]  1655240340\n",
       "193291    63527   control  [2454  191 3873 6404 1588]  1655240347\n",
       "193292    52169      test  [1368 1709 1616  798 5305]  1655240354\n",
       "193293   142402      test  [5895 6984 1978 6548 6106]  1655240373\n",
       "193294    72259   control  [6117 1255 6567 3587 3811]  1655240388\n",
       "\n",
       "[193295 rows x 4 columns]"
      ]
     },
     "execution_count": 4,
     "metadata": {},
     "output_type": "execute_result"
    }
   ],
   "source": [
    "pd.read_csv('views.csv')"
   ]
  },
  {
   "cell_type": "code",
   "execution_count": 2,
   "id": "00afdc86",
   "metadata": {},
   "outputs": [
    {
     "data": {
      "text/html": [
       "<div>\n",
       "<style scoped>\n",
       "    .dataframe tbody tr th:only-of-type {\n",
       "        vertical-align: middle;\n",
       "    }\n",
       "\n",
       "    .dataframe tbody tr th {\n",
       "        vertical-align: top;\n",
       "    }\n",
       "\n",
       "    .dataframe thead th {\n",
       "        text-align: right;\n",
       "    }\n",
       "</style>\n",
       "<table border=\"1\" class=\"dataframe\">\n",
       "  <thead>\n",
       "    <tr style=\"text-align: right;\">\n",
       "      <th></th>\n",
       "      <th>user_id</th>\n",
       "      <th>post_id</th>\n",
       "      <th>timestamp</th>\n",
       "    </tr>\n",
       "  </thead>\n",
       "  <tbody>\n",
       "    <tr>\n",
       "      <th>0</th>\n",
       "      <td>128381</td>\n",
       "      <td>4704</td>\n",
       "      <td>1654030804</td>\n",
       "    </tr>\n",
       "    <tr>\n",
       "      <th>1</th>\n",
       "      <td>146885</td>\n",
       "      <td>1399</td>\n",
       "      <td>1654030816</td>\n",
       "    </tr>\n",
       "    <tr>\n",
       "      <th>2</th>\n",
       "      <td>50948</td>\n",
       "      <td>2315</td>\n",
       "      <td>1654030828</td>\n",
       "    </tr>\n",
       "    <tr>\n",
       "      <th>3</th>\n",
       "      <td>14661</td>\n",
       "      <td>673</td>\n",
       "      <td>1654030831</td>\n",
       "    </tr>\n",
       "    <tr>\n",
       "      <th>4</th>\n",
       "      <td>37703</td>\n",
       "      <td>1588</td>\n",
       "      <td>1654030833</td>\n",
       "    </tr>\n",
       "    <tr>\n",
       "      <th>...</th>\n",
       "      <td>...</td>\n",
       "      <td>...</td>\n",
       "      <td>...</td>\n",
       "    </tr>\n",
       "    <tr>\n",
       "      <th>230171</th>\n",
       "      <td>31851</td>\n",
       "      <td>5964</td>\n",
       "      <td>1655243535</td>\n",
       "    </tr>\n",
       "    <tr>\n",
       "      <th>230172</th>\n",
       "      <td>51512</td>\n",
       "      <td>1498</td>\n",
       "      <td>1655243537</td>\n",
       "    </tr>\n",
       "    <tr>\n",
       "      <th>230173</th>\n",
       "      <td>34017</td>\n",
       "      <td>5009</td>\n",
       "      <td>1655243573</td>\n",
       "    </tr>\n",
       "    <tr>\n",
       "      <th>230174</th>\n",
       "      <td>13267</td>\n",
       "      <td>1787</td>\n",
       "      <td>1655243692</td>\n",
       "    </tr>\n",
       "    <tr>\n",
       "      <th>230175</th>\n",
       "      <td>67302</td>\n",
       "      <td>7255</td>\n",
       "      <td>1655243736</td>\n",
       "    </tr>\n",
       "  </tbody>\n",
       "</table>\n",
       "<p>230176 rows × 3 columns</p>\n",
       "</div>"
      ],
      "text/plain": [
       "        user_id  post_id   timestamp\n",
       "0        128381     4704  1654030804\n",
       "1        146885     1399  1654030816\n",
       "2         50948     2315  1654030828\n",
       "3         14661      673  1654030831\n",
       "4         37703     1588  1654030833\n",
       "...         ...      ...         ...\n",
       "230171    31851     5964  1655243535\n",
       "230172    51512     1498  1655243537\n",
       "230173    34017     5009  1655243573\n",
       "230174    13267     1787  1655243692\n",
       "230175    67302     7255  1655243736\n",
       "\n",
       "[230176 rows x 3 columns]"
      ]
     },
     "execution_count": 2,
     "metadata": {},
     "output_type": "execute_result"
    }
   ],
   "source": [
    "pd.read_csv('likes.csv')"
   ]
  },
  {
   "cell_type": "code",
   "execution_count": 26,
   "id": "4dd06325",
   "metadata": {},
   "outputs": [],
   "source": [
    "views_data = pd.read_csv('views.csv')"
   ]
  },
  {
   "cell_type": "code",
   "execution_count": 27,
   "id": "cff134f7",
   "metadata": {},
   "outputs": [],
   "source": [
    "user_group_counts = views_data.groupby(['user_id']).exp_group.nunique()\n",
    "\n",
    "user_ids_to_delete = user_group_counts[user_group_counts > 1].index.values"
   ]
  },
  {
   "cell_type": "code",
   "execution_count": 28,
   "id": "c40d52f7",
   "metadata": {},
   "outputs": [
    {
     "data": {
      "text/html": [
       "<div>\n",
       "<style scoped>\n",
       "    .dataframe tbody tr th:only-of-type {\n",
       "        vertical-align: middle;\n",
       "    }\n",
       "\n",
       "    .dataframe tbody tr th {\n",
       "        vertical-align: top;\n",
       "    }\n",
       "\n",
       "    .dataframe thead th {\n",
       "        text-align: right;\n",
       "    }\n",
       "</style>\n",
       "<table border=\"1\" class=\"dataframe\">\n",
       "  <thead>\n",
       "    <tr style=\"text-align: right;\">\n",
       "      <th></th>\n",
       "      <th>user_id</th>\n",
       "      <th>exp_group</th>\n",
       "      <th>recommendations</th>\n",
       "      <th>timestamp</th>\n",
       "    </tr>\n",
       "  </thead>\n",
       "  <tbody>\n",
       "    <tr>\n",
       "      <th>0</th>\n",
       "      <td>128381</td>\n",
       "      <td>control</td>\n",
       "      <td>[3644 4529 4704 5294 4808]</td>\n",
       "      <td>1654030803</td>\n",
       "    </tr>\n",
       "    <tr>\n",
       "      <th>1</th>\n",
       "      <td>146885</td>\n",
       "      <td>test</td>\n",
       "      <td>[1399 1076  797 7015 5942]</td>\n",
       "      <td>1654030811</td>\n",
       "    </tr>\n",
       "    <tr>\n",
       "      <th>2</th>\n",
       "      <td>50948</td>\n",
       "      <td>test</td>\n",
       "      <td>[2315 3037 1861 6567 4093]</td>\n",
       "      <td>1654030825</td>\n",
       "    </tr>\n",
       "    <tr>\n",
       "      <th>3</th>\n",
       "      <td>37703</td>\n",
       "      <td>test</td>\n",
       "      <td>[2842 1949  162 1588 6794]</td>\n",
       "      <td>1654030826</td>\n",
       "    </tr>\n",
       "    <tr>\n",
       "      <th>4</th>\n",
       "      <td>14661</td>\n",
       "      <td>test</td>\n",
       "      <td>[2395 5881 5648 3417  673]</td>\n",
       "      <td>1654030829</td>\n",
       "    </tr>\n",
       "    <tr>\n",
       "      <th>...</th>\n",
       "      <td>...</td>\n",
       "      <td>...</td>\n",
       "      <td>...</td>\n",
       "      <td>...</td>\n",
       "    </tr>\n",
       "    <tr>\n",
       "      <th>193290</th>\n",
       "      <td>158267</td>\n",
       "      <td>test</td>\n",
       "      <td>[1733 6834 4380 1915 1627]</td>\n",
       "      <td>1655240340</td>\n",
       "    </tr>\n",
       "    <tr>\n",
       "      <th>193291</th>\n",
       "      <td>63527</td>\n",
       "      <td>control</td>\n",
       "      <td>[2454  191 3873 6404 1588]</td>\n",
       "      <td>1655240347</td>\n",
       "    </tr>\n",
       "    <tr>\n",
       "      <th>193292</th>\n",
       "      <td>52169</td>\n",
       "      <td>test</td>\n",
       "      <td>[1368 1709 1616  798 5305]</td>\n",
       "      <td>1655240354</td>\n",
       "    </tr>\n",
       "    <tr>\n",
       "      <th>193293</th>\n",
       "      <td>142402</td>\n",
       "      <td>test</td>\n",
       "      <td>[5895 6984 1978 6548 6106]</td>\n",
       "      <td>1655240373</td>\n",
       "    </tr>\n",
       "    <tr>\n",
       "      <th>193294</th>\n",
       "      <td>72259</td>\n",
       "      <td>control</td>\n",
       "      <td>[6117 1255 6567 3587 3811]</td>\n",
       "      <td>1655240388</td>\n",
       "    </tr>\n",
       "  </tbody>\n",
       "</table>\n",
       "<p>193268 rows × 4 columns</p>\n",
       "</div>"
      ],
      "text/plain": [
       "        user_id exp_group             recommendations   timestamp\n",
       "0        128381   control  [3644 4529 4704 5294 4808]  1654030803\n",
       "1        146885      test  [1399 1076  797 7015 5942]  1654030811\n",
       "2         50948      test  [2315 3037 1861 6567 4093]  1654030825\n",
       "3         37703      test  [2842 1949  162 1588 6794]  1654030826\n",
       "4         14661      test  [2395 5881 5648 3417  673]  1654030829\n",
       "...         ...       ...                         ...         ...\n",
       "193290   158267      test  [1733 6834 4380 1915 1627]  1655240340\n",
       "193291    63527   control  [2454  191 3873 6404 1588]  1655240347\n",
       "193292    52169      test  [1368 1709 1616  798 5305]  1655240354\n",
       "193293   142402      test  [5895 6984 1978 6548 6106]  1655240373\n",
       "193294    72259   control  [6117 1255 6567 3587 3811]  1655240388\n",
       "\n",
       "[193268 rows x 4 columns]"
      ]
     },
     "execution_count": 28,
     "metadata": {},
     "output_type": "execute_result"
    }
   ],
   "source": [
    "views_data = views_data[~views_data.user_id.isin(user_ids_to_delete)]\n",
    "\n",
    "views_data"
   ]
  },
  {
   "cell_type": "code",
   "execution_count": 29,
   "id": "2a1a09dd",
   "metadata": {},
   "outputs": [
    {
     "data": {
      "text/html": [
       "<div>\n",
       "<style scoped>\n",
       "    .dataframe tbody tr th:only-of-type {\n",
       "        vertical-align: middle;\n",
       "    }\n",
       "\n",
       "    .dataframe tbody tr th {\n",
       "        vertical-align: top;\n",
       "    }\n",
       "\n",
       "    .dataframe thead th {\n",
       "        text-align: right;\n",
       "    }\n",
       "</style>\n",
       "<table border=\"1\" class=\"dataframe\">\n",
       "  <thead>\n",
       "    <tr style=\"text-align: right;\">\n",
       "      <th></th>\n",
       "      <th>user_id</th>\n",
       "      <th>post_id</th>\n",
       "      <th>timestamp</th>\n",
       "    </tr>\n",
       "  </thead>\n",
       "  <tbody>\n",
       "    <tr>\n",
       "      <th>0</th>\n",
       "      <td>128381</td>\n",
       "      <td>4704</td>\n",
       "      <td>1654030804</td>\n",
       "    </tr>\n",
       "    <tr>\n",
       "      <th>1</th>\n",
       "      <td>146885</td>\n",
       "      <td>1399</td>\n",
       "      <td>1654030816</td>\n",
       "    </tr>\n",
       "    <tr>\n",
       "      <th>2</th>\n",
       "      <td>50948</td>\n",
       "      <td>2315</td>\n",
       "      <td>1654030828</td>\n",
       "    </tr>\n",
       "    <tr>\n",
       "      <th>3</th>\n",
       "      <td>14661</td>\n",
       "      <td>673</td>\n",
       "      <td>1654030831</td>\n",
       "    </tr>\n",
       "    <tr>\n",
       "      <th>4</th>\n",
       "      <td>37703</td>\n",
       "      <td>1588</td>\n",
       "      <td>1654030833</td>\n",
       "    </tr>\n",
       "    <tr>\n",
       "      <th>...</th>\n",
       "      <td>...</td>\n",
       "      <td>...</td>\n",
       "      <td>...</td>\n",
       "    </tr>\n",
       "    <tr>\n",
       "      <th>230171</th>\n",
       "      <td>31851</td>\n",
       "      <td>5964</td>\n",
       "      <td>1655243535</td>\n",
       "    </tr>\n",
       "    <tr>\n",
       "      <th>230172</th>\n",
       "      <td>51512</td>\n",
       "      <td>1498</td>\n",
       "      <td>1655243537</td>\n",
       "    </tr>\n",
       "    <tr>\n",
       "      <th>230173</th>\n",
       "      <td>34017</td>\n",
       "      <td>5009</td>\n",
       "      <td>1655243573</td>\n",
       "    </tr>\n",
       "    <tr>\n",
       "      <th>230174</th>\n",
       "      <td>13267</td>\n",
       "      <td>1787</td>\n",
       "      <td>1655243692</td>\n",
       "    </tr>\n",
       "    <tr>\n",
       "      <th>230175</th>\n",
       "      <td>67302</td>\n",
       "      <td>7255</td>\n",
       "      <td>1655243736</td>\n",
       "    </tr>\n",
       "  </tbody>\n",
       "</table>\n",
       "<p>230137 rows × 3 columns</p>\n",
       "</div>"
      ],
      "text/plain": [
       "        user_id  post_id   timestamp\n",
       "0        128381     4704  1654030804\n",
       "1        146885     1399  1654030816\n",
       "2         50948     2315  1654030828\n",
       "3         14661      673  1654030831\n",
       "4         37703     1588  1654030833\n",
       "...         ...      ...         ...\n",
       "230171    31851     5964  1655243535\n",
       "230172    51512     1498  1655243537\n",
       "230173    34017     5009  1655243573\n",
       "230174    13267     1787  1655243692\n",
       "230175    67302     7255  1655243736\n",
       "\n",
       "[230137 rows x 3 columns]"
      ]
     },
     "execution_count": 29,
     "metadata": {},
     "output_type": "execute_result"
    }
   ],
   "source": [
    "likes_data = pd.read_csv('likes.csv')\n",
    "\n",
    "likes_data = likes_data[~likes_data.user_id.isin(user_ids_to_delete)]\n",
    "\n",
    "likes_data"
   ]
  },
  {
   "cell_type": "code",
   "execution_count": 31,
   "id": "86d7ce88",
   "metadata": {},
   "outputs": [
    {
     "data": {
      "text/plain": [
       "exp_group\n",
       "control    32350\n",
       "test       32659\n",
       "Name: user_id, dtype: int64"
      ]
     },
     "execution_count": 31,
     "metadata": {},
     "output_type": "execute_result"
    }
   ],
   "source": [
    "views_data.groupby(['exp_group']).user_id.nunique()"
   ]
  },
  {
   "cell_type": "code",
   "execution_count": 32,
   "id": "76ae0100",
   "metadata": {},
   "outputs": [
    {
     "data": {
      "text/plain": [
       "(0.49377990987374615, 0.5014669021061336)"
      ]
     },
     "execution_count": 32,
     "metadata": {},
     "output_type": "execute_result"
    }
   ],
   "source": [
    "from statsmodels.stats.proportion import proportion_confint\n",
    "\n",
    "proportion_confint(32350, 32350 + 32659, alpha=0.05, method='normal')"
   ]
  },
  {
   "cell_type": "code",
   "execution_count": 40,
   "id": "a037e848",
   "metadata": {},
   "outputs": [
    {
     "data": {
      "text/plain": [
       "user_id\n",
       "200       1\n",
       "201       3\n",
       "202       2\n",
       "212       4\n",
       "213       7\n",
       "         ..\n",
       "168525    2\n",
       "168532    4\n",
       "168538    5\n",
       "168541    2\n",
       "168545    5\n",
       "Name: post_id, Length: 58167, dtype: int64"
      ]
     },
     "execution_count": 40,
     "metadata": {},
     "output_type": "execute_result"
    }
   ],
   "source": [
    "likes_data.groupby(['user_id']).post_id.count()"
   ]
  },
  {
   "cell_type": "code",
   "execution_count": 53,
   "id": "4e387f83",
   "metadata": {},
   "outputs": [
    {
     "data": {
      "text/plain": [
       "user_id\n",
       "200          test\n",
       "201          test\n",
       "202          test\n",
       "212          test\n",
       "213          test\n",
       "           ...   \n",
       "168538       test\n",
       "168541    control\n",
       "168544       test\n",
       "168545       test\n",
       "168552    control\n",
       "Name: exp_group, Length: 65009, dtype: object"
      ]
     },
     "execution_count": 53,
     "metadata": {},
     "output_type": "execute_result"
    }
   ],
   "source": [
    "views_data.groupby(['user_id']).exp_group.first()"
   ]
  },
  {
   "cell_type": "code",
   "execution_count": 54,
   "id": "ce9a8d44",
   "metadata": {},
   "outputs": [
    {
     "data": {
      "text/html": [
       "<div>\n",
       "<style scoped>\n",
       "    .dataframe tbody tr th:only-of-type {\n",
       "        vertical-align: middle;\n",
       "    }\n",
       "\n",
       "    .dataframe tbody tr th {\n",
       "        vertical-align: top;\n",
       "    }\n",
       "\n",
       "    .dataframe thead th {\n",
       "        text-align: right;\n",
       "    }\n",
       "</style>\n",
       "<table border=\"1\" class=\"dataframe\">\n",
       "  <thead>\n",
       "    <tr style=\"text-align: right;\">\n",
       "      <th></th>\n",
       "      <th>exp_group</th>\n",
       "      <th>post_id</th>\n",
       "    </tr>\n",
       "    <tr>\n",
       "      <th>user_id</th>\n",
       "      <th></th>\n",
       "      <th></th>\n",
       "    </tr>\n",
       "  </thead>\n",
       "  <tbody>\n",
       "    <tr>\n",
       "      <th>200</th>\n",
       "      <td>test</td>\n",
       "      <td>1.0</td>\n",
       "    </tr>\n",
       "    <tr>\n",
       "      <th>201</th>\n",
       "      <td>test</td>\n",
       "      <td>3.0</td>\n",
       "    </tr>\n",
       "    <tr>\n",
       "      <th>202</th>\n",
       "      <td>test</td>\n",
       "      <td>2.0</td>\n",
       "    </tr>\n",
       "    <tr>\n",
       "      <th>212</th>\n",
       "      <td>test</td>\n",
       "      <td>4.0</td>\n",
       "    </tr>\n",
       "    <tr>\n",
       "      <th>213</th>\n",
       "      <td>test</td>\n",
       "      <td>7.0</td>\n",
       "    </tr>\n",
       "    <tr>\n",
       "      <th>...</th>\n",
       "      <td>...</td>\n",
       "      <td>...</td>\n",
       "    </tr>\n",
       "    <tr>\n",
       "      <th>168538</th>\n",
       "      <td>test</td>\n",
       "      <td>5.0</td>\n",
       "    </tr>\n",
       "    <tr>\n",
       "      <th>168541</th>\n",
       "      <td>control</td>\n",
       "      <td>2.0</td>\n",
       "    </tr>\n",
       "    <tr>\n",
       "      <th>168544</th>\n",
       "      <td>test</td>\n",
       "      <td>0.0</td>\n",
       "    </tr>\n",
       "    <tr>\n",
       "      <th>168545</th>\n",
       "      <td>test</td>\n",
       "      <td>5.0</td>\n",
       "    </tr>\n",
       "    <tr>\n",
       "      <th>168552</th>\n",
       "      <td>control</td>\n",
       "      <td>0.0</td>\n",
       "    </tr>\n",
       "  </tbody>\n",
       "</table>\n",
       "<p>65009 rows × 2 columns</p>\n",
       "</div>"
      ],
      "text/plain": [
       "        exp_group  post_id\n",
       "user_id                   \n",
       "200          test      1.0\n",
       "201          test      3.0\n",
       "202          test      2.0\n",
       "212          test      4.0\n",
       "213          test      7.0\n",
       "...           ...      ...\n",
       "168538       test      5.0\n",
       "168541    control      2.0\n",
       "168544       test      0.0\n",
       "168545       test      5.0\n",
       "168552    control      0.0\n",
       "\n",
       "[65009 rows x 2 columns]"
      ]
     },
     "execution_count": 54,
     "metadata": {},
     "output_type": "execute_result"
    }
   ],
   "source": [
    "users_by_likes = pd.concat([views_data.groupby(['user_id']).exp_group.first(), likes_data.groupby(['user_id']).post_id.count()], axis=1).fillna(0)\n",
    "users_by_likes"
   ]
  },
  {
   "cell_type": "code",
   "execution_count": 55,
   "id": "9b2537de",
   "metadata": {},
   "outputs": [
    {
     "data": {
      "text/plain": [
       "0.8947530341952653"
      ]
     },
     "execution_count": 55,
     "metadata": {},
     "output_type": "execute_result"
    }
   ],
   "source": [
    "users_by_likes[users_by_likes.post_id > 0].shape[0] / users_by_likes.shape[0]"
   ]
  },
  {
   "cell_type": "code",
   "execution_count": 65,
   "id": "2bedb078",
   "metadata": {},
   "outputs": [],
   "source": [
    "import seaborn as sns\n",
    "import numpy as np"
   ]
  },
  {
   "cell_type": "code",
   "execution_count": 70,
   "id": "6a0c7165",
   "metadata": {},
   "outputs": [
    {
     "data": {
      "text/plain": [
       "<AxesSubplot:xlabel='post_id', ylabel='Count'>"
      ]
     },
     "execution_count": 70,
     "metadata": {},
     "output_type": "execute_result"
    },
    {
     "data": {
      "image/png": "[encoded data removed]",
      "text/plain": [
       "<Figure size 432x288 with 1 Axes>"
      ]
     },
     "metadata": {
      "needs_background": "light"
     },
     "output_type": "display_data"
    }
   ],
   "source": [
    "sns.histplot(users_by_likes[users_by_likes.exp_group == 'test'].post_id, bins=30, kde=True, color='red', alpha=0.5)"
   ]
  },
  {
   "cell_type": "code",
   "execution_count": 62,
   "id": "b72be41f",
   "metadata": {},
   "outputs": [
    {
     "data": {
      "text/plain": [
       "<AxesSubplot:xlabel='post_id', ylabel='Count'>"
      ]
     },
     "execution_count": 62,
     "metadata": {},
     "output_type": "execute_result"
    },
    {
     "data": {
      "image/png": "[encoded data removed]",
      "text/plain": [
       "<Figure size 432x288 with 1 Axes>"
      ]
     },
     "metadata": {
      "needs_background": "light"
     },
     "output_type": "display_data"
    }
   ],
   "source": [
    "sns.histplot(users_by_likes[users_by_likes.exp_group == 'control'].post_id, bins=30, kde=True, color='red', alpha=0.5)"
   ]
  },
  {
   "cell_type": "code",
   "execution_count": 71,
   "id": "98c7b457",
   "metadata": {},
   "outputs": [
    {
     "data": {
      "text/html": [
       "<div>\n",
       "<style scoped>\n",
       "    .dataframe tbody tr th:only-of-type {\n",
       "        vertical-align: middle;\n",
       "    }\n",
       "\n",
       "    .dataframe tbody tr th {\n",
       "        vertical-align: top;\n",
       "    }\n",
       "\n",
       "    .dataframe thead th {\n",
       "        text-align: right;\n",
       "    }\n",
       "</style>\n",
       "<table border=\"1\" class=\"dataframe\">\n",
       "  <thead>\n",
       "    <tr style=\"text-align: right;\">\n",
       "      <th></th>\n",
       "      <th>exp_group</th>\n",
       "      <th>post_id</th>\n",
       "    </tr>\n",
       "    <tr>\n",
       "      <th>user_id</th>\n",
       "      <th></th>\n",
       "      <th></th>\n",
       "    </tr>\n",
       "  </thead>\n",
       "  <tbody>\n",
       "    <tr>\n",
       "      <th>200</th>\n",
       "      <td>test</td>\n",
       "      <td>1.0</td>\n",
       "    </tr>\n",
       "    <tr>\n",
       "      <th>201</th>\n",
       "      <td>test</td>\n",
       "      <td>3.0</td>\n",
       "    </tr>\n",
       "    <tr>\n",
       "      <th>202</th>\n",
       "      <td>test</td>\n",
       "      <td>2.0</td>\n",
       "    </tr>\n",
       "    <tr>\n",
       "      <th>212</th>\n",
       "      <td>test</td>\n",
       "      <td>4.0</td>\n",
       "    </tr>\n",
       "    <tr>\n",
       "      <th>213</th>\n",
       "      <td>test</td>\n",
       "      <td>7.0</td>\n",
       "    </tr>\n",
       "    <tr>\n",
       "      <th>...</th>\n",
       "      <td>...</td>\n",
       "      <td>...</td>\n",
       "    </tr>\n",
       "    <tr>\n",
       "      <th>168538</th>\n",
       "      <td>test</td>\n",
       "      <td>5.0</td>\n",
       "    </tr>\n",
       "    <tr>\n",
       "      <th>168541</th>\n",
       "      <td>control</td>\n",
       "      <td>2.0</td>\n",
       "    </tr>\n",
       "    <tr>\n",
       "      <th>168544</th>\n",
       "      <td>test</td>\n",
       "      <td>0.0</td>\n",
       "    </tr>\n",
       "    <tr>\n",
       "      <th>168545</th>\n",
       "      <td>test</td>\n",
       "      <td>5.0</td>\n",
       "    </tr>\n",
       "    <tr>\n",
       "      <th>168552</th>\n",
       "      <td>control</td>\n",
       "      <td>0.0</td>\n",
       "    </tr>\n",
       "  </tbody>\n",
       "</table>\n",
       "<p>65009 rows × 2 columns</p>\n",
       "</div>"
      ],
      "text/plain": [
       "        exp_group  post_id\n",
       "user_id                   \n",
       "200          test      1.0\n",
       "201          test      3.0\n",
       "202          test      2.0\n",
       "212          test      4.0\n",
       "213          test      7.0\n",
       "...           ...      ...\n",
       "168538       test      5.0\n",
       "168541    control      2.0\n",
       "168544       test      0.0\n",
       "168545       test      5.0\n",
       "168552    control      0.0\n",
       "\n",
       "[65009 rows x 2 columns]"
      ]
     },
     "execution_count": 71,
     "metadata": {},
     "output_type": "execute_result"
    }
   ],
   "source": [
    "users_by_likes"
   ]
  },
  {
   "cell_type": "code",
   "execution_count": 95,
   "id": "6e9dd3a2",
   "metadata": {},
   "outputs": [
    {
     "name": "stdout",
     "output_type": "stream",
     "text": [
      "28834\n",
      "32350\n",
      "29333\n",
      "32659\n"
     ]
    },
    {
     "data": {
      "text/plain": [
       "(-2.8440248969682322, 0.0022273783427432096)"
      ]
     },
     "execution_count": 95,
     "metadata": {},
     "output_type": "execute_result"
    }
   ],
   "source": [
    "from statsmodels.stats.proportion import proportions_ztest\n",
    "\n",
    "N_pos_1 = users_by_likes[(users_by_likes.post_id > 0) & (users_by_likes.exp_group == 'control')].shape[0] \n",
    "print(N_pos_1)\n",
    "N_1 = users_by_likes[users_by_likes.exp_group == 'control'].shape[0]\n",
    "print(N_1)\n",
    "N_pos_2 = users_by_likes[(users_by_likes.post_id > 0) & (users_by_likes.exp_group == 'test')].shape[0] \n",
    "print(N_pos_2)\n",
    "N_2 = users_by_likes[users_by_likes.exp_group == 'test'].shape[0]\n",
    "print(N_2)\n",
    "\n",
    "proportions_ztest(count=[N_pos_1, N_pos_2], nobs=[N_1, N_2], alternative=\"smaller\")"
   ]
  },
  {
   "cell_type": "code",
   "execution_count": 98,
   "id": "ed7d003f",
   "metadata": {},
   "outputs": [
    {
     "data": {
      "text/plain": [
       "MannwhitneyuResult(statistic=518358073.0, pvalue=1.4792531396220982e-05)"
      ]
     },
     "execution_count": 98,
     "metadata": {},
     "output_type": "execute_result"
    }
   ],
   "source": [
    "from scipy.stats import mannwhitneyu\n",
    "\n",
    "mannwhitneyu(x=users_by_likes[users_by_likes.exp_group == 'control'].post_id,y=users_by_likes[users_by_likes.exp_group == 'test'].post_id, alternative='less')"
   ]
  },
  {
   "cell_type": "code",
   "execution_count": null,
   "id": "76134647",
   "metadata": {},
   "outputs": [],
   "source": []
  }
 ],
 "metadata": {
  "kernelspec": {
   "display_name": "Python 3 (ipykernel)",
   "language": "python",
   "name": "python3"
  },
  "language_info": {
   "codemirror_mode": {
    "name": "ipython",
    "version": 3
   },
   "file_extension": ".py",
   "mimetype": "text/x-python",
   "name": "python",
   "nbconvert_exporter": "python",
   "pygments_lexer": "ipython3",
   "version": "3.9.7"
  }
 },
 "nbformat": 4,
 "nbformat_minor": 5
}

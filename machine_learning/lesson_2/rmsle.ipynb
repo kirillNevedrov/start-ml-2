{
 "cells": [
  {
   "cell_type": "code",
   "execution_count": 58,
   "id": "0f65d9df",
   "metadata": {},
   "outputs": [],
   "source": [
    "import pandas as pd"
   ]
  },
  {
   "cell_type": "code",
   "execution_count": 64,
   "id": "e0b76ced",
   "metadata": {},
   "outputs": [],
   "source": [
    "df = pd.DataFrame(data={'target': range(1000, 2000), 'diff': range(-500, 500)})"
   ]
  },
  {
   "cell_type": "code",
   "execution_count": 65,
   "id": "a5df64e9",
   "metadata": {},
   "outputs": [],
   "source": [
    "df['prediction'] = df['target'] + df['diff']"
   ]
  },
  {
   "cell_type": "code",
   "execution_count": 86,
   "id": "73779ba1",
   "metadata": {},
   "outputs": [],
   "source": [
    "from math import log\n",
    "\n",
    "df['rmsle'] = ((df['target'] + 1).apply(log) - (df['prediction'] + 1).apply(log)) ** 2"
   ]
  },
  {
   "cell_type": "code",
   "execution_count": 87,
   "id": "795d1366",
   "metadata": {},
   "outputs": [
    {
     "data": {
      "text/html": [
       "<div>\n",
       "<style scoped>\n",
       "    .dataframe tbody tr th:only-of-type {\n",
       "        vertical-align: middle;\n",
       "    }\n",
       "\n",
       "    .dataframe tbody tr th {\n",
       "        vertical-align: top;\n",
       "    }\n",
       "\n",
       "    .dataframe thead th {\n",
       "        text-align: right;\n",
       "    }\n",
       "</style>\n",
       "<table border=\"1\" class=\"dataframe\">\n",
       "  <thead>\n",
       "    <tr style=\"text-align: right;\">\n",
       "      <th></th>\n",
       "      <th>target</th>\n",
       "      <th>diff</th>\n",
       "      <th>prediction</th>\n",
       "      <th>rmsle</th>\n",
       "      <th>target_log</th>\n",
       "      <th>prediction_log</th>\n",
       "      <th>target_1</th>\n",
       "      <th>prediction_1</th>\n",
       "    </tr>\n",
       "  </thead>\n",
       "  <tbody>\n",
       "    <tr>\n",
       "      <th>0</th>\n",
       "      <td>1000</td>\n",
       "      <td>-500</td>\n",
       "      <td>500</td>\n",
       "      <td>0.479070</td>\n",
       "      <td>6.908755</td>\n",
       "      <td>6.216606</td>\n",
       "      <td>1001</td>\n",
       "      <td>501</td>\n",
       "    </tr>\n",
       "    <tr>\n",
       "      <th>1</th>\n",
       "      <td>1001</td>\n",
       "      <td>-499</td>\n",
       "      <td>502</td>\n",
       "      <td>0.474946</td>\n",
       "      <td>6.909753</td>\n",
       "      <td>6.220590</td>\n",
       "      <td>1002</td>\n",
       "      <td>503</td>\n",
       "    </tr>\n",
       "    <tr>\n",
       "      <th>2</th>\n",
       "      <td>1002</td>\n",
       "      <td>-498</td>\n",
       "      <td>504</td>\n",
       "      <td>0.470860</td>\n",
       "      <td>6.910751</td>\n",
       "      <td>6.224558</td>\n",
       "      <td>1003</td>\n",
       "      <td>505</td>\n",
       "    </tr>\n",
       "    <tr>\n",
       "      <th>3</th>\n",
       "      <td>1003</td>\n",
       "      <td>-497</td>\n",
       "      <td>506</td>\n",
       "      <td>0.466812</td>\n",
       "      <td>6.911747</td>\n",
       "      <td>6.228511</td>\n",
       "      <td>1004</td>\n",
       "      <td>507</td>\n",
       "    </tr>\n",
       "    <tr>\n",
       "      <th>4</th>\n",
       "      <td>1004</td>\n",
       "      <td>-496</td>\n",
       "      <td>508</td>\n",
       "      <td>0.462801</td>\n",
       "      <td>6.912743</td>\n",
       "      <td>6.232448</td>\n",
       "      <td>1005</td>\n",
       "      <td>509</td>\n",
       "    </tr>\n",
       "    <tr>\n",
       "      <th>...</th>\n",
       "      <td>...</td>\n",
       "      <td>...</td>\n",
       "      <td>...</td>\n",
       "      <td>...</td>\n",
       "      <td>...</td>\n",
       "      <td>...</td>\n",
       "      <td>...</td>\n",
       "      <td>...</td>\n",
       "    </tr>\n",
       "    <tr>\n",
       "      <th>995</th>\n",
       "      <td>1995</td>\n",
       "      <td>495</td>\n",
       "      <td>2490</td>\n",
       "      <td>0.049080</td>\n",
       "      <td>7.598900</td>\n",
       "      <td>7.820440</td>\n",
       "      <td>1996</td>\n",
       "      <td>2491</td>\n",
       "    </tr>\n",
       "    <tr>\n",
       "      <th>996</th>\n",
       "      <td>1996</td>\n",
       "      <td>496</td>\n",
       "      <td>2492</td>\n",
       "      <td>0.049213</td>\n",
       "      <td>7.599401</td>\n",
       "      <td>7.821242</td>\n",
       "      <td>1997</td>\n",
       "      <td>2493</td>\n",
       "    </tr>\n",
       "    <tr>\n",
       "      <th>997</th>\n",
       "      <td>1997</td>\n",
       "      <td>497</td>\n",
       "      <td>2494</td>\n",
       "      <td>0.049347</td>\n",
       "      <td>7.599902</td>\n",
       "      <td>7.822044</td>\n",
       "      <td>1998</td>\n",
       "      <td>2495</td>\n",
       "    </tr>\n",
       "    <tr>\n",
       "      <th>998</th>\n",
       "      <td>1998</td>\n",
       "      <td>498</td>\n",
       "      <td>2496</td>\n",
       "      <td>0.049481</td>\n",
       "      <td>7.600402</td>\n",
       "      <td>7.822845</td>\n",
       "      <td>1999</td>\n",
       "      <td>2497</td>\n",
       "    </tr>\n",
       "    <tr>\n",
       "      <th>999</th>\n",
       "      <td>1999</td>\n",
       "      <td>499</td>\n",
       "      <td>2498</td>\n",
       "      <td>0.049615</td>\n",
       "      <td>7.600902</td>\n",
       "      <td>7.823646</td>\n",
       "      <td>2000</td>\n",
       "      <td>2499</td>\n",
       "    </tr>\n",
       "  </tbody>\n",
       "</table>\n",
       "<p>1000 rows × 8 columns</p>\n",
       "</div>"
      ],
      "text/plain": [
       "     target  diff  prediction     rmsle  target_log  prediction_log  target_1  \\\n",
       "0      1000  -500         500  0.479070    6.908755        6.216606      1001   \n",
       "1      1001  -499         502  0.474946    6.909753        6.220590      1002   \n",
       "2      1002  -498         504  0.470860    6.910751        6.224558      1003   \n",
       "3      1003  -497         506  0.466812    6.911747        6.228511      1004   \n",
       "4      1004  -496         508  0.462801    6.912743        6.232448      1005   \n",
       "..      ...   ...         ...       ...         ...             ...       ...   \n",
       "995    1995   495        2490  0.049080    7.598900        7.820440      1996   \n",
       "996    1996   496        2492  0.049213    7.599401        7.821242      1997   \n",
       "997    1997   497        2494  0.049347    7.599902        7.822044      1998   \n",
       "998    1998   498        2496  0.049481    7.600402        7.822845      1999   \n",
       "999    1999   499        2498  0.049615    7.600902        7.823646      2000   \n",
       "\n",
       "     prediction_1  \n",
       "0             501  \n",
       "1             503  \n",
       "2             505  \n",
       "3             507  \n",
       "4             509  \n",
       "..            ...  \n",
       "995          2491  \n",
       "996          2493  \n",
       "997          2495  \n",
       "998          2497  \n",
       "999          2499  \n",
       "\n",
       "[1000 rows x 8 columns]"
      ]
     },
     "execution_count": 87,
     "metadata": {},
     "output_type": "execute_result"
    }
   ],
   "source": [
    "df"
   ]
  },
  {
   "cell_type": "code",
   "execution_count": 88,
   "id": "2be9cb37",
   "metadata": {},
   "outputs": [
    {
     "data": {
      "text/plain": [
       "<AxesSubplot:xlabel='diff'>"
      ]
     },
     "execution_count": 88,
     "metadata": {},
     "output_type": "execute_result"
    },
    {
     "data": {
      "image/png": "[encoded data removed]",
      "text/plain": [
       "<Figure size 432x288 with 1 Axes>"
      ]
     },
     "metadata": {
      "needs_background": "light"
     },
     "output_type": "display_data"
    }
   ],
   "source": [
    "df.plot(x=\"diff\", y=\"rmsle\")"
   ]
  },
  {
   "cell_type": "code",
   "execution_count": null,
   "id": "ebe60ae4",
   "metadata": {},
   "outputs": [],
   "source": []
  }
 ],
 "metadata": {
  "kernelspec": {
   "display_name": "Python 3 (ipykernel)",
   "language": "python",
   "name": "python3"
  },
  "language_info": {
   "codemirror_mode": {
    "name": "ipython",
    "version": 3
   },
   "file_extension": ".py",
   "mimetype": "text/x-python",
   "name": "python",
   "nbconvert_exporter": "python",
   "pygments_lexer": "ipython3",
   "version": "3.9.7"
  }
 },
 "nbformat": 4,
 "nbformat_minor": 5
}

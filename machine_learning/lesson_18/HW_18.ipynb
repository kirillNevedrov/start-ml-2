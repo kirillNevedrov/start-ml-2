{
 "cells": [
  {
   "cell_type": "code",
   "execution_count": 76,
   "metadata": {},
   "outputs": [],
   "source": [
    "import pandas as pd\n",
    "import numpy as np\n",
    "import matplotlib.pyplot as plt\n",
    "import seaborn as sns\n",
    "\n",
    "pd.options.display.max_columns = 500"
   ]
  },
  {
   "cell_type": "markdown",
   "metadata": {},
   "source": [
    "### Загрузим датасет с машинами. Цель - верно восстанавливать для каждой из них цену продажи!"
   ]
  },
  {
   "cell_type": "code",
   "execution_count": 77,
   "metadata": {},
   "outputs": [
    {
     "data": {
      "text/html": [
       "<div>\n",
       "<style scoped>\n",
       "    .dataframe tbody tr th:only-of-type {\n",
       "        vertical-align: middle;\n",
       "    }\n",
       "\n",
       "    .dataframe tbody tr th {\n",
       "        vertical-align: top;\n",
       "    }\n",
       "\n",
       "    .dataframe thead th {\n",
       "        text-align: right;\n",
       "    }\n",
       "</style>\n",
       "<table border=\"1\" class=\"dataframe\">\n",
       "  <thead>\n",
       "    <tr style=\"text-align: right;\">\n",
       "      <th></th>\n",
       "      <th>name</th>\n",
       "      <th>year</th>\n",
       "      <th>selling_price</th>\n",
       "      <th>km_driven</th>\n",
       "      <th>fuel</th>\n",
       "      <th>seller_type</th>\n",
       "      <th>transmission</th>\n",
       "      <th>owner</th>\n",
       "    </tr>\n",
       "  </thead>\n",
       "  <tbody>\n",
       "    <tr>\n",
       "      <th>0</th>\n",
       "      <td>Maruti 800 AC</td>\n",
       "      <td>2007</td>\n",
       "      <td>60000</td>\n",
       "      <td>70000</td>\n",
       "      <td>Petrol</td>\n",
       "      <td>Individual</td>\n",
       "      <td>Manual</td>\n",
       "      <td>First Owner</td>\n",
       "    </tr>\n",
       "    <tr>\n",
       "      <th>1</th>\n",
       "      <td>Maruti Wagon R LXI Minor</td>\n",
       "      <td>2007</td>\n",
       "      <td>135000</td>\n",
       "      <td>50000</td>\n",
       "      <td>Petrol</td>\n",
       "      <td>Individual</td>\n",
       "      <td>Manual</td>\n",
       "      <td>First Owner</td>\n",
       "    </tr>\n",
       "    <tr>\n",
       "      <th>2</th>\n",
       "      <td>Hyundai Verna 1.6 SX</td>\n",
       "      <td>2012</td>\n",
       "      <td>600000</td>\n",
       "      <td>100000</td>\n",
       "      <td>Diesel</td>\n",
       "      <td>Individual</td>\n",
       "      <td>Manual</td>\n",
       "      <td>First Owner</td>\n",
       "    </tr>\n",
       "    <tr>\n",
       "      <th>3</th>\n",
       "      <td>Datsun RediGO T Option</td>\n",
       "      <td>2017</td>\n",
       "      <td>250000</td>\n",
       "      <td>46000</td>\n",
       "      <td>Petrol</td>\n",
       "      <td>Individual</td>\n",
       "      <td>Manual</td>\n",
       "      <td>First Owner</td>\n",
       "    </tr>\n",
       "    <tr>\n",
       "      <th>4</th>\n",
       "      <td>Honda Amaze VX i-DTEC</td>\n",
       "      <td>2014</td>\n",
       "      <td>450000</td>\n",
       "      <td>141000</td>\n",
       "      <td>Diesel</td>\n",
       "      <td>Individual</td>\n",
       "      <td>Manual</td>\n",
       "      <td>Second Owner</td>\n",
       "    </tr>\n",
       "  </tbody>\n",
       "</table>\n",
       "</div>"
      ],
      "text/plain": [
       "                       name  year  selling_price  km_driven    fuel  \\\n",
       "0             Maruti 800 AC  2007          60000      70000  Petrol   \n",
       "1  Maruti Wagon R LXI Minor  2007         135000      50000  Petrol   \n",
       "2      Hyundai Verna 1.6 SX  2012         600000     100000  Diesel   \n",
       "3    Datsun RediGO T Option  2017         250000      46000  Petrol   \n",
       "4     Honda Amaze VX i-DTEC  2014         450000     141000  Diesel   \n",
       "\n",
       "  seller_type transmission         owner  \n",
       "0  Individual       Manual   First Owner  \n",
       "1  Individual       Manual   First Owner  \n",
       "2  Individual       Manual   First Owner  \n",
       "3  Individual       Manual   First Owner  \n",
       "4  Individual       Manual  Second Owner  "
      ]
     },
     "execution_count": 77,
     "metadata": {},
     "output_type": "execute_result"
    }
   ],
   "source": [
    "data = pd.read_csv('autos.csv')\n",
    "\n",
    "data.head()"
   ]
  },
  {
   "cell_type": "code",
   "execution_count": 78,
   "metadata": {},
   "outputs": [],
   "source": [
    "### Колонка с тергетом - \"selling price\"\n",
    "\n",
    "X = data.drop(\"selling_price\", axis=1)\n",
    "y = data[\"selling_price\"]\n",
    "\n",
    "### Будем замерять MSLE!\n",
    "### Поэтому прологарифмируем таргет\n",
    "### А после оптимизируем MSE\n",
    "\n",
    "y = y.apply(np.log1p)"
   ]
  },
  {
   "cell_type": "code",
   "execution_count": 79,
   "metadata": {},
   "outputs": [],
   "source": [
    "### Разделим выборку на трейн и тест!\n",
    "\n",
    "from sklearn.model_selection import train_test_split \n",
    "\n",
    "X_train, X_test, y_train, y_test = train_test_split(X, y, test_size=0.2, random_state=1)"
   ]
  },
  {
   "cell_type": "markdown",
   "metadata": {},
   "source": [
    "__Задание__ \n",
    "\n",
    "Реализуйте свой MeanTargetEncoder с добавленем некоторого шума!\n",
    "\n",
    "Однажды в лекционном материале, обсуждая счетчики, мы говорили с вами о том, что из-за них модели могут переобучаться. Один из способов бороться с этим - валидировать расчеты среднего таргета (стратегия отложенной выборки / расчеты на кросс-валидации). Но есть еще проще!\n",
    "\n",
    "Можно просто к значению счетчика добавить случайный шум (зашумить данные)!\n",
    "\n",
    "Напомним, что рассчитываться новые признаки должны по такой формуле:\n",
    "\n",
    "$$\n",
    "g_j(x, X) = \\frac{\\sum_{i=1}^{l} [f_j(x) = f_j(x_i)][y_i = +1]}{\\sum_{i=1}^{l} [f_j(x) = f_j(x_i)]} + C * \\epsilon\n",
    "$$\n",
    "\n",
    "\n",
    "Пусть шум будет случайной величиной из нормального стандартного распределения, то есть $\\epsilon \\sim N(0, 1) $, а $ C = 0.006$."
   ]
  },
  {
   "cell_type": "markdown",
   "metadata": {},
   "source": [
    "Создавай свой класс-трансформер, наследуйтесь от классов `BaseEstimator, TransformerMixin` из `sklearn.base`. Трансформер не должен модифицировать передаваемую ему выборку inplace, а все необходимые статистики нужно считать только по обучающей выборке в методе `fit`. Ваш трансформер должен принимать при инициализации список из категориальных признаков и список из числовых признаков. На выходе должен получиться датасет того же размера с измененными категориальными признаками"
   ]
  },
  {
   "cell_type": "code",
   "execution_count": 94,
   "metadata": {},
   "outputs": [
    {
     "data": {
      "text/html": [
       "<div>\n",
       "<style scoped>\n",
       "    .dataframe tbody tr th:only-of-type {\n",
       "        vertical-align: middle;\n",
       "    }\n",
       "\n",
       "    .dataframe tbody tr th {\n",
       "        vertical-align: top;\n",
       "    }\n",
       "\n",
       "    .dataframe thead th {\n",
       "        text-align: right;\n",
       "    }\n",
       "</style>\n",
       "<table border=\"1\" class=\"dataframe\">\n",
       "  <thead>\n",
       "    <tr style=\"text-align: right;\">\n",
       "      <th></th>\n",
       "      <th>name</th>\n",
       "      <th>year</th>\n",
       "      <th>km_driven</th>\n",
       "      <th>fuel</th>\n",
       "      <th>seller_type</th>\n",
       "      <th>transmission</th>\n",
       "      <th>owner</th>\n",
       "    </tr>\n",
       "  </thead>\n",
       "  <tbody>\n",
       "    <tr>\n",
       "      <th>0</th>\n",
       "      <td>Maruti 800 AC</td>\n",
       "      <td>2007</td>\n",
       "      <td>70000</td>\n",
       "      <td>Petrol</td>\n",
       "      <td>Individual</td>\n",
       "      <td>Manual</td>\n",
       "      <td>First Owner</td>\n",
       "    </tr>\n",
       "    <tr>\n",
       "      <th>1</th>\n",
       "      <td>Maruti Wagon R LXI Minor</td>\n",
       "      <td>2007</td>\n",
       "      <td>50000</td>\n",
       "      <td>Petrol</td>\n",
       "      <td>Individual</td>\n",
       "      <td>Manual</td>\n",
       "      <td>First Owner</td>\n",
       "    </tr>\n",
       "    <tr>\n",
       "      <th>2</th>\n",
       "      <td>Hyundai Verna 1.6 SX</td>\n",
       "      <td>2012</td>\n",
       "      <td>100000</td>\n",
       "      <td>Diesel</td>\n",
       "      <td>Individual</td>\n",
       "      <td>Manual</td>\n",
       "      <td>First Owner</td>\n",
       "    </tr>\n",
       "    <tr>\n",
       "      <th>3</th>\n",
       "      <td>Datsun RediGO T Option</td>\n",
       "      <td>2017</td>\n",
       "      <td>46000</td>\n",
       "      <td>Petrol</td>\n",
       "      <td>Individual</td>\n",
       "      <td>Manual</td>\n",
       "      <td>First Owner</td>\n",
       "    </tr>\n",
       "    <tr>\n",
       "      <th>4</th>\n",
       "      <td>Honda Amaze VX i-DTEC</td>\n",
       "      <td>2014</td>\n",
       "      <td>141000</td>\n",
       "      <td>Diesel</td>\n",
       "      <td>Individual</td>\n",
       "      <td>Manual</td>\n",
       "      <td>Second Owner</td>\n",
       "    </tr>\n",
       "  </tbody>\n",
       "</table>\n",
       "</div>"
      ],
      "text/plain": [
       "                       name  year  km_driven    fuel seller_type transmission  \\\n",
       "0             Maruti 800 AC  2007      70000  Petrol  Individual       Manual   \n",
       "1  Maruti Wagon R LXI Minor  2007      50000  Petrol  Individual       Manual   \n",
       "2      Hyundai Verna 1.6 SX  2012     100000  Diesel  Individual       Manual   \n",
       "3    Datsun RediGO T Option  2017      46000  Petrol  Individual       Manual   \n",
       "4     Honda Amaze VX i-DTEC  2014     141000  Diesel  Individual       Manual   \n",
       "\n",
       "          owner  \n",
       "0   First Owner  \n",
       "1   First Owner  \n",
       "2   First Owner  \n",
       "3   First Owner  \n",
       "4  Second Owner  "
      ]
     },
     "execution_count": 94,
     "metadata": {},
     "output_type": "execute_result"
    }
   ],
   "source": [
    "object_cols = ['name', 'year', 'fuel', 'seller_type', 'transmission', 'owner']\n",
    "num_cols = ['km_driven']\n",
    "\n",
    "X.head()"
   ]
  },
  {
   "cell_type": "code",
   "execution_count": 104,
   "metadata": {},
   "outputs": [],
   "source": [
    "from sklearn.base import BaseEstimator, TransformerMixin\n",
    "\n",
    "class MeanTargetEncoderNoise(BaseEstimator, TransformerMixin):\n",
    "    \n",
    "    def __init__(self, categorical, numeric):        \n",
    "        self.categorical = categorical\n",
    "        self.numeric = numeric\n",
    "    \n",
    "    def fit(self, X, y):\n",
    "        X_fit = X.copy()\n",
    "        y_fit = y.copy()\n",
    "        \n",
    "        X_with_target = pd.concat((X_fit, y_fit), axis=1)\n",
    "        \n",
    "        ### Посчитаем на валидации средние значения таргета\n",
    "        self.dict_of_means = {\n",
    "            col : X_with_target.groupby(col)['selling_price'].mean() + (np.random.random_sample((X_with_target[col].nunique(),)) * 0.006)\n",
    "            for col in self.categorical\n",
    "        }\n",
    "\n",
    "        return self\n",
    "        \n",
    "    def transform(self, X):        \n",
    "        X_ = X.copy()    \n",
    "    \n",
    "        for col in self.categorical:\n",
    "            X_[col] = X_[col].map(self.dict_of_means[col])\n",
    "                \n",
    "#                 mean_value = transformer.dict_of_means[col].values.mean()\n",
    "                \n",
    "#                 X_[col] = X_[col].fillna(mean_value)\n",
    "\n",
    "            X_[col] = X_[col].fillna(0)\n",
    "            \n",
    "        return X_"
   ]
  },
  {
   "cell_type": "code",
   "execution_count": 105,
   "metadata": {},
   "outputs": [
    {
     "data": {
      "text/html": [
       "<div>\n",
       "<style scoped>\n",
       "    .dataframe tbody tr th:only-of-type {\n",
       "        vertical-align: middle;\n",
       "    }\n",
       "\n",
       "    .dataframe tbody tr th {\n",
       "        vertical-align: top;\n",
       "    }\n",
       "\n",
       "    .dataframe thead th {\n",
       "        text-align: right;\n",
       "    }\n",
       "</style>\n",
       "<table border=\"1\" class=\"dataframe\">\n",
       "  <thead>\n",
       "    <tr style=\"text-align: right;\">\n",
       "      <th></th>\n",
       "      <th>name</th>\n",
       "      <th>year</th>\n",
       "      <th>km_driven</th>\n",
       "      <th>fuel</th>\n",
       "      <th>seller_type</th>\n",
       "      <th>transmission</th>\n",
       "      <th>owner</th>\n",
       "    </tr>\n",
       "  </thead>\n",
       "  <tbody>\n",
       "    <tr>\n",
       "      <th>3294</th>\n",
       "      <td>13.475038</td>\n",
       "      <td>13.442772</td>\n",
       "      <td>50000</td>\n",
       "      <td>13.093929</td>\n",
       "      <td>12.623612</td>\n",
       "      <td>13.774849</td>\n",
       "      <td>12.978311</td>\n",
       "    </tr>\n",
       "    <tr>\n",
       "      <th>2290</th>\n",
       "      <td>12.118159</td>\n",
       "      <td>11.915769</td>\n",
       "      <td>70000</td>\n",
       "      <td>12.453797</td>\n",
       "      <td>12.623612</td>\n",
       "      <td>13.774849</td>\n",
       "      <td>12.978311</td>\n",
       "    </tr>\n",
       "    <tr>\n",
       "      <th>874</th>\n",
       "      <td>12.303707</td>\n",
       "      <td>13.338391</td>\n",
       "      <td>50000</td>\n",
       "      <td>12.453797</td>\n",
       "      <td>12.623612</td>\n",
       "      <td>12.643187</td>\n",
       "      <td>12.978311</td>\n",
       "    </tr>\n",
       "    <tr>\n",
       "      <th>1907</th>\n",
       "      <td>12.487258</td>\n",
       "      <td>13.060457</td>\n",
       "      <td>92198</td>\n",
       "      <td>12.453797</td>\n",
       "      <td>13.148980</td>\n",
       "      <td>12.643187</td>\n",
       "      <td>12.466180</td>\n",
       "    </tr>\n",
       "    <tr>\n",
       "      <th>3244</th>\n",
       "      <td>12.395613</td>\n",
       "      <td>12.860981</td>\n",
       "      <td>3240</td>\n",
       "      <td>12.453797</td>\n",
       "      <td>12.623612</td>\n",
       "      <td>12.643187</td>\n",
       "      <td>12.466180</td>\n",
       "    </tr>\n",
       "  </tbody>\n",
       "</table>\n",
       "</div>"
      ],
      "text/plain": [
       "           name       year  km_driven       fuel  seller_type  transmission  \\\n",
       "3294  13.475038  13.442772      50000  13.093929    12.623612     13.774849   \n",
       "2290  12.118159  11.915769      70000  12.453797    12.623612     13.774849   \n",
       "874   12.303707  13.338391      50000  12.453797    12.623612     12.643187   \n",
       "1907  12.487258  13.060457      92198  12.453797    13.148980     12.643187   \n",
       "3244  12.395613  12.860981       3240  12.453797    12.623612     12.643187   \n",
       "\n",
       "          owner  \n",
       "3294  12.978311  \n",
       "2290  12.978311  \n",
       "874   12.978311  \n",
       "1907  12.466180  \n",
       "3244  12.466180  "
      ]
     },
     "execution_count": 105,
     "metadata": {},
     "output_type": "execute_result"
    }
   ],
   "source": [
    "### Проверка работы трансформера\n",
    "\n",
    "np.random.seed(1)\n",
    "transformer = MeanTargetEncoderNoise(categorical=object_cols, numeric=num_cols)\n",
    "\n",
    "transformer.fit(X_train, y_train)\n",
    "\n",
    "train = transformer.transform(X_train)\n",
    "test = transformer.transform(X_test)\n",
    "\n",
    "train.head()"
   ]
  },
  {
   "cell_type": "markdown",
   "metadata": {},
   "source": [
    "Обучите несколько деревьев, перебирая максимальную глубину алгоритма из списка `max_depth_list`, а остальные параметры оставьте дефолтными. Выведите лучшее значение гиперпараметра. Постройте график зависимости MSLE на тестовой выборке от значения гиперпараметра. Воспользуйтесь `Pipeline` без `GridSearch`. Проделайте то же самое с `min_samples_split`, `min_impurity_decrease`, `max_leaf_nodes`. (по 2б на каждый параметр)"
   ]
  },
  {
   "cell_type": "code",
   "execution_count": 106,
   "metadata": {},
   "outputs": [],
   "source": [
    "max_depth_list = [3, 5, 8, 12]\n",
    "min_samples_split_list = [10, 50, 100, 500]\n",
    "min_impurity_decrease_list = [0, 0.1, 0.15, 0.2]\n",
    "max_leaf_nodes_list = [100, 200, 500]"
   ]
  },
  {
   "cell_type": "code",
   "execution_count": 107,
   "metadata": {},
   "outputs": [
    {
     "name": "stdout",
     "output_type": "stream",
     "text": [
      "3 0.796829214489203\n",
      "5 1.442072604837312\n",
      "8 1.9891705360380953\n",
      "12 1.983189816784816\n"
     ]
    },
    {
     "data": {
      "text/plain": [
       "[<matplotlib.lines.Line2D at 0x13fb9657a60>]"
      ]
     },
     "execution_count": 107,
     "metadata": {},
     "output_type": "execute_result"
    },
    {
     "data": {
      "image/png": "[encoded data removed]",
      "text/plain": [
       "<Figure size 432x288 with 1 Axes>"
      ]
     },
     "metadata": {
      "needs_background": "light"
     },
     "output_type": "display_data"
    }
   ],
   "source": [
    "from sklearn.metrics import mean_squared_error as mse\n",
    "from sklearn.tree import DecisionTreeRegressor\n",
    "from sklearn.pipeline import Pipeline\n",
    "\n",
    "np.random.seed(1)\n",
    "\n",
    "msle = {}\n",
    "\n",
    "for max_depth in max_depth_list:\n",
    "    pipe = Pipeline([(\"custom_transformer\",\n",
    "                      MeanTargetEncoderNoise(categorical=object_cols, numeric=num_cols)),\n",
    "\n",
    "\n",
    "                     (\"decision_tree\", \n",
    "                      DecisionTreeRegressor(max_depth=max_depth))])\n",
    "\n",
    "    pipe.fit(X_train, y_train)\n",
    "    \n",
    "    test_preds = pipe.predict(X_test)\n",
    "    score= np.mean((test_preds - y_test)**2)\n",
    "    \n",
    "    print(max_depth, score)\n",
    "    \n",
    "    msle[max_depth] = score\n",
    "    \n",
    "plt.plot(msle.keys(),msle.values())\n",
    "\n",
    "\n",
    "\n"
   ]
  },
  {
   "cell_type": "code",
   "execution_count": 86,
   "metadata": {},
   "outputs": [
    {
     "name": "stdout",
     "output_type": "stream",
     "text": [
      "10 1.430834490523201\n",
      "50 1.437751376583023\n",
      "100 0.9522930653961675\n",
      "500 0.8076747956646467\n"
     ]
    },
    {
     "data": {
      "text/plain": [
       "[<matplotlib.lines.Line2D at 0x13fb94be430>]"
      ]
     },
     "execution_count": 86,
     "metadata": {},
     "output_type": "execute_result"
    },
    {
     "data": {
      "image/png": "[encoded data removed]",
      "text/plain": [
       "<Figure size 432x288 with 1 Axes>"
      ]
     },
     "metadata": {
      "needs_background": "light"
     },
     "output_type": "display_data"
    }
   ],
   "source": [
    "msle = {}\n",
    "\n",
    "for min_samples_split in min_samples_split_list:\n",
    "    pipe = Pipeline([(\"custom_transformer\",\n",
    "                      MeanTargetEncoderNoise(categorical=object_cols, numeric=num_cols)),\n",
    "\n",
    "\n",
    "                     (\"decision_tree\", \n",
    "                      DecisionTreeRegressor(min_samples_split=min_samples_split))])\n",
    "\n",
    "    pipe.fit(X_train, y_train)\n",
    "    \n",
    "    test_preds = pipe.predict(X_test)\n",
    "    score= np.mean((test_preds - y_test)**2)\n",
    "    \n",
    "    print(min_samples_split, score)\n",
    "    \n",
    "    msle[min_samples_split] = score\n",
    "    \n",
    "plt.plot(msle.keys(),msle.values())"
   ]
  },
  {
   "cell_type": "code",
   "execution_count": 87,
   "metadata": {},
   "outputs": [
    {
     "name": "stdout",
     "output_type": "stream",
     "text": [
      "0 1.9806902134312987\n",
      "0.1 0.5204871413036616\n",
      "0.15 0.5204871413036546\n",
      "0.2 0.5204871413036657\n"
     ]
    },
    {
     "data": {
      "text/plain": [
       "[<matplotlib.lines.Line2D at 0x13fb951bdf0>]"
      ]
     },
     "execution_count": 87,
     "metadata": {},
     "output_type": "execute_result"
    },
    {
     "data": {
      "image/png": "[encoded data removed]",
      "text/plain": [
       "<Figure size 432x288 with 1 Axes>"
      ]
     },
     "metadata": {
      "needs_background": "light"
     },
     "output_type": "display_data"
    }
   ],
   "source": [
    "msle = {}\n",
    "\n",
    "for min_impurity_decrease in min_impurity_decrease_list:\n",
    "    pipe = Pipeline([(\"custom_transformer\",\n",
    "                      MeanTargetEncoderNoise(categorical=object_cols, numeric=num_cols)),\n",
    "\n",
    "\n",
    "                     (\"decision_tree\", \n",
    "                      DecisionTreeRegressor(min_impurity_decrease=min_impurity_decrease))])\n",
    "\n",
    "    pipe.fit(X_train, y_train)\n",
    "    \n",
    "    test_preds = pipe.predict(X_test)\n",
    "    score= np.mean((test_preds - y_test)**2)\n",
    "    \n",
    "    print(min_impurity_decrease, score)\n",
    "    \n",
    "    msle[min_impurity_decrease] = score\n",
    "    \n",
    "plt.plot(msle.keys(),msle.values())"
   ]
  },
  {
   "cell_type": "code",
   "execution_count": 88,
   "metadata": {},
   "outputs": [
    {
     "name": "stdout",
     "output_type": "stream",
     "text": [
      "100 1.988201227126332\n",
      "200 1.9843941843779893\n",
      "500 1.9810626263695974\n"
     ]
    },
    {
     "data": {
      "text/plain": [
       "[<matplotlib.lines.Line2D at 0x13fb958ce20>]"
      ]
     },
     "execution_count": 88,
     "metadata": {},
     "output_type": "execute_result"
    },
    {
     "data": {
      "image/png": "[encoded data removed]",
      "text/plain": [
       "<Figure size 432x288 with 1 Axes>"
      ]
     },
     "metadata": {
      "needs_background": "light"
     },
     "output_type": "display_data"
    }
   ],
   "source": [
    "msle = {}\n",
    "\n",
    "for max_leaf_nodes in max_leaf_nodes_list:\n",
    "    pipe = Pipeline([(\"custom_transformer\",\n",
    "                      MeanTargetEncoderNoise(categorical=object_cols, numeric=num_cols)),\n",
    "\n",
    "\n",
    "                     (\"decision_tree\", \n",
    "                      DecisionTreeRegressor(max_leaf_nodes=max_leaf_nodes))])\n",
    "\n",
    "    pipe.fit(X_train, y_train)\n",
    "    \n",
    "    test_preds = pipe.predict(X_test)\n",
    "    score= np.mean((test_preds - y_test)**2)\n",
    "    \n",
    "    print(max_leaf_nodes, score)\n",
    "    \n",
    "    msle[max_leaf_nodes] = score\n",
    "    \n",
    "plt.plot(msle.keys(),msle.values())"
   ]
  },
  {
   "cell_type": "markdown",
   "metadata": {},
   "source": [
    "Подберите лучшую комбинацию параметров, используя `GridSearchCV` и набор массивов значений параметров из предыдущего задания. Для лучшей комбинации посчитайте MSLE на тестовой выборке. Получились ли лучшие параметры такими же, как если бы вы подбирали их по-отдельности при остальных гиперпараметрах по умолчанию (предыдущее задание)? (2б)"
   ]
  },
  {
   "cell_type": "code",
   "execution_count": 108,
   "metadata": {},
   "outputs": [
    {
     "data": {
      "text/html": [
       "<style>#sk-container-id-1 {color: black;background-color: white;}#sk-container-id-1 pre{padding: 0;}#sk-container-id-1 div.sk-toggleable {background-color: white;}#sk-container-id-1 label.sk-toggleable__label {cursor: pointer;display: block;width: 100%;margin-bottom: 0;padding: 0.3em;box-sizing: border-box;text-align: center;}#sk-container-id-1 label.sk-toggleable__label-arrow:before {content: \"▸\";float: left;margin-right: 0.25em;color: #696969;}#sk-container-id-1 label.sk-toggleable__label-arrow:hover:before {color: black;}#sk-container-id-1 div.sk-estimator:hover label.sk-toggleable__label-arrow:before {color: black;}#sk-container-id-1 div.sk-toggleable__content {max-height: 0;max-width: 0;overflow: hidden;text-align: left;background-color: #f0f8ff;}#sk-container-id-1 div.sk-toggleable__content pre {margin: 0.2em;color: black;border-radius: 0.25em;background-color: #f0f8ff;}#sk-container-id-1 input.sk-toggleable__control:checked~div.sk-toggleable__content {max-height: 200px;max-width: 100%;overflow: auto;}#sk-container-id-1 input.sk-toggleable__control:checked~label.sk-toggleable__label-arrow:before {content: \"▾\";}#sk-container-id-1 div.sk-estimator input.sk-toggleable__control:checked~label.sk-toggleable__label {background-color: #d4ebff;}#sk-container-id-1 div.sk-label input.sk-toggleable__control:checked~label.sk-toggleable__label {background-color: #d4ebff;}#sk-container-id-1 input.sk-hidden--visually {border: 0;clip: rect(1px 1px 1px 1px);clip: rect(1px, 1px, 1px, 1px);height: 1px;margin: -1px;overflow: hidden;padding: 0;position: absolute;width: 1px;}#sk-container-id-1 div.sk-estimator {font-family: monospace;background-color: #f0f8ff;border: 1px dotted black;border-radius: 0.25em;box-sizing: border-box;margin-bottom: 0.5em;}#sk-container-id-1 div.sk-estimator:hover {background-color: #d4ebff;}#sk-container-id-1 div.sk-parallel-item::after {content: \"\";width: 100%;border-bottom: 1px solid gray;flex-grow: 1;}#sk-container-id-1 div.sk-label:hover label.sk-toggleable__label {background-color: #d4ebff;}#sk-container-id-1 div.sk-serial::before {content: \"\";position: absolute;border-left: 1px solid gray;box-sizing: border-box;top: 0;bottom: 0;left: 50%;z-index: 0;}#sk-container-id-1 div.sk-serial {display: flex;flex-direction: column;align-items: center;background-color: white;padding-right: 0.2em;padding-left: 0.2em;position: relative;}#sk-container-id-1 div.sk-item {position: relative;z-index: 1;}#sk-container-id-1 div.sk-parallel {display: flex;align-items: stretch;justify-content: center;background-color: white;position: relative;}#sk-container-id-1 div.sk-item::before, #sk-container-id-1 div.sk-parallel-item::before {content: \"\";position: absolute;border-left: 1px solid gray;box-sizing: border-box;top: 0;bottom: 0;left: 50%;z-index: -1;}#sk-container-id-1 div.sk-parallel-item {display: flex;flex-direction: column;z-index: 1;position: relative;background-color: white;}#sk-container-id-1 div.sk-parallel-item:first-child::after {align-self: flex-end;width: 50%;}#sk-container-id-1 div.sk-parallel-item:last-child::after {align-self: flex-start;width: 50%;}#sk-container-id-1 div.sk-parallel-item:only-child::after {width: 0;}#sk-container-id-1 div.sk-dashed-wrapped {border: 1px dashed gray;margin: 0 0.4em 0.5em 0.4em;box-sizing: border-box;padding-bottom: 0.4em;background-color: white;}#sk-container-id-1 div.sk-label label {font-family: monospace;font-weight: bold;display: inline-block;line-height: 1.2em;}#sk-container-id-1 div.sk-label-container {text-align: center;}#sk-container-id-1 div.sk-container {/* jupyter's `normalize.less` sets `[hidden] { display: none; }` but bootstrap.min.css set `[hidden] { display: none !important; }` so we also need the `!important` here to be able to override the default hidden behavior on the sphinx rendered scikit-learn.org. See: https://github.com/scikit-learn/scikit-learn/issues/21755 */display: inline-block !important;position: relative;}#sk-container-id-1 div.sk-text-repr-fallback {display: none;}</style><div id=\"sk-container-id-1\" class=\"sk-top-container\"><div class=\"sk-text-repr-fallback\"><pre>GridSearchCV(estimator=Pipeline(steps=[(&#x27;custom_transformer&#x27;,\n",
       "                                        MeanTargetEncoderNoise(categorical=[&#x27;name&#x27;,\n",
       "                                                                            &#x27;year&#x27;,\n",
       "                                                                            &#x27;fuel&#x27;,\n",
       "                                                                            &#x27;seller_type&#x27;,\n",
       "                                                                            &#x27;transmission&#x27;,\n",
       "                                                                            &#x27;owner&#x27;],\n",
       "                                                               numeric=[&#x27;km_driven&#x27;])),\n",
       "                                       (&#x27;decision_tree&#x27;,\n",
       "                                        DecisionTreeRegressor())]),\n",
       "             param_grid={&#x27;decision_tree__max_depth&#x27;: [3, 5, 8, 12],\n",
       "                         &#x27;decision_tree__max_leaf_nodes&#x27;: [100, 200, 500],\n",
       "                         &#x27;decision_tree__min_impurity_decrease&#x27;: [0, 0.1, 0.15,\n",
       "                                                                  0.2],\n",
       "                         &#x27;decision_tree__min_samples_split&#x27;: [10, 50, 100,\n",
       "                                                              500]},\n",
       "             scoring=&#x27;neg_mean_squared_error&#x27;)</pre><b>In a Jupyter environment, please rerun this cell to show the HTML representation or trust the notebook. <br />On GitHub, the HTML representation is unable to render, please try loading this page with nbviewer.org.</b></div><div class=\"sk-container\" hidden><div class=\"sk-item sk-dashed-wrapped\"><div class=\"sk-label-container\"><div class=\"sk-label sk-toggleable\"><input class=\"sk-toggleable__control sk-hidden--visually\" id=\"sk-estimator-id-1\" type=\"checkbox\" ><label for=\"sk-estimator-id-1\" class=\"sk-toggleable__label sk-toggleable__label-arrow\">GridSearchCV</label><div class=\"sk-toggleable__content\"><pre>GridSearchCV(estimator=Pipeline(steps=[(&#x27;custom_transformer&#x27;,\n",
       "                                        MeanTargetEncoderNoise(categorical=[&#x27;name&#x27;,\n",
       "                                                                            &#x27;year&#x27;,\n",
       "                                                                            &#x27;fuel&#x27;,\n",
       "                                                                            &#x27;seller_type&#x27;,\n",
       "                                                                            &#x27;transmission&#x27;,\n",
       "                                                                            &#x27;owner&#x27;],\n",
       "                                                               numeric=[&#x27;km_driven&#x27;])),\n",
       "                                       (&#x27;decision_tree&#x27;,\n",
       "                                        DecisionTreeRegressor())]),\n",
       "             param_grid={&#x27;decision_tree__max_depth&#x27;: [3, 5, 8, 12],\n",
       "                         &#x27;decision_tree__max_leaf_nodes&#x27;: [100, 200, 500],\n",
       "                         &#x27;decision_tree__min_impurity_decrease&#x27;: [0, 0.1, 0.15,\n",
       "                                                                  0.2],\n",
       "                         &#x27;decision_tree__min_samples_split&#x27;: [10, 50, 100,\n",
       "                                                              500]},\n",
       "             scoring=&#x27;neg_mean_squared_error&#x27;)</pre></div></div></div><div class=\"sk-parallel\"><div class=\"sk-parallel-item\"><div class=\"sk-item\"><div class=\"sk-label-container\"><div class=\"sk-label sk-toggleable\"><input class=\"sk-toggleable__control sk-hidden--visually\" id=\"sk-estimator-id-2\" type=\"checkbox\" ><label for=\"sk-estimator-id-2\" class=\"sk-toggleable__label sk-toggleable__label-arrow\">estimator: Pipeline</label><div class=\"sk-toggleable__content\"><pre>Pipeline(steps=[(&#x27;custom_transformer&#x27;,\n",
       "                 MeanTargetEncoderNoise(categorical=[&#x27;name&#x27;, &#x27;year&#x27;, &#x27;fuel&#x27;,\n",
       "                                                     &#x27;seller_type&#x27;,\n",
       "                                                     &#x27;transmission&#x27;, &#x27;owner&#x27;],\n",
       "                                        numeric=[&#x27;km_driven&#x27;])),\n",
       "                (&#x27;decision_tree&#x27;, DecisionTreeRegressor())])</pre></div></div></div><div class=\"sk-serial\"><div class=\"sk-item\"><div class=\"sk-serial\"><div class=\"sk-item\"><div class=\"sk-estimator sk-toggleable\"><input class=\"sk-toggleable__control sk-hidden--visually\" id=\"sk-estimator-id-3\" type=\"checkbox\" ><label for=\"sk-estimator-id-3\" class=\"sk-toggleable__label sk-toggleable__label-arrow\">MeanTargetEncoderNoise</label><div class=\"sk-toggleable__content\"><pre>MeanTargetEncoderNoise(categorical=[&#x27;name&#x27;, &#x27;year&#x27;, &#x27;fuel&#x27;, &#x27;seller_type&#x27;,\n",
       "                                    &#x27;transmission&#x27;, &#x27;owner&#x27;],\n",
       "                       numeric=[&#x27;km_driven&#x27;])</pre></div></div></div><div class=\"sk-item\"><div class=\"sk-estimator sk-toggleable\"><input class=\"sk-toggleable__control sk-hidden--visually\" id=\"sk-estimator-id-4\" type=\"checkbox\" ><label for=\"sk-estimator-id-4\" class=\"sk-toggleable__label sk-toggleable__label-arrow\">DecisionTreeRegressor</label><div class=\"sk-toggleable__content\"><pre>DecisionTreeRegressor()</pre></div></div></div></div></div></div></div></div></div></div></div></div>"
      ],
      "text/plain": [
       "GridSearchCV(estimator=Pipeline(steps=[('custom_transformer',\n",
       "                                        MeanTargetEncoderNoise(categorical=['name',\n",
       "                                                                            'year',\n",
       "                                                                            'fuel',\n",
       "                                                                            'seller_type',\n",
       "                                                                            'transmission',\n",
       "                                                                            'owner'],\n",
       "                                                               numeric=['km_driven'])),\n",
       "                                       ('decision_tree',\n",
       "                                        DecisionTreeRegressor())]),\n",
       "             param_grid={'decision_tree__max_depth': [3, 5, 8, 12],\n",
       "                         'decision_tree__max_leaf_nodes': [100, 200, 500],\n",
       "                         'decision_tree__min_impurity_decrease': [0, 0.1, 0.15,\n",
       "                                                                  0.2],\n",
       "                         'decision_tree__min_samples_split': [10, 50, 100,\n",
       "                                                              500]},\n",
       "             scoring='neg_mean_squared_error')"
      ]
     },
     "execution_count": 108,
     "metadata": {},
     "output_type": "execute_result"
    }
   ],
   "source": [
    "from sklearn.model_selection import GridSearchCV\n",
    "\n",
    "param_grid = {\n",
    "    \"decision_tree__max_depth\": [3, 5, 8, 12],\n",
    "    \"decision_tree__min_samples_split\": [10, 50, 100, 500],\n",
    "    \"decision_tree__min_impurity_decrease\": [0, 0.1, 0.15, 0.2],\n",
    "    \"decision_tree__max_leaf_nodes\": [100, 200, 500]\n",
    "}\n",
    "np.random.seed(1)\n",
    "\n",
    "pipe = Pipeline([(\"custom_transformer\",\n",
    "                      MeanTargetEncoderNoise(categorical=object_cols, numeric=num_cols)),\n",
    "\n",
    "\n",
    "                     (\"decision_tree\", \n",
    "                      DecisionTreeRegressor())])\n",
    "\n",
    "search = GridSearchCV(pipe, \n",
    "                      param_grid, \n",
    "                      scoring='neg_mean_squared_error'\n",
    "                      )\n",
    "\n",
    "search.fit(X_train, y_train)\n",
    "\n",
    "\n",
    "\n"
   ]
  },
  {
   "cell_type": "code",
   "execution_count": 109,
   "metadata": {},
   "outputs": [
    {
     "name": "stdout",
     "output_type": "stream",
     "text": [
      "Best parameter (CV score=-0.57206):\n",
      "{'decision_tree__max_depth': 12, 'decision_tree__max_leaf_nodes': 500, 'decision_tree__min_impurity_decrease': 0.15, 'decision_tree__min_samples_split': 50}\n",
      "Качество лучшей модели на финальном тесте: -0.5204871413036717\n"
     ]
    }
   ],
   "source": [
    "print(f\"Best parameter (CV score={search.best_score_:.5f}):\")\n",
    "print(search.best_params_)\n",
    "\n",
    "print(f\"Качество лучшей модели на финальном тесте: {search.score(X_test, y_test)}\")"
   ]
  },
  {
   "cell_type": "code",
   "execution_count": null,
   "metadata": {},
   "outputs": [],
   "source": []
  }
 ],
 "metadata": {
  "interpreter": {
   "hash": "8db21564b35bbdf2f1295d2e540489014671416f5dc577a5b9d4ca56833a3713"
  },
  "kernelspec": {
   "display_name": "Python 3 (ipykernel)",
   "language": "python",
   "name": "python3"
  },
  "language_info": {
   "codemirror_mode": {
    "name": "ipython",
    "version": 3
   },
   "file_extension": ".py",
   "mimetype": "text/x-python",
   "name": "python",
   "nbconvert_exporter": "python",
   "pygments_lexer": "ipython3",
   "version": "3.9.7"
  }
 },
 "nbformat": 4,
 "nbformat_minor": 4
}

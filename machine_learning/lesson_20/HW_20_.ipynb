{
 "cells": [
  {
   "cell_type": "code",
   "execution_count": 63,
   "id": "c4f14e01",
   "metadata": {},
   "outputs": [],
   "source": [
    "import pandas as pd\n",
    "import numpy as np\n",
    "import matplotlib.pyplot as plt\n",
    "import seaborn as sns\n",
    "\n",
    "import matplotlib\n",
    "matplotlib.rcParams['figure.figsize'] = (8, 5)\n",
    "\n",
    "import warnings\n",
    "warnings.filterwarnings('ignore')"
   ]
  },
  {
   "cell_type": "markdown",
   "id": "3f2f4514",
   "metadata": {},
   "source": [
    "# Boostings"
   ]
  },
  {
   "cell_type": "markdown",
   "id": "c68eb0db",
   "metadata": {},
   "source": [
    "Данные с которыми вы будете работать представляют из себя характеристики клиента страховой компании по которым нужно понять будет ли он заинтересован в страховке. Таким образом, страховая компания может более оптимально таргетить рекламу и выстраивать коммуникацию с клиентами, повышая конверсию.\n",
    "\n",
    "**Описания колонок:**\n",
    "- Gender - Male, Female\n",
    "- Age - Возраст\n",
    "- Driving_License - Наличие водительского удостоверения\n",
    "- Region_Code - Область проживания\n",
    "- Previously_Insured - Пользовался ли раньше услугами страховой компании\n",
    "- Vehicle_Age - Возраст транспортного средства\n",
    "- Vehicle_Damage - Попадало ли траспортное средство в ДТП\n",
    "- Annual_Premium - Ежегодные вылаты клиента\n",
    "- Policy_Sales_Channel - Политика распространения страховых услуг (через посредников, напрямую и т.д.)\n",
    "- Vintage - Количество дней, в течение которых rлиент был связан с компанией \n",
    "\n",
    "\n",
    "- **Response** - заинтересован в страховке 1, не откликнулся 0"
   ]
  },
  {
   "cell_type": "code",
   "execution_count": 64,
   "id": "5ccba5d2",
   "metadata": {},
   "outputs": [
    {
     "data": {
      "text/html": [
       "<div>\n",
       "<style scoped>\n",
       "    .dataframe tbody tr th:only-of-type {\n",
       "        vertical-align: middle;\n",
       "    }\n",
       "\n",
       "    .dataframe tbody tr th {\n",
       "        vertical-align: top;\n",
       "    }\n",
       "\n",
       "    .dataframe thead th {\n",
       "        text-align: right;\n",
       "    }\n",
       "</style>\n",
       "<table border=\"1\" class=\"dataframe\">\n",
       "  <thead>\n",
       "    <tr style=\"text-align: right;\">\n",
       "      <th></th>\n",
       "      <th>Gender</th>\n",
       "      <th>Age</th>\n",
       "      <th>Driving_License</th>\n",
       "      <th>Region_Code</th>\n",
       "      <th>Previously_Insured</th>\n",
       "      <th>Vehicle_Age</th>\n",
       "      <th>Vehicle_Damage</th>\n",
       "      <th>Annual_Premium</th>\n",
       "      <th>Policy_Sales_Channel</th>\n",
       "      <th>Vintage</th>\n",
       "      <th>Response</th>\n",
       "    </tr>\n",
       "  </thead>\n",
       "  <tbody>\n",
       "    <tr>\n",
       "      <th>0</th>\n",
       "      <td>Male</td>\n",
       "      <td>44</td>\n",
       "      <td>1</td>\n",
       "      <td>28.0</td>\n",
       "      <td>0</td>\n",
       "      <td>&gt; 2 Years</td>\n",
       "      <td>Yes</td>\n",
       "      <td>40454.0</td>\n",
       "      <td>26.0</td>\n",
       "      <td>217</td>\n",
       "      <td>1</td>\n",
       "    </tr>\n",
       "    <tr>\n",
       "      <th>1</th>\n",
       "      <td>Male</td>\n",
       "      <td>76</td>\n",
       "      <td>1</td>\n",
       "      <td>3.0</td>\n",
       "      <td>0</td>\n",
       "      <td>1-2 Year</td>\n",
       "      <td>No</td>\n",
       "      <td>33536.0</td>\n",
       "      <td>26.0</td>\n",
       "      <td>183</td>\n",
       "      <td>0</td>\n",
       "    </tr>\n",
       "    <tr>\n",
       "      <th>2</th>\n",
       "      <td>Male</td>\n",
       "      <td>47</td>\n",
       "      <td>1</td>\n",
       "      <td>28.0</td>\n",
       "      <td>0</td>\n",
       "      <td>&gt; 2 Years</td>\n",
       "      <td>Yes</td>\n",
       "      <td>38294.0</td>\n",
       "      <td>26.0</td>\n",
       "      <td>27</td>\n",
       "      <td>1</td>\n",
       "    </tr>\n",
       "    <tr>\n",
       "      <th>3</th>\n",
       "      <td>Male</td>\n",
       "      <td>21</td>\n",
       "      <td>1</td>\n",
       "      <td>11.0</td>\n",
       "      <td>1</td>\n",
       "      <td>&lt; 1 Year</td>\n",
       "      <td>No</td>\n",
       "      <td>28619.0</td>\n",
       "      <td>152.0</td>\n",
       "      <td>203</td>\n",
       "      <td>0</td>\n",
       "    </tr>\n",
       "    <tr>\n",
       "      <th>4</th>\n",
       "      <td>Female</td>\n",
       "      <td>29</td>\n",
       "      <td>1</td>\n",
       "      <td>41.0</td>\n",
       "      <td>1</td>\n",
       "      <td>&lt; 1 Year</td>\n",
       "      <td>No</td>\n",
       "      <td>27496.0</td>\n",
       "      <td>152.0</td>\n",
       "      <td>39</td>\n",
       "      <td>0</td>\n",
       "    </tr>\n",
       "    <tr>\n",
       "      <th>...</th>\n",
       "      <td>...</td>\n",
       "      <td>...</td>\n",
       "      <td>...</td>\n",
       "      <td>...</td>\n",
       "      <td>...</td>\n",
       "      <td>...</td>\n",
       "      <td>...</td>\n",
       "      <td>...</td>\n",
       "      <td>...</td>\n",
       "      <td>...</td>\n",
       "      <td>...</td>\n",
       "    </tr>\n",
       "    <tr>\n",
       "      <th>9995</th>\n",
       "      <td>Female</td>\n",
       "      <td>24</td>\n",
       "      <td>1</td>\n",
       "      <td>37.0</td>\n",
       "      <td>1</td>\n",
       "      <td>&lt; 1 Year</td>\n",
       "      <td>No</td>\n",
       "      <td>21243.0</td>\n",
       "      <td>152.0</td>\n",
       "      <td>21</td>\n",
       "      <td>0</td>\n",
       "    </tr>\n",
       "    <tr>\n",
       "      <th>9996</th>\n",
       "      <td>Male</td>\n",
       "      <td>28</td>\n",
       "      <td>1</td>\n",
       "      <td>35.0</td>\n",
       "      <td>1</td>\n",
       "      <td>&lt; 1 Year</td>\n",
       "      <td>No</td>\n",
       "      <td>23589.0</td>\n",
       "      <td>160.0</td>\n",
       "      <td>173</td>\n",
       "      <td>0</td>\n",
       "    </tr>\n",
       "    <tr>\n",
       "      <th>9997</th>\n",
       "      <td>Female</td>\n",
       "      <td>27</td>\n",
       "      <td>1</td>\n",
       "      <td>15.0</td>\n",
       "      <td>0</td>\n",
       "      <td>&lt; 1 Year</td>\n",
       "      <td>Yes</td>\n",
       "      <td>33340.0</td>\n",
       "      <td>152.0</td>\n",
       "      <td>207</td>\n",
       "      <td>0</td>\n",
       "    </tr>\n",
       "    <tr>\n",
       "      <th>9998</th>\n",
       "      <td>Female</td>\n",
       "      <td>28</td>\n",
       "      <td>1</td>\n",
       "      <td>14.0</td>\n",
       "      <td>1</td>\n",
       "      <td>&lt; 1 Year</td>\n",
       "      <td>No</td>\n",
       "      <td>25426.0</td>\n",
       "      <td>152.0</td>\n",
       "      <td>247</td>\n",
       "      <td>0</td>\n",
       "    </tr>\n",
       "    <tr>\n",
       "      <th>9999</th>\n",
       "      <td>Female</td>\n",
       "      <td>25</td>\n",
       "      <td>1</td>\n",
       "      <td>45.0</td>\n",
       "      <td>1</td>\n",
       "      <td>&lt; 1 Year</td>\n",
       "      <td>No</td>\n",
       "      <td>18843.0</td>\n",
       "      <td>152.0</td>\n",
       "      <td>131</td>\n",
       "      <td>0</td>\n",
       "    </tr>\n",
       "  </tbody>\n",
       "</table>\n",
       "<p>10000 rows × 11 columns</p>\n",
       "</div>"
      ],
      "text/plain": [
       "      Gender  Age  Driving_License  Region_Code  Previously_Insured  \\\n",
       "0       Male   44                1         28.0                   0   \n",
       "1       Male   76                1          3.0                   0   \n",
       "2       Male   47                1         28.0                   0   \n",
       "3       Male   21                1         11.0                   1   \n",
       "4     Female   29                1         41.0                   1   \n",
       "...      ...  ...              ...          ...                 ...   \n",
       "9995  Female   24                1         37.0                   1   \n",
       "9996    Male   28                1         35.0                   1   \n",
       "9997  Female   27                1         15.0                   0   \n",
       "9998  Female   28                1         14.0                   1   \n",
       "9999  Female   25                1         45.0                   1   \n",
       "\n",
       "     Vehicle_Age Vehicle_Damage  Annual_Premium  Policy_Sales_Channel  \\\n",
       "0      > 2 Years            Yes         40454.0                  26.0   \n",
       "1       1-2 Year             No         33536.0                  26.0   \n",
       "2      > 2 Years            Yes         38294.0                  26.0   \n",
       "3       < 1 Year             No         28619.0                 152.0   \n",
       "4       < 1 Year             No         27496.0                 152.0   \n",
       "...          ...            ...             ...                   ...   \n",
       "9995    < 1 Year             No         21243.0                 152.0   \n",
       "9996    < 1 Year             No         23589.0                 160.0   \n",
       "9997    < 1 Year            Yes         33340.0                 152.0   \n",
       "9998    < 1 Year             No         25426.0                 152.0   \n",
       "9999    < 1 Year             No         18843.0                 152.0   \n",
       "\n",
       "      Vintage  Response  \n",
       "0         217         1  \n",
       "1         183         0  \n",
       "2          27         1  \n",
       "3         203         0  \n",
       "4          39         0  \n",
       "...       ...       ...  \n",
       "9995       21         0  \n",
       "9996      173         0  \n",
       "9997      207         0  \n",
       "9998      247         0  \n",
       "9999      131         0  \n",
       "\n",
       "[10000 rows x 11 columns]"
      ]
     },
     "execution_count": 64,
     "metadata": {},
     "output_type": "execute_result"
    }
   ],
   "source": [
    "data = pd.read_csv('vehicle_insurance.csv')\n",
    "\n",
    "data"
   ]
  },
  {
   "cell_type": "markdown",
   "id": "4c268498",
   "metadata": {},
   "source": [
    "**Задание 0.** Проведите небольшой EDA. Посмотрите на распределения некоторых колонок, на матрицу корреляций. Также проверьте баланс классов и посмотрите на распределение возраста транспортного средства в зависимости от response. \\\n",
    "Закодируйте признаки типа `object` с помощью `one-hot` кодирования.\n",
    "\n",
    "P.S. некоторые не `object`колонки по смыслу очевидно являются категориальными. Так как мы будем строить ансамбли на основе деревьев, их можно оставить в первоначальном виде."
   ]
  },
  {
   "cell_type": "code",
   "execution_count": 65,
   "id": "69d5fe64",
   "metadata": {},
   "outputs": [
    {
     "data": {
      "text/plain": [
       "Index(['Age', 'Driving_License', 'Region_Code', 'Previously_Insured',\n",
       "       'Annual_Premium', 'Policy_Sales_Channel', 'Vintage', 'Response'],\n",
       "      dtype='object')"
      ]
     },
     "execution_count": 65,
     "metadata": {},
     "output_type": "execute_result"
    }
   ],
   "source": [
    "numeric_columns = data.loc[:,data.dtypes!=np.object].columns\n",
    "numeric_columns"
   ]
  },
  {
   "cell_type": "code",
   "execution_count": 66,
   "id": "aff9cd63",
   "metadata": {},
   "outputs": [
    {
     "data": {
      "text/html": [
       "<div>\n",
       "<style scoped>\n",
       "    .dataframe tbody tr th:only-of-type {\n",
       "        vertical-align: middle;\n",
       "    }\n",
       "\n",
       "    .dataframe tbody tr th {\n",
       "        vertical-align: top;\n",
       "    }\n",
       "\n",
       "    .dataframe thead th {\n",
       "        text-align: right;\n",
       "    }\n",
       "</style>\n",
       "<table border=\"1\" class=\"dataframe\">\n",
       "  <thead>\n",
       "    <tr style=\"text-align: right;\">\n",
       "      <th></th>\n",
       "      <th>Age</th>\n",
       "      <th>Driving_License</th>\n",
       "      <th>Region_Code</th>\n",
       "      <th>Previously_Insured</th>\n",
       "      <th>Annual_Premium</th>\n",
       "      <th>Policy_Sales_Channel</th>\n",
       "      <th>Vintage</th>\n",
       "      <th>Response</th>\n",
       "    </tr>\n",
       "  </thead>\n",
       "  <tbody>\n",
       "    <tr>\n",
       "      <th>count</th>\n",
       "      <td>10000.000000</td>\n",
       "      <td>10000.000000</td>\n",
       "      <td>10000.000000</td>\n",
       "      <td>10000.000000</td>\n",
       "      <td>10000.000000</td>\n",
       "      <td>10000.000000</td>\n",
       "      <td>10000.000000</td>\n",
       "      <td>10000.000000</td>\n",
       "    </tr>\n",
       "    <tr>\n",
       "      <th>mean</th>\n",
       "      <td>38.812900</td>\n",
       "      <td>0.997800</td>\n",
       "      <td>26.425400</td>\n",
       "      <td>0.443800</td>\n",
       "      <td>30609.649700</td>\n",
       "      <td>112.414400</td>\n",
       "      <td>155.560300</td>\n",
       "      <td>0.124700</td>\n",
       "    </tr>\n",
       "    <tr>\n",
       "      <th>std</th>\n",
       "      <td>15.514785</td>\n",
       "      <td>0.046855</td>\n",
       "      <td>13.153552</td>\n",
       "      <td>0.496856</td>\n",
       "      <td>16562.392967</td>\n",
       "      <td>53.975042</td>\n",
       "      <td>83.923849</td>\n",
       "      <td>0.330395</td>\n",
       "    </tr>\n",
       "    <tr>\n",
       "      <th>min</th>\n",
       "      <td>20.000000</td>\n",
       "      <td>0.000000</td>\n",
       "      <td>0.000000</td>\n",
       "      <td>0.000000</td>\n",
       "      <td>2630.000000</td>\n",
       "      <td>1.000000</td>\n",
       "      <td>10.000000</td>\n",
       "      <td>0.000000</td>\n",
       "    </tr>\n",
       "    <tr>\n",
       "      <th>25%</th>\n",
       "      <td>25.000000</td>\n",
       "      <td>1.000000</td>\n",
       "      <td>15.000000</td>\n",
       "      <td>0.000000</td>\n",
       "      <td>24458.250000</td>\n",
       "      <td>30.000000</td>\n",
       "      <td>83.000000</td>\n",
       "      <td>0.000000</td>\n",
       "    </tr>\n",
       "    <tr>\n",
       "      <th>50%</th>\n",
       "      <td>36.000000</td>\n",
       "      <td>1.000000</td>\n",
       "      <td>28.000000</td>\n",
       "      <td>0.000000</td>\n",
       "      <td>31746.000000</td>\n",
       "      <td>136.000000</td>\n",
       "      <td>156.000000</td>\n",
       "      <td>0.000000</td>\n",
       "    </tr>\n",
       "    <tr>\n",
       "      <th>75%</th>\n",
       "      <td>49.000000</td>\n",
       "      <td>1.000000</td>\n",
       "      <td>35.000000</td>\n",
       "      <td>1.000000</td>\n",
       "      <td>39572.250000</td>\n",
       "      <td>152.000000</td>\n",
       "      <td>228.000000</td>\n",
       "      <td>0.000000</td>\n",
       "    </tr>\n",
       "    <tr>\n",
       "      <th>max</th>\n",
       "      <td>84.000000</td>\n",
       "      <td>1.000000</td>\n",
       "      <td>52.000000</td>\n",
       "      <td>1.000000</td>\n",
       "      <td>267698.000000</td>\n",
       "      <td>163.000000</td>\n",
       "      <td>299.000000</td>\n",
       "      <td>1.000000</td>\n",
       "    </tr>\n",
       "  </tbody>\n",
       "</table>\n",
       "</div>"
      ],
      "text/plain": [
       "                Age  Driving_License   Region_Code  Previously_Insured  \\\n",
       "count  10000.000000     10000.000000  10000.000000        10000.000000   \n",
       "mean      38.812900         0.997800     26.425400            0.443800   \n",
       "std       15.514785         0.046855     13.153552            0.496856   \n",
       "min       20.000000         0.000000      0.000000            0.000000   \n",
       "25%       25.000000         1.000000     15.000000            0.000000   \n",
       "50%       36.000000         1.000000     28.000000            0.000000   \n",
       "75%       49.000000         1.000000     35.000000            1.000000   \n",
       "max       84.000000         1.000000     52.000000            1.000000   \n",
       "\n",
       "       Annual_Premium  Policy_Sales_Channel       Vintage      Response  \n",
       "count    10000.000000          10000.000000  10000.000000  10000.000000  \n",
       "mean     30609.649700            112.414400    155.560300      0.124700  \n",
       "std      16562.392967             53.975042     83.923849      0.330395  \n",
       "min       2630.000000              1.000000     10.000000      0.000000  \n",
       "25%      24458.250000             30.000000     83.000000      0.000000  \n",
       "50%      31746.000000            136.000000    156.000000      0.000000  \n",
       "75%      39572.250000            152.000000    228.000000      0.000000  \n",
       "max     267698.000000            163.000000    299.000000      1.000000  "
      ]
     },
     "execution_count": 66,
     "metadata": {},
     "output_type": "execute_result"
    }
   ],
   "source": [
    "data.describe()"
   ]
  },
  {
   "cell_type": "code",
   "execution_count": 67,
   "id": "7b1d8ded",
   "metadata": {},
   "outputs": [
    {
     "data": {
      "image/png": "[encoded data removed]",
      "text/plain": [
       "<Figure size 1152x720 with 8 Axes>"
      ]
     },
     "metadata": {
      "needs_background": "light"
     },
     "output_type": "display_data"
    }
   ],
   "source": [
    "fig = plt.figure()\n",
    "\n",
    "fig.set_size_inches(16, 10)\n",
    "\n",
    "\n",
    "for i in range(len(numeric_columns)):\n",
    "    ax_1 = fig.add_subplot(4, 2, i+1)\n",
    "    col = numeric_columns[i]\n",
    "    ax_1.set(title = col)    \n",
    "    plt.boxplot(data[col].values)\n",
    "    if col == 'Annual_Premium':\n",
    "        plt.ylim((0, 100000))\n",
    "    \n",
    "fig.tight_layout()\n",
    "    \n",
    "plt.show()"
   ]
  },
  {
   "cell_type": "code",
   "execution_count": 68,
   "id": "1d0f57ea",
   "metadata": {},
   "outputs": [
    {
     "data": {
      "text/plain": [
       "Index(['Gender', 'Vehicle_Age', 'Vehicle_Damage'], dtype='object')"
      ]
     },
     "execution_count": 68,
     "metadata": {},
     "output_type": "execute_result"
    }
   ],
   "source": [
    "categorical_columns = data.loc[:,data.dtypes==np.object].columns\n",
    "categorical_columns"
   ]
  },
  {
   "cell_type": "code",
   "execution_count": 69,
   "id": "807d82f3",
   "metadata": {},
   "outputs": [
    {
     "data": {
      "text/html": [
       "<div>\n",
       "<style scoped>\n",
       "    .dataframe tbody tr th:only-of-type {\n",
       "        vertical-align: middle;\n",
       "    }\n",
       "\n",
       "    .dataframe tbody tr th {\n",
       "        vertical-align: top;\n",
       "    }\n",
       "\n",
       "    .dataframe thead th {\n",
       "        text-align: right;\n",
       "    }\n",
       "</style>\n",
       "<table border=\"1\" class=\"dataframe\">\n",
       "  <thead>\n",
       "    <tr style=\"text-align: right;\">\n",
       "      <th></th>\n",
       "      <th>Gender</th>\n",
       "      <th>Vehicle_Age</th>\n",
       "      <th>Vehicle_Damage</th>\n",
       "    </tr>\n",
       "  </thead>\n",
       "  <tbody>\n",
       "    <tr>\n",
       "      <th>count</th>\n",
       "      <td>10000</td>\n",
       "      <td>10000</td>\n",
       "      <td>10000</td>\n",
       "    </tr>\n",
       "    <tr>\n",
       "      <th>unique</th>\n",
       "      <td>2</td>\n",
       "      <td>3</td>\n",
       "      <td>2</td>\n",
       "    </tr>\n",
       "    <tr>\n",
       "      <th>top</th>\n",
       "      <td>Male</td>\n",
       "      <td>1-2 Year</td>\n",
       "      <td>Yes</td>\n",
       "    </tr>\n",
       "    <tr>\n",
       "      <th>freq</th>\n",
       "      <td>5437</td>\n",
       "      <td>5263</td>\n",
       "      <td>5143</td>\n",
       "    </tr>\n",
       "  </tbody>\n",
       "</table>\n",
       "</div>"
      ],
      "text/plain": [
       "       Gender Vehicle_Age Vehicle_Damage\n",
       "count   10000       10000          10000\n",
       "unique      2           3              2\n",
       "top      Male    1-2 Year            Yes\n",
       "freq     5437        5263           5143"
      ]
     },
     "execution_count": 69,
     "metadata": {},
     "output_type": "execute_result"
    }
   ],
   "source": [
    "data.describe(include=\"object\")"
   ]
  },
  {
   "cell_type": "code",
   "execution_count": 70,
   "id": "da23cddc",
   "metadata": {},
   "outputs": [
    {
     "data": {
      "image/png": "[encoded data removed]",
      "text/plain": [
       "<Figure size 1152x720 with 3 Axes>"
      ]
     },
     "metadata": {
      "needs_background": "light"
     },
     "output_type": "display_data"
    }
   ],
   "source": [
    "fig = plt.figure()\n",
    "\n",
    "fig.set_size_inches(16, 10)\n",
    "\n",
    "\n",
    "for i in range(len(categorical_columns)):\n",
    "    ax_1 = fig.add_subplot(4, 2, i+1)\n",
    "    col = categorical_columns[i]\n",
    "    ax_1.set(title = col)    \n",
    "    ax_1.bar(data[col].value_counts().index,data[col].value_counts().values)\n",
    "    \n",
    "fig.tight_layout()\n",
    "    \n",
    "plt.show()"
   ]
  },
  {
   "cell_type": "code",
   "execution_count": 71,
   "id": "31d41d20",
   "metadata": {},
   "outputs": [
    {
     "data": {
      "text/html": [
       "<div>\n",
       "<style scoped>\n",
       "    .dataframe tbody tr th:only-of-type {\n",
       "        vertical-align: middle;\n",
       "    }\n",
       "\n",
       "    .dataframe tbody tr th {\n",
       "        vertical-align: top;\n",
       "    }\n",
       "\n",
       "    .dataframe thead th {\n",
       "        text-align: right;\n",
       "    }\n",
       "</style>\n",
       "<table border=\"1\" class=\"dataframe\">\n",
       "  <thead>\n",
       "    <tr style=\"text-align: right;\">\n",
       "      <th></th>\n",
       "      <th>Age</th>\n",
       "      <th>Driving_License</th>\n",
       "      <th>Region_Code</th>\n",
       "      <th>Previously_Insured</th>\n",
       "      <th>Annual_Premium</th>\n",
       "      <th>Policy_Sales_Channel</th>\n",
       "      <th>Vintage</th>\n",
       "      <th>Response</th>\n",
       "    </tr>\n",
       "  </thead>\n",
       "  <tbody>\n",
       "    <tr>\n",
       "      <th>Age</th>\n",
       "      <td>1.000000</td>\n",
       "      <td>-0.081323</td>\n",
       "      <td>0.030638</td>\n",
       "      <td>-0.261456</td>\n",
       "      <td>0.081564</td>\n",
       "      <td>-0.576066</td>\n",
       "      <td>0.000030</td>\n",
       "      <td>0.113888</td>\n",
       "    </tr>\n",
       "    <tr>\n",
       "      <th>Driving_License</th>\n",
       "      <td>-0.081323</td>\n",
       "      <td>1.000000</td>\n",
       "      <td>0.004926</td>\n",
       "      <td>0.020464</td>\n",
       "      <td>-0.014338</td>\n",
       "      <td>0.044335</td>\n",
       "      <td>0.002704</td>\n",
       "      <td>0.011263</td>\n",
       "    </tr>\n",
       "    <tr>\n",
       "      <th>Region_Code</th>\n",
       "      <td>0.030638</td>\n",
       "      <td>0.004926</td>\n",
       "      <td>1.000000</td>\n",
       "      <td>-0.021270</td>\n",
       "      <td>-0.012213</td>\n",
       "      <td>-0.039733</td>\n",
       "      <td>-0.008527</td>\n",
       "      <td>0.010230</td>\n",
       "    </tr>\n",
       "    <tr>\n",
       "      <th>Previously_Insured</th>\n",
       "      <td>-0.261456</td>\n",
       "      <td>0.020464</td>\n",
       "      <td>-0.021270</td>\n",
       "      <td>1.000000</td>\n",
       "      <td>-0.005164</td>\n",
       "      <td>0.224719</td>\n",
       "      <td>0.022350</td>\n",
       "      <td>-0.333502</td>\n",
       "    </tr>\n",
       "    <tr>\n",
       "      <th>Annual_Premium</th>\n",
       "      <td>0.081564</td>\n",
       "      <td>-0.014338</td>\n",
       "      <td>-0.012213</td>\n",
       "      <td>-0.005164</td>\n",
       "      <td>1.000000</td>\n",
       "      <td>-0.123851</td>\n",
       "      <td>-0.008878</td>\n",
       "      <td>0.029839</td>\n",
       "    </tr>\n",
       "    <tr>\n",
       "      <th>Policy_Sales_Channel</th>\n",
       "      <td>-0.576066</td>\n",
       "      <td>0.044335</td>\n",
       "      <td>-0.039733</td>\n",
       "      <td>0.224719</td>\n",
       "      <td>-0.123851</td>\n",
       "      <td>1.000000</td>\n",
       "      <td>-0.006131</td>\n",
       "      <td>-0.146421</td>\n",
       "    </tr>\n",
       "    <tr>\n",
       "      <th>Vintage</th>\n",
       "      <td>0.000030</td>\n",
       "      <td>0.002704</td>\n",
       "      <td>-0.008527</td>\n",
       "      <td>0.022350</td>\n",
       "      <td>-0.008878</td>\n",
       "      <td>-0.006131</td>\n",
       "      <td>1.000000</td>\n",
       "      <td>-0.007187</td>\n",
       "    </tr>\n",
       "    <tr>\n",
       "      <th>Response</th>\n",
       "      <td>0.113888</td>\n",
       "      <td>0.011263</td>\n",
       "      <td>0.010230</td>\n",
       "      <td>-0.333502</td>\n",
       "      <td>0.029839</td>\n",
       "      <td>-0.146421</td>\n",
       "      <td>-0.007187</td>\n",
       "      <td>1.000000</td>\n",
       "    </tr>\n",
       "  </tbody>\n",
       "</table>\n",
       "</div>"
      ],
      "text/plain": [
       "                           Age  Driving_License  Region_Code  \\\n",
       "Age                   1.000000        -0.081323     0.030638   \n",
       "Driving_License      -0.081323         1.000000     0.004926   \n",
       "Region_Code           0.030638         0.004926     1.000000   \n",
       "Previously_Insured   -0.261456         0.020464    -0.021270   \n",
       "Annual_Premium        0.081564        -0.014338    -0.012213   \n",
       "Policy_Sales_Channel -0.576066         0.044335    -0.039733   \n",
       "Vintage               0.000030         0.002704    -0.008527   \n",
       "Response              0.113888         0.011263     0.010230   \n",
       "\n",
       "                      Previously_Insured  Annual_Premium  \\\n",
       "Age                            -0.261456        0.081564   \n",
       "Driving_License                 0.020464       -0.014338   \n",
       "Region_Code                    -0.021270       -0.012213   \n",
       "Previously_Insured              1.000000       -0.005164   \n",
       "Annual_Premium                 -0.005164        1.000000   \n",
       "Policy_Sales_Channel            0.224719       -0.123851   \n",
       "Vintage                         0.022350       -0.008878   \n",
       "Response                       -0.333502        0.029839   \n",
       "\n",
       "                      Policy_Sales_Channel   Vintage  Response  \n",
       "Age                              -0.576066  0.000030  0.113888  \n",
       "Driving_License                   0.044335  0.002704  0.011263  \n",
       "Region_Code                      -0.039733 -0.008527  0.010230  \n",
       "Previously_Insured                0.224719  0.022350 -0.333502  \n",
       "Annual_Premium                   -0.123851 -0.008878  0.029839  \n",
       "Policy_Sales_Channel              1.000000 -0.006131 -0.146421  \n",
       "Vintage                          -0.006131  1.000000 -0.007187  \n",
       "Response                         -0.146421 -0.007187  1.000000  "
      ]
     },
     "execution_count": 71,
     "metadata": {},
     "output_type": "execute_result"
    }
   ],
   "source": [
    "data[numeric_columns].corr()"
   ]
  },
  {
   "cell_type": "code",
   "execution_count": 72,
   "id": "f0c8e26b",
   "metadata": {},
   "outputs": [
    {
     "data": {
      "image/png": "[encoded data removed]",
      "text/plain": [
       "<Figure size 1152x720 with 2 Axes>"
      ]
     },
     "metadata": {
      "needs_background": "light"
     },
     "output_type": "display_data"
    }
   ],
   "source": [
    "import seaborn as sns\n",
    "\n",
    "fig = plt.figure()\n",
    "\n",
    "fig.set_size_inches(16, 10)\n",
    "\n",
    "sns.heatmap(data[numeric_columns].corr(), \n",
    "            xticklabels=numeric_columns,\n",
    "            yticklabels=numeric_columns,\n",
    "            cmap='BrBG',\n",
    "            vmin=-1,\n",
    "            vmax=1)\n",
    "\n",
    "plt.show()\n",
    "\n",
    "\n"
   ]
  },
  {
   "cell_type": "code",
   "execution_count": 73,
   "id": "fab5e936",
   "metadata": {},
   "outputs": [
    {
     "data": {
      "text/plain": [
       "0    8753\n",
       "1    1247\n",
       "Name: Response, dtype: int64"
      ]
     },
     "execution_count": 73,
     "metadata": {},
     "output_type": "execute_result"
    }
   ],
   "source": [
    "data['Response'].value_counts()"
   ]
  },
  {
   "cell_type": "code",
   "execution_count": 74,
   "id": "a496d5e8",
   "metadata": {},
   "outputs": [
    {
     "data": {
      "image/png": "[encoded data removed]",
      "text/plain": [
       "<Figure size 1152x720 with 1 Axes>"
      ]
     },
     "metadata": {
      "needs_background": "light"
     },
     "output_type": "display_data"
    }
   ],
   "source": [
    "boxplot_data = []\n",
    "\n",
    "for v in np.sort(data['Response'].unique()):\n",
    "    boxplot_data.append((v, data[data['Response']==v]['Age']))\n",
    "    \n",
    "fig = plt.figure()\n",
    "fig.set_size_inches(16, 10)\n",
    "\n",
    "plt.boxplot([v for  k,v in boxplot_data],\n",
    "            labels=[k for  k,v in boxplot_data])\n",
    "\n",
    "# plt.ylim((3, 10))\n",
    "\n",
    "plt.show()"
   ]
  },
  {
   "cell_type": "code",
   "execution_count": 75,
   "id": "838de835",
   "metadata": {},
   "outputs": [],
   "source": [
    "for col in categorical_columns:\n",
    "    one_hot = pd.get_dummies(data[col], prefix=col, drop_first=True)     \n",
    "    data = pd.concat((data.drop(col, axis=1), one_hot), axis=1)"
   ]
  },
  {
   "cell_type": "markdown",
   "id": "7f78b8c1",
   "metadata": {},
   "source": [
    "**Задание 1.** Обучите градиентный бустинг из sklearn на данных и замерьте accuracy и f1-score на тестовой выборке. В качестве параметров ансамбля установите `learning_rate = 1`, `random_state = 1`, `n_estimators = 100`. Изобразите ROC-кривую и посчитайте AUC, оцените качество классификации. (2б)\n",
    "\n",
    "P.S. для всех прочих моделей в этом домашнем задании тоже фиксируйте `random_state = 1`. Как думаете, что может быть случайного в процедуре обучения градиентного бустинга?"
   ]
  },
  {
   "cell_type": "code",
   "execution_count": 76,
   "id": "981f7ddb",
   "metadata": {},
   "outputs": [],
   "source": [
    "from sklearn.model_selection import train_test_split\n",
    "from sklearn.metrics import classification_report, f1_score, roc_curve, auc, RocCurveDisplay\n",
    "\n",
    "X = data.drop('Response', axis=1)\n",
    "y = data['Response']\n",
    "\n",
    "X_train, X_test, y_train, y_test = train_test_split(X, y,\n",
    "                                                    random_state=0,\n",
    "                                                    shuffle=True,\n",
    "                                                    test_size=0.2)"
   ]
  },
  {
   "cell_type": "code",
   "execution_count": 25,
   "id": "8bd522d4",
   "metadata": {},
   "outputs": [
    {
     "data": {
      "text/html": [
       "<style>#sk-container-id-1 {color: black;background-color: white;}#sk-container-id-1 pre{padding: 0;}#sk-container-id-1 div.sk-toggleable {background-color: white;}#sk-container-id-1 label.sk-toggleable__label {cursor: pointer;display: block;width: 100%;margin-bottom: 0;padding: 0.3em;box-sizing: border-box;text-align: center;}#sk-container-id-1 label.sk-toggleable__label-arrow:before {content: \"▸\";float: left;margin-right: 0.25em;color: #696969;}#sk-container-id-1 label.sk-toggleable__label-arrow:hover:before {color: black;}#sk-container-id-1 div.sk-estimator:hover label.sk-toggleable__label-arrow:before {color: black;}#sk-container-id-1 div.sk-toggleable__content {max-height: 0;max-width: 0;overflow: hidden;text-align: left;background-color: #f0f8ff;}#sk-container-id-1 div.sk-toggleable__content pre {margin: 0.2em;color: black;border-radius: 0.25em;background-color: #f0f8ff;}#sk-container-id-1 input.sk-toggleable__control:checked~div.sk-toggleable__content {max-height: 200px;max-width: 100%;overflow: auto;}#sk-container-id-1 input.sk-toggleable__control:checked~label.sk-toggleable__label-arrow:before {content: \"▾\";}#sk-container-id-1 div.sk-estimator input.sk-toggleable__control:checked~label.sk-toggleable__label {background-color: #d4ebff;}#sk-container-id-1 div.sk-label input.sk-toggleable__control:checked~label.sk-toggleable__label {background-color: #d4ebff;}#sk-container-id-1 input.sk-hidden--visually {border: 0;clip: rect(1px 1px 1px 1px);clip: rect(1px, 1px, 1px, 1px);height: 1px;margin: -1px;overflow: hidden;padding: 0;position: absolute;width: 1px;}#sk-container-id-1 div.sk-estimator {font-family: monospace;background-color: #f0f8ff;border: 1px dotted black;border-radius: 0.25em;box-sizing: border-box;margin-bottom: 0.5em;}#sk-container-id-1 div.sk-estimator:hover {background-color: #d4ebff;}#sk-container-id-1 div.sk-parallel-item::after {content: \"\";width: 100%;border-bottom: 1px solid gray;flex-grow: 1;}#sk-container-id-1 div.sk-label:hover label.sk-toggleable__label {background-color: #d4ebff;}#sk-container-id-1 div.sk-serial::before {content: \"\";position: absolute;border-left: 1px solid gray;box-sizing: border-box;top: 0;bottom: 0;left: 50%;z-index: 0;}#sk-container-id-1 div.sk-serial {display: flex;flex-direction: column;align-items: center;background-color: white;padding-right: 0.2em;padding-left: 0.2em;position: relative;}#sk-container-id-1 div.sk-item {position: relative;z-index: 1;}#sk-container-id-1 div.sk-parallel {display: flex;align-items: stretch;justify-content: center;background-color: white;position: relative;}#sk-container-id-1 div.sk-item::before, #sk-container-id-1 div.sk-parallel-item::before {content: \"\";position: absolute;border-left: 1px solid gray;box-sizing: border-box;top: 0;bottom: 0;left: 50%;z-index: -1;}#sk-container-id-1 div.sk-parallel-item {display: flex;flex-direction: column;z-index: 1;position: relative;background-color: white;}#sk-container-id-1 div.sk-parallel-item:first-child::after {align-self: flex-end;width: 50%;}#sk-container-id-1 div.sk-parallel-item:last-child::after {align-self: flex-start;width: 50%;}#sk-container-id-1 div.sk-parallel-item:only-child::after {width: 0;}#sk-container-id-1 div.sk-dashed-wrapped {border: 1px dashed gray;margin: 0 0.4em 0.5em 0.4em;box-sizing: border-box;padding-bottom: 0.4em;background-color: white;}#sk-container-id-1 div.sk-label label {font-family: monospace;font-weight: bold;display: inline-block;line-height: 1.2em;}#sk-container-id-1 div.sk-label-container {text-align: center;}#sk-container-id-1 div.sk-container {/* jupyter's `normalize.less` sets `[hidden] { display: none; }` but bootstrap.min.css set `[hidden] { display: none !important; }` so we also need the `!important` here to be able to override the default hidden behavior on the sphinx rendered scikit-learn.org. See: https://github.com/scikit-learn/scikit-learn/issues/21755 */display: inline-block !important;position: relative;}#sk-container-id-1 div.sk-text-repr-fallback {display: none;}</style><div id=\"sk-container-id-1\" class=\"sk-top-container\"><div class=\"sk-text-repr-fallback\"><pre>GradientBoostingClassifier(learning_rate=1, random_state=1)</pre><b>In a Jupyter environment, please rerun this cell to show the HTML representation or trust the notebook. <br />On GitHub, the HTML representation is unable to render, please try loading this page with nbviewer.org.</b></div><div class=\"sk-container\" hidden><div class=\"sk-item\"><div class=\"sk-estimator sk-toggleable\"><input class=\"sk-toggleable__control sk-hidden--visually\" id=\"sk-estimator-id-1\" type=\"checkbox\" checked><label for=\"sk-estimator-id-1\" class=\"sk-toggleable__label sk-toggleable__label-arrow\">GradientBoostingClassifier</label><div class=\"sk-toggleable__content\"><pre>GradientBoostingClassifier(learning_rate=1, random_state=1)</pre></div></div></div></div></div>"
      ],
      "text/plain": [
       "GradientBoostingClassifier(learning_rate=1, random_state=1)"
      ]
     },
     "execution_count": 25,
     "metadata": {},
     "output_type": "execute_result"
    }
   ],
   "source": [
    "from sklearn.ensemble import GradientBoostingClassifier\n",
    "\n",
    "model = GradientBoostingClassifier(learning_rate=1,\n",
    "                                   random_state=1,\n",
    "                                   n_estimators=100)\n",
    "\n",
    "model.fit(X_train, y_train)"
   ]
  },
  {
   "cell_type": "code",
   "execution_count": 26,
   "id": "80fd84a0",
   "metadata": {},
   "outputs": [
    {
     "name": "stdout",
     "output_type": "stream",
     "text": [
      "0.8515\n"
     ]
    }
   ],
   "source": [
    "print(model.score(X_test, y_test))"
   ]
  },
  {
   "cell_type": "code",
   "execution_count": 27,
   "id": "b2d5eaad",
   "metadata": {},
   "outputs": [
    {
     "name": "stdout",
     "output_type": "stream",
     "text": [
      "0.27027027027027023\n"
     ]
    }
   ],
   "source": [
    "print(f1_score(y_test, model.predict(X_test)))"
   ]
  },
  {
   "cell_type": "code",
   "execution_count": 28,
   "id": "e10b9e8a",
   "metadata": {},
   "outputs": [
    {
     "name": "stdout",
     "output_type": "stream",
     "text": [
      "0.828168754605748\n"
     ]
    },
    {
     "data": {
      "text/plain": [
       "<sklearn.metrics._plot.roc_curve.RocCurveDisplay at 0x1e9d70f4bb0>"
      ]
     },
     "execution_count": 28,
     "metadata": {},
     "output_type": "execute_result"
    },
    {
     "data": {
      "image/png": "[encoded data removed]",
      "text/plain": [
       "<Figure size 576x360 with 1 Axes>"
      ]
     },
     "metadata": {
      "needs_background": "light"
     },
     "output_type": "display_data"
    }
   ],
   "source": [
    "fpr, tpr, thresholds = roc_curve(y_test, model.predict_proba(X_test)[:, 1])\n",
    "\n",
    "print(auc(fpr, tpr))\n",
    "\n",
    "RocCurveDisplay(fpr=fpr, tpr=tpr).plot()"
   ]
  },
  {
   "cell_type": "markdown",
   "id": "365f1b91",
   "metadata": {},
   "source": [
    "**Задание 2.** Переберите параметры `n_estimators` и `learning_rate` по двумерной сетке. При обучении в цикле сразу считайте f1-score на тестовой выборке и сохраняйте результат в матрицу. Для какого алгоритма качество окажется максимальным?\n",
    "\n",
    "Постройте кривые для метрики f1-score в зависимости от числа шагов для нескольких learning_rate. Изобразите heatmap полученной матрицы. Сделайте вывод, как количество шагов влияет на качество совместно с различной скоростью обучения? (2б)\n",
    "\n",
    "P.S. для подсчета f1-score передайте в функцию параметр `average='weighted'`, чтобы учитывался еще и баланс классов (вспомните микро/макро-усреднения)."
   ]
  },
  {
   "cell_type": "code",
   "execution_count": 31,
   "id": "c9c46926",
   "metadata": {},
   "outputs": [],
   "source": [
    "### Задаем сетку параметров\n",
    "\n",
    "n_estimators_list = [5, 10, 20, 50, 100, 200, 700, 1000]\n",
    "learning_rate_list = [1, 0.1, 0.01]"
   ]
  },
  {
   "cell_type": "code",
   "execution_count": 32,
   "id": "10f200a0",
   "metadata": {
    "scrolled": true
   },
   "outputs": [],
   "source": [
    "f1_score_matrix = {}\n",
    "feature_importances_matrix = {}\n",
    "\n",
    "for r in learning_rate_list:\n",
    "    f1_score_matrix[r] = []\n",
    "    feature_importances_matrix[r] = []\n",
    "    for e in n_estimators_list:\n",
    "        model = GradientBoostingClassifier(learning_rate=r,\n",
    "                                   random_state=1,\n",
    "                                   n_estimators=e)\n",
    "\n",
    "        model.fit(X_train, y_train)\n",
    "        \n",
    "        f1_score_matrix[r].append(f1_score(y_test, model.predict(X_test), average='weighted'))\n",
    "        feature_importances_matrix[r].append(model.feature_importances_)"
   ]
  },
  {
   "cell_type": "code",
   "execution_count": 33,
   "id": "2a8f23a7",
   "metadata": {},
   "outputs": [],
   "source": [
    "f1_score_df  = pd.DataFrame(f1_score_matrix, index=n_estimators_list)"
   ]
  },
  {
   "cell_type": "code",
   "execution_count": 34,
   "id": "e101bb05",
   "metadata": {},
   "outputs": [
    {
     "data": {
      "text/html": [
       "<div>\n",
       "<style scoped>\n",
       "    .dataframe tbody tr th:only-of-type {\n",
       "        vertical-align: middle;\n",
       "    }\n",
       "\n",
       "    .dataframe tbody tr th {\n",
       "        vertical-align: top;\n",
       "    }\n",
       "\n",
       "    .dataframe thead th {\n",
       "        text-align: right;\n",
       "    }\n",
       "</style>\n",
       "<table border=\"1\" class=\"dataframe\">\n",
       "  <thead>\n",
       "    <tr style=\"text-align: right;\">\n",
       "      <th></th>\n",
       "      <th>1.00</th>\n",
       "      <th>0.10</th>\n",
       "      <th>0.01</th>\n",
       "    </tr>\n",
       "  </thead>\n",
       "  <tbody>\n",
       "    <tr>\n",
       "      <th>5</th>\n",
       "      <td>0.831627</td>\n",
       "      <td>0.830759</td>\n",
       "      <td>0.831008</td>\n",
       "    </tr>\n",
       "    <tr>\n",
       "      <th>10</th>\n",
       "      <td>0.838842</td>\n",
       "      <td>0.830759</td>\n",
       "      <td>0.831008</td>\n",
       "    </tr>\n",
       "    <tr>\n",
       "      <th>20</th>\n",
       "      <td>0.841775</td>\n",
       "      <td>0.830759</td>\n",
       "      <td>0.831008</td>\n",
       "    </tr>\n",
       "    <tr>\n",
       "      <th>50</th>\n",
       "      <td>0.841602</td>\n",
       "      <td>0.830759</td>\n",
       "      <td>0.831008</td>\n",
       "    </tr>\n",
       "    <tr>\n",
       "      <th>100</th>\n",
       "      <td>0.842926</td>\n",
       "      <td>0.831971</td>\n",
       "      <td>0.830759</td>\n",
       "    </tr>\n",
       "    <tr>\n",
       "      <th>200</th>\n",
       "      <td>0.840530</td>\n",
       "      <td>0.835457</td>\n",
       "      <td>0.830759</td>\n",
       "    </tr>\n",
       "    <tr>\n",
       "      <th>700</th>\n",
       "      <td>0.842988</td>\n",
       "      <td>0.845544</td>\n",
       "      <td>0.830510</td>\n",
       "    </tr>\n",
       "    <tr>\n",
       "      <th>1000</th>\n",
       "      <td>0.841267</td>\n",
       "      <td>0.844815</td>\n",
       "      <td>0.831464</td>\n",
       "    </tr>\n",
       "  </tbody>\n",
       "</table>\n",
       "</div>"
      ],
      "text/plain": [
       "          1.00      0.10      0.01\n",
       "5     0.831627  0.830759  0.831008\n",
       "10    0.838842  0.830759  0.831008\n",
       "20    0.841775  0.830759  0.831008\n",
       "50    0.841602  0.830759  0.831008\n",
       "100   0.842926  0.831971  0.830759\n",
       "200   0.840530  0.835457  0.830759\n",
       "700   0.842988  0.845544  0.830510\n",
       "1000  0.841267  0.844815  0.831464"
      ]
     },
     "execution_count": 34,
     "metadata": {},
     "output_type": "execute_result"
    }
   ],
   "source": [
    "f1_score_df"
   ]
  },
  {
   "cell_type": "code",
   "execution_count": 37,
   "id": "8132bc19",
   "metadata": {},
   "outputs": [
    {
     "data": {
      "text/plain": [
       "array([0.17121637, 0.00078541, 0.04151261, 0.05411706, 0.19701428,\n",
       "       0.08134032, 0.09653876, 0.00675076, 0.01546148, 0.01807761,\n",
       "       0.31718534])"
      ]
     },
     "execution_count": 37,
     "metadata": {},
     "output_type": "execute_result"
    }
   ],
   "source": [
    "feature_importances_matrix[0.1][6]"
   ]
  },
  {
   "cell_type": "code",
   "execution_count": 135,
   "id": "cb7604fd",
   "metadata": {},
   "outputs": [
    {
     "data": {
      "image/png": "[encoded data removed]",
      "text/plain": [
       "<Figure size 1152x720 with 3 Axes>"
      ]
     },
     "metadata": {},
     "output_type": "display_data"
    }
   ],
   "source": [
    "fig = plt.figure()\n",
    "\n",
    "fig.set_size_inches(16, 10)\n",
    "\n",
    "\n",
    "for i in range(len(learning_rate_list)):\n",
    "    ax_1 = fig.add_subplot(2, 2, i+1)\n",
    "    col = learning_rate_list[i]\n",
    "    ax_1.set(title = col)    \n",
    "    plt.plot(f1_score_df.index, f1_score_df[col])\n",
    "    \n",
    "fig.tight_layout()\n",
    "    \n",
    "plt.show()\n",
    "    "
   ]
  },
  {
   "cell_type": "code",
   "execution_count": 134,
   "id": "2d8e5f8f",
   "metadata": {},
   "outputs": [
    {
     "data": {
      "text/plain": [
       "<AxesSubplot:>"
      ]
     },
     "execution_count": 134,
     "metadata": {},
     "output_type": "execute_result"
    },
    {
     "data": {
      "image/png": "[encoded data removed]",
      "text/plain": [
       "<Figure size 576x360 with 2 Axes>"
      ]
     },
     "metadata": {},
     "output_type": "display_data"
    }
   ],
   "source": [
    "sns.heatmap(f1_score_df, annot=True)"
   ]
  },
  {
   "cell_type": "markdown",
   "id": "141aa52e",
   "metadata": {},
   "source": [
    "**Задание 3.** Вам потребуется обучить 4 модели и посчитать метрику f1-score на тестовой и обучающей выборках для каждой модели. \n",
    "1. Случайный лес с максимальной глубиной деревьев 5,\n",
    "2. Случайный лес с максимальной глубиной деревьев 5000,\n",
    "3. Градиентный бустинг с максимальной глубиной деревьев 5,\n",
    "4. Градиентный бустинг с максимальной глубиной деревьев 5000.\n",
    "\n",
    "Для каждой модели перебирайте значения `n_estimators`, как в предыдущем задании. Отрисуйте графики зависимости f1-score от количества шагов, используя `average='weighted'` для учёта баланса классов. \n",
    "\n",
    "Если в качестве базовой модели брать неглубокие деревья, то какая модель лучше запоминает обучающую выборку: случайный лес или градиентный бустинг? Какая из них лучше предсказывает на тестовой выборке? Как изменятся ответы, если базовая модель - это глубокое решающее дерево?\n",
    "\n",
    "Подвержен ли переобучению случайный лес и градиентный бустинг? Как это отражается на графиках? (4б)"
   ]
  },
  {
   "cell_type": "code",
   "execution_count": 136,
   "id": "5c527143",
   "metadata": {},
   "outputs": [],
   "source": [
    "from sklearn.ensemble import RandomForestClassifier, BaggingClassifier\n",
    "from sklearn.tree import DecisionTreeClassifier\n",
    "\n",
    "n_estimators_list = [2, 3, 4, 5, 10, 20, 50, 70, 100, 200, 700, 1000, 2000]\n",
    "\n",
    "### Your code is here"
   ]
  },
  {
   "cell_type": "code",
   "execution_count": 139,
   "id": "a44ff61e",
   "metadata": {},
   "outputs": [],
   "source": [
    "f1_scores_train = []\n",
    "f1_scores_test = []\n",
    "for e in n_estimators_list:\n",
    "    model = GradientBoostingClassifier(random_state=1,\n",
    "                                       max_depth=5,\n",
    "                               n_estimators=e)\n",
    "\n",
    "    model.fit(X_train, y_train)\n",
    "    \n",
    "    f1_scores_train.append(f1_score(y_train, model.predict(X_train), average='weighted'))\n",
    "    f1_scores_test.append(f1_score(y_test, model.predict(X_test), average='weighted'))"
   ]
  },
  {
   "cell_type": "code",
   "execution_count": 140,
   "id": "e0c05492",
   "metadata": {},
   "outputs": [
    {
     "data": {
      "text/plain": [
       "[<matplotlib.lines.Line2D at 0x1ed815587c0>]"
      ]
     },
     "execution_count": 140,
     "metadata": {},
     "output_type": "execute_result"
    },
    {
     "data": {
      "image/png": "[encoded data removed]",
      "text/plain": [
       "<Figure size 576x360 with 1 Axes>"
      ]
     },
     "metadata": {},
     "output_type": "display_data"
    }
   ],
   "source": [
    "plt.plot(n_estimators_list, f1_scores_train)"
   ]
  },
  {
   "cell_type": "code",
   "execution_count": 141,
   "id": "4647c145",
   "metadata": {},
   "outputs": [
    {
     "data": {
      "text/plain": [
       "[<matplotlib.lines.Line2D at 0x1ed81348280>]"
      ]
     },
     "execution_count": 141,
     "metadata": {},
     "output_type": "execute_result"
    },
    {
     "data": {
      "image/png": "[encoded data removed]",
      "text/plain": [
       "<Figure size 576x360 with 1 Axes>"
      ]
     },
     "metadata": {},
     "output_type": "display_data"
    }
   ],
   "source": [
    "plt.plot(n_estimators_list, f1_scores_test)"
   ]
  },
  {
   "cell_type": "code",
   "execution_count": 142,
   "id": "9856cfa2",
   "metadata": {},
   "outputs": [],
   "source": [
    "f1_scores_train = []\n",
    "f1_scores_test = []\n",
    "for e in n_estimators_list:\n",
    "    model = GradientBoostingClassifier(random_state=1,\n",
    "                                       max_depth=5000,\n",
    "                               n_estimators=e)\n",
    "\n",
    "    model.fit(X_train, y_train)\n",
    "    \n",
    "    f1_scores_train.append(f1_score(y_train, model.predict(X_train), average='weighted'))\n",
    "    f1_scores_test.append(f1_score(y_test, model.predict(X_test), average='weighted'))"
   ]
  },
  {
   "cell_type": "code",
   "execution_count": 143,
   "id": "9fbb5764",
   "metadata": {},
   "outputs": [
    {
     "data": {
      "text/plain": [
       "[<matplotlib.lines.Line2D at 0x1ed8133cd60>]"
      ]
     },
     "execution_count": 143,
     "metadata": {},
     "output_type": "execute_result"
    },
    {
     "data": {
      "image/png": "[encoded data removed]",
      "text/plain": [
       "<Figure size 576x360 with 1 Axes>"
      ]
     },
     "metadata": {},
     "output_type": "display_data"
    }
   ],
   "source": [
    "plt.plot(n_estimators_list, f1_scores_train)"
   ]
  },
  {
   "cell_type": "code",
   "execution_count": 144,
   "id": "ced68257",
   "metadata": {},
   "outputs": [
    {
     "data": {
      "text/plain": [
       "[<matplotlib.lines.Line2D at 0x1ed81037c70>]"
      ]
     },
     "execution_count": 144,
     "metadata": {},
     "output_type": "execute_result"
    },
    {
     "data": {
      "image/png": "[encoded data removed]",
      "text/plain": [
       "<Figure size 576x360 with 1 Axes>"
      ]
     },
     "metadata": {},
     "output_type": "display_data"
    }
   ],
   "source": [
    "plt.plot(n_estimators_list, f1_scores_test)"
   ]
  },
  {
   "cell_type": "code",
   "execution_count": 145,
   "id": "15e72618",
   "metadata": {},
   "outputs": [],
   "source": [
    "f1_scores_train = []\n",
    "f1_scores_test = []\n",
    "for e in n_estimators_list:\n",
    "    model = RandomForestClassifier(random_state=1,\n",
    "                                       max_depth=5,\n",
    "                               n_estimators=e)\n",
    "\n",
    "    model.fit(X_train, y_train)\n",
    "    \n",
    "    f1_scores_train.append(f1_score(y_train, model.predict(X_train), average='weighted'))\n",
    "    f1_scores_test.append(f1_score(y_test, model.predict(X_test), average='weighted'))"
   ]
  },
  {
   "cell_type": "code",
   "execution_count": 146,
   "id": "624fd036",
   "metadata": {},
   "outputs": [
    {
     "data": {
      "text/plain": [
       "[<matplotlib.lines.Line2D at 0x1edfdc1e880>]"
      ]
     },
     "execution_count": 146,
     "metadata": {},
     "output_type": "execute_result"
    },
    {
     "data": {
      "image/png": "[encoded data removed]",
      "text/plain": [
       "<Figure size 576x360 with 1 Axes>"
      ]
     },
     "metadata": {},
     "output_type": "display_data"
    }
   ],
   "source": [
    "plt.plot(n_estimators_list, f1_scores_train)"
   ]
  },
  {
   "cell_type": "code",
   "execution_count": 147,
   "id": "85f5c8f9",
   "metadata": {},
   "outputs": [
    {
     "data": {
      "text/plain": [
       "[<matplotlib.lines.Line2D at 0x1edfec9f8b0>]"
      ]
     },
     "execution_count": 147,
     "metadata": {},
     "output_type": "execute_result"
    },
    {
     "data": {
      "image/png": "[encoded data removed]",
      "text/plain": [
       "<Figure size 576x360 with 1 Axes>"
      ]
     },
     "metadata": {},
     "output_type": "display_data"
    }
   ],
   "source": [
    "plt.plot(n_estimators_list, f1_scores_test)"
   ]
  },
  {
   "cell_type": "code",
   "execution_count": 148,
   "id": "491a37c8",
   "metadata": {},
   "outputs": [],
   "source": [
    "f1_scores_train = []\n",
    "f1_scores_test = []\n",
    "for e in n_estimators_list:\n",
    "    model = RandomForestClassifier(random_state=1,\n",
    "                                       max_depth=5000,\n",
    "                               n_estimators=e)\n",
    "\n",
    "    model.fit(X_train, y_train)\n",
    "    \n",
    "    f1_scores_train.append(f1_score(y_train, model.predict(X_train), average='weighted'))\n",
    "    f1_scores_test.append(f1_score(y_test, model.predict(X_test), average='weighted'))"
   ]
  },
  {
   "cell_type": "code",
   "execution_count": 149,
   "id": "76889d5e",
   "metadata": {},
   "outputs": [
    {
     "data": {
      "text/plain": [
       "[<matplotlib.lines.Line2D at 0x1edfdc4ee20>]"
      ]
     },
     "execution_count": 149,
     "metadata": {},
     "output_type": "execute_result"
    },
    {
     "data": {
      "image/png": "[encoded data removed]",
      "text/plain": [
       "<Figure size 576x360 with 1 Axes>"
      ]
     },
     "metadata": {},
     "output_type": "display_data"
    }
   ],
   "source": [
    "plt.plot(n_estimators_list, f1_scores_train)"
   ]
  },
  {
   "cell_type": "code",
   "execution_count": 150,
   "id": "0daaa080",
   "metadata": {},
   "outputs": [
    {
     "data": {
      "text/plain": [
       "[<matplotlib.lines.Line2D at 0x1ed8172acd0>]"
      ]
     },
     "execution_count": 150,
     "metadata": {},
     "output_type": "execute_result"
    },
    {
     "data": {
      "image/png": "[encoded data removed]",
      "text/plain": [
       "<Figure size 576x360 with 1 Axes>"
      ]
     },
     "metadata": {},
     "output_type": "display_data"
    }
   ],
   "source": [
    "plt.plot(n_estimators_list, f1_scores_test)"
   ]
  },
  {
   "cell_type": "markdown",
   "id": "0c144f94",
   "metadata": {},
   "source": [
    "**Задание 4.** Установите библиотеку `catboost`. Главной особенностью catboost явялется наличие встроенной обработки категориальных признаков. Для каждого категориального столбца вычисляется следующее значение\n",
    "$$\n",
    "avg\\_target = \\dfrac{countInClass + prior}{totalCount + 1},\n",
    "$$\n",
    "* countInClass - количество объектов положительного класса для данной категории **до текущего объекта**,\n",
    "* prior - некоторая константа для числителя, обычно равна доле положительного класса в таргете,\n",
    "* totalCount - количество наблюдаемых категорий вплоть **до текущего** с той же категорией, что и у текущего.\n",
    "\n",
    "Так как первые такие значения будут иметь больший разброс, чем последние, то выборку перемешивают несколько раз и полученные статистики усредняют. \n",
    "В отличие от target encoder подсчитанные значения зависят от наблюдаемой истории, т.е. вычисляются только из наблюдений до них, таким образом не происходит target leakage. \n",
    "\n",
    "Почитать подробнее можно здесь: [Transforming categorical features](https://catboost.ai/en/docs/concepts/algorithm-main-stages_cat-to-numberic)\n",
    "\n",
    "Обучите CatBoostClassifier с дефолтными параметрами. Используйте датасет до  (разбейте на train/test по старой логике с тем же random state'ом). Категориальные колонки передайте в параметр `cat_features` метода `fit`. Catboost сам с ними разберется.\n",
    "\n",
    "Сравните качество с моделью из предыдущего задания. Стало ли лучше?\n",
    "\n",
    "Сравните feature importances в модели из задания 2 и в catboost с помощью соответствующих методов, изобразите их, используя `barplot`. \\\n",
    "Какие признаки стали более важными с новым методом кодирования? (4б)"
   ]
  },
  {
   "cell_type": "code",
   "execution_count": 82,
   "id": "a89c1cfd",
   "metadata": {},
   "outputs": [
    {
     "name": "stdout",
     "output_type": "stream",
     "text": [
      "Learning rate set to 0.025035\n",
      "0:\tlearn: 0.6524209\ttotal: 37.3ms\tremaining: 37.2s\n",
      "1:\tlearn: 0.6213114\ttotal: 58.4ms\tremaining: 29.1s\n",
      "2:\tlearn: 0.5922961\ttotal: 80.4ms\tremaining: 26.7s\n",
      "3:\tlearn: 0.5658834\ttotal: 104ms\tremaining: 25.8s\n",
      "4:\tlearn: 0.5423457\ttotal: 126ms\tremaining: 25s\n",
      "5:\tlearn: 0.5180857\ttotal: 175ms\tremaining: 28.9s\n",
      "6:\tlearn: 0.4986798\ttotal: 205ms\tremaining: 29s\n",
      "7:\tlearn: 0.4802832\ttotal: 225ms\tremaining: 27.9s\n",
      "8:\tlearn: 0.4619128\ttotal: 248ms\tremaining: 27.3s\n",
      "9:\tlearn: 0.4465202\ttotal: 271ms\tremaining: 26.8s\n",
      "10:\tlearn: 0.4341692\ttotal: 293ms\tremaining: 26.3s\n",
      "11:\tlearn: 0.4204912\ttotal: 323ms\tremaining: 26.6s\n",
      "12:\tlearn: 0.4147382\ttotal: 344ms\tremaining: 26.1s\n",
      "13:\tlearn: 0.4094293\ttotal: 367ms\tremaining: 25.8s\n",
      "14:\tlearn: 0.3996664\ttotal: 390ms\tremaining: 25.6s\n",
      "15:\tlearn: 0.3902804\ttotal: 414ms\tremaining: 25.4s\n",
      "16:\tlearn: 0.3851970\ttotal: 437ms\tremaining: 25.3s\n",
      "17:\tlearn: 0.3768978\ttotal: 460ms\tremaining: 25.1s\n",
      "18:\tlearn: 0.3694314\ttotal: 482ms\tremaining: 24.9s\n",
      "19:\tlearn: 0.3634011\ttotal: 505ms\tremaining: 24.7s\n",
      "20:\tlearn: 0.3606454\ttotal: 519ms\tremaining: 24.2s\n",
      "21:\tlearn: 0.3541987\ttotal: 541ms\tremaining: 24.1s\n",
      "22:\tlearn: 0.3489269\ttotal: 563ms\tremaining: 23.9s\n",
      "23:\tlearn: 0.3446294\ttotal: 579ms\tremaining: 23.5s\n",
      "24:\tlearn: 0.3418920\ttotal: 600ms\tremaining: 23.4s\n",
      "25:\tlearn: 0.3399613\ttotal: 626ms\tremaining: 23.5s\n",
      "26:\tlearn: 0.3349451\ttotal: 648ms\tremaining: 23.4s\n",
      "27:\tlearn: 0.3306180\ttotal: 670ms\tremaining: 23.3s\n",
      "28:\tlearn: 0.3291438\ttotal: 682ms\tremaining: 22.8s\n",
      "29:\tlearn: 0.3269721\ttotal: 704ms\tremaining: 22.8s\n",
      "30:\tlearn: 0.3236355\ttotal: 738ms\tremaining: 23.1s\n",
      "31:\tlearn: 0.3224322\ttotal: 748ms\tremaining: 22.6s\n",
      "32:\tlearn: 0.3190291\ttotal: 769ms\tremaining: 22.5s\n",
      "33:\tlearn: 0.3177285\ttotal: 790ms\tremaining: 22.5s\n",
      "34:\tlearn: 0.3165302\ttotal: 813ms\tremaining: 22.4s\n",
      "35:\tlearn: 0.3155917\ttotal: 823ms\tremaining: 22s\n",
      "36:\tlearn: 0.3129865\ttotal: 846ms\tremaining: 22s\n",
      "37:\tlearn: 0.3102865\ttotal: 880ms\tremaining: 22.3s\n",
      "38:\tlearn: 0.3092554\ttotal: 903ms\tremaining: 22.3s\n",
      "39:\tlearn: 0.3083286\ttotal: 912ms\tremaining: 21.9s\n",
      "40:\tlearn: 0.3071948\ttotal: 935ms\tremaining: 21.9s\n",
      "41:\tlearn: 0.3062649\ttotal: 958ms\tremaining: 21.9s\n",
      "42:\tlearn: 0.3045583\ttotal: 977ms\tremaining: 21.7s\n",
      "43:\tlearn: 0.3024968\ttotal: 1s\tremaining: 21.8s\n",
      "44:\tlearn: 0.3015577\ttotal: 1.03s\tremaining: 21.8s\n",
      "45:\tlearn: 0.3001131\ttotal: 1.05s\tremaining: 21.8s\n",
      "46:\tlearn: 0.2993604\ttotal: 1.07s\tremaining: 21.8s\n",
      "47:\tlearn: 0.2987773\ttotal: 1.09s\tremaining: 21.7s\n",
      "48:\tlearn: 0.2974123\ttotal: 1.12s\tremaining: 21.7s\n",
      "49:\tlearn: 0.2970507\ttotal: 1.15s\tremaining: 21.8s\n",
      "50:\tlearn: 0.2966484\ttotal: 1.15s\tremaining: 21.5s\n",
      "51:\tlearn: 0.2963295\ttotal: 1.16s\tremaining: 21.2s\n",
      "52:\tlearn: 0.2951767\ttotal: 1.19s\tremaining: 21.2s\n",
      "53:\tlearn: 0.2948995\ttotal: 1.19s\tremaining: 20.9s\n",
      "54:\tlearn: 0.2942523\ttotal: 1.22s\tremaining: 20.9s\n",
      "55:\tlearn: 0.2930040\ttotal: 1.24s\tremaining: 20.9s\n",
      "56:\tlearn: 0.2916254\ttotal: 1.27s\tremaining: 21.1s\n",
      "57:\tlearn: 0.2914196\ttotal: 1.28s\tremaining: 20.8s\n",
      "58:\tlearn: 0.2903750\ttotal: 1.31s\tremaining: 20.8s\n",
      "59:\tlearn: 0.2892542\ttotal: 1.33s\tremaining: 20.8s\n",
      "60:\tlearn: 0.2890901\ttotal: 1.33s\tremaining: 20.5s\n",
      "61:\tlearn: 0.2884046\ttotal: 1.35s\tremaining: 20.5s\n",
      "62:\tlearn: 0.2879018\ttotal: 1.38s\tremaining: 20.5s\n",
      "63:\tlearn: 0.2875731\ttotal: 1.4s\tremaining: 20.4s\n",
      "64:\tlearn: 0.2871386\ttotal: 1.42s\tremaining: 20.4s\n",
      "65:\tlearn: 0.2868300\ttotal: 1.44s\tremaining: 20.4s\n",
      "66:\tlearn: 0.2864874\ttotal: 1.47s\tremaining: 20.4s\n",
      "67:\tlearn: 0.2863801\ttotal: 1.47s\tremaining: 20.2s\n",
      "68:\tlearn: 0.2854816\ttotal: 1.5s\tremaining: 20.2s\n",
      "69:\tlearn: 0.2850741\ttotal: 1.52s\tremaining: 20.2s\n",
      "70:\tlearn: 0.2845993\ttotal: 1.54s\tremaining: 20.2s\n",
      "71:\tlearn: 0.2845181\ttotal: 1.55s\tremaining: 19.9s\n",
      "72:\tlearn: 0.2843459\ttotal: 1.57s\tremaining: 19.9s\n",
      "73:\tlearn: 0.2841174\ttotal: 1.6s\tremaining: 20s\n",
      "74:\tlearn: 0.2835268\ttotal: 1.62s\tremaining: 20s\n",
      "75:\tlearn: 0.2828142\ttotal: 1.65s\tremaining: 20s\n",
      "76:\tlearn: 0.2823161\ttotal: 1.67s\tremaining: 20s\n",
      "77:\tlearn: 0.2817314\ttotal: 1.7s\tremaining: 20.1s\n",
      "78:\tlearn: 0.2812314\ttotal: 1.72s\tremaining: 20.1s\n",
      "79:\tlearn: 0.2809265\ttotal: 1.75s\tremaining: 20.1s\n",
      "80:\tlearn: 0.2805885\ttotal: 1.77s\tremaining: 20.1s\n",
      "81:\tlearn: 0.2802497\ttotal: 1.79s\tremaining: 20.1s\n",
      "82:\tlearn: 0.2799480\ttotal: 1.82s\tremaining: 20.1s\n",
      "83:\tlearn: 0.2796433\ttotal: 1.85s\tremaining: 20.2s\n",
      "84:\tlearn: 0.2793850\ttotal: 1.88s\tremaining: 20.2s\n",
      "85:\tlearn: 0.2793550\ttotal: 1.89s\tremaining: 20s\n",
      "86:\tlearn: 0.2790562\ttotal: 1.91s\tremaining: 20s\n",
      "87:\tlearn: 0.2784390\ttotal: 1.93s\tremaining: 20s\n",
      "88:\tlearn: 0.2782279\ttotal: 1.95s\tremaining: 20s\n",
      "89:\tlearn: 0.2777726\ttotal: 1.98s\tremaining: 20s\n",
      "90:\tlearn: 0.2777523\ttotal: 1.98s\tremaining: 19.8s\n",
      "91:\tlearn: 0.2772871\ttotal: 2.01s\tremaining: 19.8s\n",
      "92:\tlearn: 0.2770085\ttotal: 2.05s\tremaining: 20s\n",
      "93:\tlearn: 0.2766860\ttotal: 2.07s\tremaining: 20s\n",
      "94:\tlearn: 0.2762942\ttotal: 2.1s\tremaining: 20s\n",
      "95:\tlearn: 0.2759438\ttotal: 2.12s\tremaining: 20s\n",
      "96:\tlearn: 0.2755954\ttotal: 2.14s\tremaining: 20s\n",
      "97:\tlearn: 0.2752193\ttotal: 2.17s\tremaining: 20s\n",
      "98:\tlearn: 0.2749725\ttotal: 2.19s\tremaining: 20s\n",
      "99:\tlearn: 0.2746305\ttotal: 2.22s\tremaining: 19.9s\n",
      "100:\tlearn: 0.2744558\ttotal: 2.24s\tremaining: 19.9s\n",
      "101:\tlearn: 0.2744480\ttotal: 2.24s\tremaining: 19.8s\n",
      "102:\tlearn: 0.2741064\ttotal: 2.27s\tremaining: 19.7s\n",
      "103:\tlearn: 0.2739197\ttotal: 2.29s\tremaining: 19.7s\n",
      "104:\tlearn: 0.2737199\ttotal: 2.31s\tremaining: 19.7s\n",
      "105:\tlearn: 0.2737142\ttotal: 2.32s\tremaining: 19.6s\n",
      "106:\tlearn: 0.2733717\ttotal: 2.34s\tremaining: 19.5s\n",
      "107:\tlearn: 0.2732064\ttotal: 2.36s\tremaining: 19.5s\n",
      "108:\tlearn: 0.2730126\ttotal: 2.39s\tremaining: 19.5s\n",
      "109:\tlearn: 0.2727967\ttotal: 2.41s\tremaining: 19.5s\n",
      "110:\tlearn: 0.2726425\ttotal: 2.44s\tremaining: 19.5s\n",
      "111:\tlearn: 0.2724859\ttotal: 2.46s\tremaining: 19.5s\n",
      "112:\tlearn: 0.2724826\ttotal: 2.46s\tremaining: 19.3s\n",
      "113:\tlearn: 0.2723483\ttotal: 2.49s\tremaining: 19.3s\n",
      "114:\tlearn: 0.2723454\ttotal: 2.49s\tremaining: 19.2s\n",
      "115:\tlearn: 0.2723009\ttotal: 2.51s\tremaining: 19.2s\n",
      "116:\tlearn: 0.2721180\ttotal: 2.54s\tremaining: 19.2s\n",
      "117:\tlearn: 0.2721063\ttotal: 2.55s\tremaining: 19.1s\n",
      "118:\tlearn: 0.2717678\ttotal: 2.58s\tremaining: 19.1s\n",
      "119:\tlearn: 0.2715025\ttotal: 2.6s\tremaining: 19.1s\n",
      "120:\tlearn: 0.2714292\ttotal: 2.62s\tremaining: 19s\n",
      "121:\tlearn: 0.2711870\ttotal: 2.64s\tremaining: 19s\n",
      "122:\tlearn: 0.2710762\ttotal: 2.67s\tremaining: 19s\n",
      "123:\tlearn: 0.2709850\ttotal: 2.69s\tremaining: 19s\n",
      "124:\tlearn: 0.2708738\ttotal: 2.71s\tremaining: 19s\n",
      "125:\tlearn: 0.2707888\ttotal: 2.73s\tremaining: 18.9s\n",
      "126:\tlearn: 0.2707083\ttotal: 2.75s\tremaining: 18.9s\n",
      "127:\tlearn: 0.2705361\ttotal: 2.77s\tremaining: 18.9s\n",
      "128:\tlearn: 0.2702928\ttotal: 2.79s\tremaining: 18.9s\n",
      "129:\tlearn: 0.2701515\ttotal: 2.82s\tremaining: 18.9s\n",
      "130:\tlearn: 0.2700447\ttotal: 2.84s\tremaining: 18.8s\n",
      "131:\tlearn: 0.2698715\ttotal: 2.88s\tremaining: 18.9s\n",
      "132:\tlearn: 0.2696688\ttotal: 2.9s\tremaining: 18.9s\n",
      "133:\tlearn: 0.2695615\ttotal: 2.92s\tremaining: 18.9s\n",
      "134:\tlearn: 0.2694062\ttotal: 2.94s\tremaining: 18.9s\n",
      "135:\tlearn: 0.2691770\ttotal: 2.97s\tremaining: 18.9s\n",
      "136:\tlearn: 0.2690336\ttotal: 2.99s\tremaining: 18.9s\n",
      "137:\tlearn: 0.2689120\ttotal: 3.02s\tremaining: 18.8s\n",
      "138:\tlearn: 0.2686722\ttotal: 3.04s\tremaining: 18.8s\n",
      "139:\tlearn: 0.2685136\ttotal: 3.06s\tremaining: 18.8s\n",
      "140:\tlearn: 0.2683471\ttotal: 3.08s\tremaining: 18.8s\n",
      "141:\tlearn: 0.2682920\ttotal: 3.1s\tremaining: 18.8s\n",
      "142:\tlearn: 0.2681571\ttotal: 3.13s\tremaining: 18.7s\n",
      "143:\tlearn: 0.2680792\ttotal: 3.16s\tremaining: 18.8s\n",
      "144:\tlearn: 0.2678195\ttotal: 3.19s\tremaining: 18.8s\n",
      "145:\tlearn: 0.2676654\ttotal: 3.21s\tremaining: 18.8s\n",
      "146:\tlearn: 0.2675753\ttotal: 3.23s\tremaining: 18.8s\n",
      "147:\tlearn: 0.2674376\ttotal: 3.26s\tremaining: 18.7s\n",
      "148:\tlearn: 0.2673501\ttotal: 3.28s\tremaining: 18.7s\n",
      "149:\tlearn: 0.2672325\ttotal: 3.3s\tremaining: 18.7s\n",
      "150:\tlearn: 0.2671423\ttotal: 3.32s\tremaining: 18.7s\n",
      "151:\tlearn: 0.2669617\ttotal: 3.34s\tremaining: 18.6s\n",
      "152:\tlearn: 0.2668885\ttotal: 3.36s\tremaining: 18.6s\n",
      "153:\tlearn: 0.2667337\ttotal: 3.38s\tremaining: 18.6s\n",
      "154:\tlearn: 0.2665898\ttotal: 3.41s\tremaining: 18.6s\n",
      "155:\tlearn: 0.2664396\ttotal: 3.44s\tremaining: 18.6s\n",
      "156:\tlearn: 0.2662418\ttotal: 3.46s\tremaining: 18.6s\n",
      "157:\tlearn: 0.2662353\ttotal: 3.47s\tremaining: 18.5s\n",
      "158:\tlearn: 0.2661395\ttotal: 3.49s\tremaining: 18.5s\n",
      "159:\tlearn: 0.2660273\ttotal: 3.51s\tremaining: 18.4s\n",
      "160:\tlearn: 0.2659382\ttotal: 3.54s\tremaining: 18.4s\n",
      "161:\tlearn: 0.2658016\ttotal: 3.56s\tremaining: 18.4s\n",
      "162:\tlearn: 0.2657636\ttotal: 3.58s\tremaining: 18.4s\n",
      "163:\tlearn: 0.2657204\ttotal: 3.61s\tremaining: 18.4s\n"
     ]
    },
    {
     "name": "stdout",
     "output_type": "stream",
     "text": [
      "164:\tlearn: 0.2656059\ttotal: 3.63s\tremaining: 18.4s\n",
      "165:\tlearn: 0.2655845\ttotal: 3.64s\tremaining: 18.3s\n",
      "166:\tlearn: 0.2654737\ttotal: 3.67s\tremaining: 18.3s\n",
      "167:\tlearn: 0.2653867\ttotal: 3.69s\tremaining: 18.3s\n",
      "168:\tlearn: 0.2653705\ttotal: 3.71s\tremaining: 18.2s\n",
      "169:\tlearn: 0.2651567\ttotal: 3.73s\tremaining: 18.2s\n",
      "170:\tlearn: 0.2650380\ttotal: 3.75s\tremaining: 18.2s\n",
      "171:\tlearn: 0.2649261\ttotal: 3.77s\tremaining: 18.2s\n",
      "172:\tlearn: 0.2647970\ttotal: 3.8s\tremaining: 18.2s\n",
      "173:\tlearn: 0.2646680\ttotal: 3.83s\tremaining: 18.2s\n",
      "174:\tlearn: 0.2645217\ttotal: 3.86s\tremaining: 18.2s\n",
      "175:\tlearn: 0.2643907\ttotal: 3.88s\tremaining: 18.2s\n",
      "176:\tlearn: 0.2643332\ttotal: 3.9s\tremaining: 18.2s\n",
      "177:\tlearn: 0.2642500\ttotal: 3.92s\tremaining: 18.1s\n",
      "178:\tlearn: 0.2641025\ttotal: 3.95s\tremaining: 18.1s\n",
      "179:\tlearn: 0.2639986\ttotal: 3.97s\tremaining: 18.1s\n",
      "180:\tlearn: 0.2638472\ttotal: 3.99s\tremaining: 18.1s\n",
      "181:\tlearn: 0.2638400\ttotal: 4s\tremaining: 18s\n",
      "182:\tlearn: 0.2637431\ttotal: 4.03s\tremaining: 18s\n",
      "183:\tlearn: 0.2636109\ttotal: 4.05s\tremaining: 18s\n",
      "184:\tlearn: 0.2635469\ttotal: 4.07s\tremaining: 17.9s\n",
      "185:\tlearn: 0.2634676\ttotal: 4.09s\tremaining: 17.9s\n",
      "186:\tlearn: 0.2634578\ttotal: 4.1s\tremaining: 17.8s\n",
      "187:\tlearn: 0.2633880\ttotal: 4.14s\tremaining: 17.9s\n",
      "188:\tlearn: 0.2632764\ttotal: 4.16s\tremaining: 17.9s\n",
      "189:\tlearn: 0.2631130\ttotal: 4.18s\tremaining: 17.8s\n",
      "190:\tlearn: 0.2630213\ttotal: 4.21s\tremaining: 17.8s\n",
      "191:\tlearn: 0.2629240\ttotal: 4.23s\tremaining: 17.8s\n",
      "192:\tlearn: 0.2628420\ttotal: 4.26s\tremaining: 17.8s\n",
      "193:\tlearn: 0.2628275\ttotal: 4.27s\tremaining: 17.7s\n",
      "194:\tlearn: 0.2627401\ttotal: 4.29s\tremaining: 17.7s\n",
      "195:\tlearn: 0.2626033\ttotal: 4.32s\tremaining: 17.7s\n",
      "196:\tlearn: 0.2624954\ttotal: 4.34s\tremaining: 17.7s\n",
      "197:\tlearn: 0.2624856\ttotal: 4.35s\tremaining: 17.6s\n",
      "198:\tlearn: 0.2623859\ttotal: 4.37s\tremaining: 17.6s\n",
      "199:\tlearn: 0.2623650\ttotal: 4.39s\tremaining: 17.6s\n",
      "200:\tlearn: 0.2623058\ttotal: 4.41s\tremaining: 17.5s\n",
      "201:\tlearn: 0.2622659\ttotal: 4.44s\tremaining: 17.5s\n",
      "202:\tlearn: 0.2622388\ttotal: 4.47s\tremaining: 17.6s\n",
      "203:\tlearn: 0.2621469\ttotal: 4.5s\tremaining: 17.5s\n",
      "204:\tlearn: 0.2621468\ttotal: 4.5s\tremaining: 17.5s\n",
      "205:\tlearn: 0.2621251\ttotal: 4.54s\tremaining: 17.5s\n",
      "206:\tlearn: 0.2620396\ttotal: 4.56s\tremaining: 17.5s\n",
      "207:\tlearn: 0.2619122\ttotal: 4.59s\tremaining: 17.5s\n",
      "208:\tlearn: 0.2618648\ttotal: 4.62s\tremaining: 17.5s\n",
      "209:\tlearn: 0.2617924\ttotal: 4.64s\tremaining: 17.5s\n",
      "210:\tlearn: 0.2617517\ttotal: 4.67s\tremaining: 17.4s\n",
      "211:\tlearn: 0.2616622\ttotal: 4.69s\tremaining: 17.4s\n",
      "212:\tlearn: 0.2615455\ttotal: 4.72s\tremaining: 17.4s\n",
      "213:\tlearn: 0.2614461\ttotal: 4.74s\tremaining: 17.4s\n",
      "214:\tlearn: 0.2613550\ttotal: 4.76s\tremaining: 17.4s\n",
      "215:\tlearn: 0.2612571\ttotal: 4.79s\tremaining: 17.4s\n",
      "216:\tlearn: 0.2612395\ttotal: 4.8s\tremaining: 17.3s\n",
      "217:\tlearn: 0.2611788\ttotal: 4.82s\tremaining: 17.3s\n",
      "218:\tlearn: 0.2610758\ttotal: 4.84s\tremaining: 17.3s\n",
      "219:\tlearn: 0.2610326\ttotal: 4.87s\tremaining: 17.2s\n",
      "220:\tlearn: 0.2608617\ttotal: 4.9s\tremaining: 17.3s\n",
      "221:\tlearn: 0.2607375\ttotal: 4.92s\tremaining: 17.3s\n",
      "222:\tlearn: 0.2607105\ttotal: 4.94s\tremaining: 17.2s\n",
      "223:\tlearn: 0.2606296\ttotal: 4.97s\tremaining: 17.2s\n",
      "224:\tlearn: 0.2605617\ttotal: 4.99s\tremaining: 17.2s\n",
      "225:\tlearn: 0.2604187\ttotal: 5.01s\tremaining: 17.2s\n",
      "226:\tlearn: 0.2603375\ttotal: 5.04s\tremaining: 17.2s\n",
      "227:\tlearn: 0.2602195\ttotal: 5.07s\tremaining: 17.2s\n",
      "228:\tlearn: 0.2601362\ttotal: 5.09s\tremaining: 17.1s\n",
      "229:\tlearn: 0.2601073\ttotal: 5.11s\tremaining: 17.1s\n",
      "230:\tlearn: 0.2600522\ttotal: 5.15s\tremaining: 17.1s\n",
      "231:\tlearn: 0.2599351\ttotal: 5.17s\tremaining: 17.1s\n",
      "232:\tlearn: 0.2598602\ttotal: 5.2s\tremaining: 17.1s\n",
      "233:\tlearn: 0.2597789\ttotal: 5.23s\tremaining: 17.1s\n",
      "234:\tlearn: 0.2596945\ttotal: 5.25s\tremaining: 17.1s\n",
      "235:\tlearn: 0.2595643\ttotal: 5.27s\tremaining: 17.1s\n",
      "236:\tlearn: 0.2594933\ttotal: 5.31s\tremaining: 17.1s\n",
      "237:\tlearn: 0.2592684\ttotal: 5.33s\tremaining: 17.1s\n",
      "238:\tlearn: 0.2591648\ttotal: 5.35s\tremaining: 17s\n",
      "239:\tlearn: 0.2590969\ttotal: 5.39s\tremaining: 17.1s\n",
      "240:\tlearn: 0.2589705\ttotal: 5.42s\tremaining: 17.1s\n",
      "241:\tlearn: 0.2588965\ttotal: 5.44s\tremaining: 17s\n",
      "242:\tlearn: 0.2588890\ttotal: 5.45s\tremaining: 17s\n",
      "243:\tlearn: 0.2588017\ttotal: 5.47s\tremaining: 17s\n",
      "244:\tlearn: 0.2587655\ttotal: 5.5s\tremaining: 16.9s\n",
      "245:\tlearn: 0.2587114\ttotal: 5.53s\tremaining: 16.9s\n",
      "246:\tlearn: 0.2586798\ttotal: 5.55s\tremaining: 16.9s\n",
      "247:\tlearn: 0.2585994\ttotal: 5.57s\tremaining: 16.9s\n",
      "248:\tlearn: 0.2585634\ttotal: 5.61s\tremaining: 16.9s\n",
      "249:\tlearn: 0.2584961\ttotal: 5.63s\tremaining: 16.9s\n",
      "250:\tlearn: 0.2584700\ttotal: 5.65s\tremaining: 16.9s\n",
      "251:\tlearn: 0.2584020\ttotal: 5.67s\tremaining: 16.8s\n",
      "252:\tlearn: 0.2583267\ttotal: 5.7s\tremaining: 16.8s\n",
      "253:\tlearn: 0.2583173\ttotal: 5.72s\tremaining: 16.8s\n",
      "254:\tlearn: 0.2582625\ttotal: 5.74s\tremaining: 16.8s\n",
      "255:\tlearn: 0.2581790\ttotal: 5.76s\tremaining: 16.7s\n",
      "256:\tlearn: 0.2581497\ttotal: 5.79s\tremaining: 16.7s\n",
      "257:\tlearn: 0.2579846\ttotal: 5.81s\tremaining: 16.7s\n",
      "258:\tlearn: 0.2579552\ttotal: 5.83s\tremaining: 16.7s\n",
      "259:\tlearn: 0.2579061\ttotal: 5.87s\tremaining: 16.7s\n",
      "260:\tlearn: 0.2578443\ttotal: 5.89s\tremaining: 16.7s\n",
      "261:\tlearn: 0.2577681\ttotal: 5.92s\tremaining: 16.7s\n",
      "262:\tlearn: 0.2576841\ttotal: 5.94s\tremaining: 16.7s\n",
      "263:\tlearn: 0.2576339\ttotal: 5.97s\tremaining: 16.6s\n",
      "264:\tlearn: 0.2575251\ttotal: 5.99s\tremaining: 16.6s\n",
      "265:\tlearn: 0.2575090\ttotal: 6s\tremaining: 16.6s\n",
      "266:\tlearn: 0.2575003\ttotal: 6.01s\tremaining: 16.5s\n",
      "267:\tlearn: 0.2574289\ttotal: 6.04s\tremaining: 16.5s\n",
      "268:\tlearn: 0.2573311\ttotal: 6.06s\tremaining: 16.5s\n",
      "269:\tlearn: 0.2572343\ttotal: 6.09s\tremaining: 16.5s\n",
      "270:\tlearn: 0.2571224\ttotal: 6.11s\tremaining: 16.4s\n",
      "271:\tlearn: 0.2570254\ttotal: 6.13s\tremaining: 16.4s\n",
      "272:\tlearn: 0.2569352\ttotal: 6.16s\tremaining: 16.4s\n",
      "273:\tlearn: 0.2568088\ttotal: 6.18s\tremaining: 16.4s\n",
      "274:\tlearn: 0.2567510\ttotal: 6.2s\tremaining: 16.4s\n",
      "275:\tlearn: 0.2566078\ttotal: 6.23s\tremaining: 16.3s\n",
      "276:\tlearn: 0.2565358\ttotal: 6.25s\tremaining: 16.3s\n",
      "277:\tlearn: 0.2564808\ttotal: 6.29s\tremaining: 16.3s\n",
      "278:\tlearn: 0.2563612\ttotal: 6.31s\tremaining: 16.3s\n",
      "279:\tlearn: 0.2563014\ttotal: 6.34s\tremaining: 16.3s\n",
      "280:\tlearn: 0.2561653\ttotal: 6.36s\tremaining: 16.3s\n",
      "281:\tlearn: 0.2560843\ttotal: 6.38s\tremaining: 16.3s\n",
      "282:\tlearn: 0.2560595\ttotal: 6.4s\tremaining: 16.2s\n",
      "283:\tlearn: 0.2560511\ttotal: 6.42s\tremaining: 16.2s\n",
      "284:\tlearn: 0.2559997\ttotal: 6.44s\tremaining: 16.2s\n",
      "285:\tlearn: 0.2559549\ttotal: 6.46s\tremaining: 16.1s\n",
      "286:\tlearn: 0.2559005\ttotal: 6.5s\tremaining: 16.1s\n",
      "287:\tlearn: 0.2558997\ttotal: 6.51s\tremaining: 16.1s\n",
      "288:\tlearn: 0.2558102\ttotal: 6.53s\tremaining: 16.1s\n",
      "289:\tlearn: 0.2557808\ttotal: 6.56s\tremaining: 16.1s\n",
      "290:\tlearn: 0.2557391\ttotal: 6.59s\tremaining: 16.1s\n",
      "291:\tlearn: 0.2556809\ttotal: 6.61s\tremaining: 16s\n",
      "292:\tlearn: 0.2555953\ttotal: 6.64s\tremaining: 16s\n",
      "293:\tlearn: 0.2555197\ttotal: 6.66s\tremaining: 16s\n",
      "294:\tlearn: 0.2555172\ttotal: 6.67s\tremaining: 15.9s\n",
      "295:\tlearn: 0.2554233\ttotal: 6.7s\tremaining: 15.9s\n",
      "296:\tlearn: 0.2553599\ttotal: 6.73s\tremaining: 15.9s\n",
      "297:\tlearn: 0.2552191\ttotal: 6.75s\tremaining: 15.9s\n",
      "298:\tlearn: 0.2551172\ttotal: 6.78s\tremaining: 15.9s\n",
      "299:\tlearn: 0.2550665\ttotal: 6.81s\tremaining: 15.9s\n",
      "300:\tlearn: 0.2549623\ttotal: 6.84s\tremaining: 15.9s\n",
      "301:\tlearn: 0.2548325\ttotal: 6.86s\tremaining: 15.9s\n",
      "302:\tlearn: 0.2547487\ttotal: 6.89s\tremaining: 15.8s\n",
      "303:\tlearn: 0.2546397\ttotal: 6.91s\tremaining: 15.8s\n",
      "304:\tlearn: 0.2544892\ttotal: 6.93s\tremaining: 15.8s\n",
      "305:\tlearn: 0.2543946\ttotal: 6.96s\tremaining: 15.8s\n",
      "306:\tlearn: 0.2543087\ttotal: 6.98s\tremaining: 15.8s\n",
      "307:\tlearn: 0.2542510\ttotal: 7.01s\tremaining: 15.8s\n",
      "308:\tlearn: 0.2541761\ttotal: 7.04s\tremaining: 15.7s\n",
      "309:\tlearn: 0.2541124\ttotal: 7.06s\tremaining: 15.7s\n",
      "310:\tlearn: 0.2540252\ttotal: 7.09s\tremaining: 15.7s\n",
      "311:\tlearn: 0.2539755\ttotal: 7.11s\tremaining: 15.7s\n",
      "312:\tlearn: 0.2538587\ttotal: 7.13s\tremaining: 15.7s\n",
      "313:\tlearn: 0.2538174\ttotal: 7.16s\tremaining: 15.6s\n",
      "314:\tlearn: 0.2537553\ttotal: 7.18s\tremaining: 15.6s\n",
      "315:\tlearn: 0.2536770\ttotal: 7.2s\tremaining: 15.6s\n",
      "316:\tlearn: 0.2536329\ttotal: 7.22s\tremaining: 15.6s\n",
      "317:\tlearn: 0.2535237\ttotal: 7.25s\tremaining: 15.5s\n",
      "318:\tlearn: 0.2535236\ttotal: 7.25s\tremaining: 15.5s\n",
      "319:\tlearn: 0.2534618\ttotal: 7.28s\tremaining: 15.5s\n",
      "320:\tlearn: 0.2533905\ttotal: 7.3s\tremaining: 15.4s\n",
      "321:\tlearn: 0.2532833\ttotal: 7.32s\tremaining: 15.4s\n",
      "322:\tlearn: 0.2532089\ttotal: 7.35s\tremaining: 15.4s\n",
      "323:\tlearn: 0.2531465\ttotal: 7.37s\tremaining: 15.4s\n",
      "324:\tlearn: 0.2530652\ttotal: 7.39s\tremaining: 15.4s\n",
      "325:\tlearn: 0.2529327\ttotal: 7.42s\tremaining: 15.3s\n",
      "326:\tlearn: 0.2528285\ttotal: 7.44s\tremaining: 15.3s\n",
      "327:\tlearn: 0.2527685\ttotal: 7.46s\tremaining: 15.3s\n",
      "328:\tlearn: 0.2526982\ttotal: 7.49s\tremaining: 15.3s\n"
     ]
    },
    {
     "name": "stdout",
     "output_type": "stream",
     "text": [
      "329:\tlearn: 0.2526588\ttotal: 7.51s\tremaining: 15.2s\n",
      "330:\tlearn: 0.2525618\ttotal: 7.53s\tremaining: 15.2s\n",
      "331:\tlearn: 0.2524847\ttotal: 7.56s\tremaining: 15.2s\n",
      "332:\tlearn: 0.2524149\ttotal: 7.59s\tremaining: 15.2s\n",
      "333:\tlearn: 0.2523243\ttotal: 7.61s\tremaining: 15.2s\n",
      "334:\tlearn: 0.2522025\ttotal: 7.67s\tremaining: 15.2s\n",
      "335:\tlearn: 0.2521330\ttotal: 7.7s\tremaining: 15.2s\n",
      "336:\tlearn: 0.2519916\ttotal: 7.72s\tremaining: 15.2s\n",
      "337:\tlearn: 0.2518927\ttotal: 7.75s\tremaining: 15.2s\n",
      "338:\tlearn: 0.2518087\ttotal: 7.78s\tremaining: 15.2s\n",
      "339:\tlearn: 0.2518041\ttotal: 7.8s\tremaining: 15.1s\n",
      "340:\tlearn: 0.2517014\ttotal: 7.82s\tremaining: 15.1s\n",
      "341:\tlearn: 0.2516274\ttotal: 7.84s\tremaining: 15.1s\n",
      "342:\tlearn: 0.2515457\ttotal: 7.88s\tremaining: 15.1s\n",
      "343:\tlearn: 0.2514780\ttotal: 7.91s\tremaining: 15.1s\n",
      "344:\tlearn: 0.2514469\ttotal: 7.93s\tremaining: 15.1s\n",
      "345:\tlearn: 0.2513844\ttotal: 7.95s\tremaining: 15s\n",
      "346:\tlearn: 0.2513793\ttotal: 7.96s\tremaining: 15s\n",
      "347:\tlearn: 0.2512813\ttotal: 7.99s\tremaining: 15s\n",
      "348:\tlearn: 0.2512391\ttotal: 8.01s\tremaining: 14.9s\n",
      "349:\tlearn: 0.2511421\ttotal: 8.03s\tremaining: 14.9s\n",
      "350:\tlearn: 0.2510507\ttotal: 8.05s\tremaining: 14.9s\n",
      "351:\tlearn: 0.2509018\ttotal: 8.07s\tremaining: 14.9s\n",
      "352:\tlearn: 0.2508829\ttotal: 8.1s\tremaining: 14.8s\n",
      "353:\tlearn: 0.2507964\ttotal: 8.12s\tremaining: 14.8s\n",
      "354:\tlearn: 0.2507359\ttotal: 8.18s\tremaining: 14.9s\n",
      "355:\tlearn: 0.2506320\ttotal: 8.2s\tremaining: 14.8s\n",
      "356:\tlearn: 0.2505128\ttotal: 8.22s\tremaining: 14.8s\n",
      "357:\tlearn: 0.2504753\ttotal: 8.26s\tremaining: 14.8s\n",
      "358:\tlearn: 0.2504683\ttotal: 8.28s\tremaining: 14.8s\n",
      "359:\tlearn: 0.2503617\ttotal: 8.31s\tremaining: 14.8s\n",
      "360:\tlearn: 0.2502870\ttotal: 8.33s\tremaining: 14.7s\n",
      "361:\tlearn: 0.2502364\ttotal: 8.35s\tremaining: 14.7s\n",
      "362:\tlearn: 0.2501616\ttotal: 8.38s\tremaining: 14.7s\n",
      "363:\tlearn: 0.2500609\ttotal: 8.4s\tremaining: 14.7s\n",
      "364:\tlearn: 0.2499715\ttotal: 8.43s\tremaining: 14.7s\n",
      "365:\tlearn: 0.2499287\ttotal: 8.45s\tremaining: 14.6s\n",
      "366:\tlearn: 0.2498401\ttotal: 8.49s\tremaining: 14.6s\n",
      "367:\tlearn: 0.2497560\ttotal: 8.52s\tremaining: 14.6s\n",
      "368:\tlearn: 0.2496598\ttotal: 8.54s\tremaining: 14.6s\n",
      "369:\tlearn: 0.2495832\ttotal: 8.56s\tremaining: 14.6s\n",
      "370:\tlearn: 0.2495604\ttotal: 8.59s\tremaining: 14.6s\n",
      "371:\tlearn: 0.2495215\ttotal: 8.61s\tremaining: 14.5s\n",
      "372:\tlearn: 0.2494233\ttotal: 8.63s\tremaining: 14.5s\n",
      "373:\tlearn: 0.2493166\ttotal: 8.65s\tremaining: 14.5s\n",
      "374:\tlearn: 0.2492068\ttotal: 8.68s\tremaining: 14.5s\n",
      "375:\tlearn: 0.2491621\ttotal: 8.7s\tremaining: 14.4s\n",
      "376:\tlearn: 0.2490647\ttotal: 8.72s\tremaining: 14.4s\n",
      "377:\tlearn: 0.2489886\ttotal: 8.74s\tremaining: 14.4s\n",
      "378:\tlearn: 0.2488081\ttotal: 8.79s\tremaining: 14.4s\n",
      "379:\tlearn: 0.2487249\ttotal: 8.82s\tremaining: 14.4s\n",
      "380:\tlearn: 0.2486454\ttotal: 8.84s\tremaining: 14.4s\n",
      "381:\tlearn: 0.2485487\ttotal: 8.87s\tremaining: 14.3s\n",
      "382:\tlearn: 0.2484288\ttotal: 8.89s\tremaining: 14.3s\n",
      "383:\tlearn: 0.2483957\ttotal: 8.91s\tremaining: 14.3s\n",
      "384:\tlearn: 0.2483654\ttotal: 8.93s\tremaining: 14.3s\n",
      "385:\tlearn: 0.2483088\ttotal: 8.96s\tremaining: 14.2s\n",
      "386:\tlearn: 0.2482271\ttotal: 8.98s\tremaining: 14.2s\n",
      "387:\tlearn: 0.2481967\ttotal: 9s\tremaining: 14.2s\n",
      "388:\tlearn: 0.2481475\ttotal: 9.03s\tremaining: 14.2s\n",
      "389:\tlearn: 0.2481141\ttotal: 9.06s\tremaining: 14.2s\n",
      "390:\tlearn: 0.2480549\ttotal: 9.08s\tremaining: 14.1s\n",
      "391:\tlearn: 0.2479523\ttotal: 9.1s\tremaining: 14.1s\n",
      "392:\tlearn: 0.2478697\ttotal: 9.13s\tremaining: 14.1s\n",
      "393:\tlearn: 0.2477820\ttotal: 9.15s\tremaining: 14.1s\n",
      "394:\tlearn: 0.2477151\ttotal: 9.17s\tremaining: 14s\n",
      "395:\tlearn: 0.2475474\ttotal: 9.19s\tremaining: 14s\n",
      "396:\tlearn: 0.2474844\ttotal: 9.22s\tremaining: 14s\n",
      "397:\tlearn: 0.2474392\ttotal: 9.24s\tremaining: 14s\n",
      "398:\tlearn: 0.2473739\ttotal: 9.26s\tremaining: 13.9s\n",
      "399:\tlearn: 0.2472953\ttotal: 9.28s\tremaining: 13.9s\n",
      "400:\tlearn: 0.2471914\ttotal: 9.31s\tremaining: 13.9s\n",
      "401:\tlearn: 0.2471511\ttotal: 9.33s\tremaining: 13.9s\n",
      "402:\tlearn: 0.2470622\ttotal: 9.37s\tremaining: 13.9s\n",
      "403:\tlearn: 0.2469521\ttotal: 9.39s\tremaining: 13.9s\n",
      "404:\tlearn: 0.2468563\ttotal: 9.41s\tremaining: 13.8s\n",
      "405:\tlearn: 0.2467833\ttotal: 9.43s\tremaining: 13.8s\n",
      "406:\tlearn: 0.2466656\ttotal: 9.46s\tremaining: 13.8s\n",
      "407:\tlearn: 0.2466014\ttotal: 9.48s\tremaining: 13.8s\n",
      "408:\tlearn: 0.2464610\ttotal: 9.5s\tremaining: 13.7s\n",
      "409:\tlearn: 0.2463441\ttotal: 9.53s\tremaining: 13.7s\n",
      "410:\tlearn: 0.2462840\ttotal: 9.56s\tremaining: 13.7s\n",
      "411:\tlearn: 0.2461140\ttotal: 9.58s\tremaining: 13.7s\n",
      "412:\tlearn: 0.2460751\ttotal: 9.6s\tremaining: 13.6s\n",
      "413:\tlearn: 0.2459643\ttotal: 9.63s\tremaining: 13.6s\n",
      "414:\tlearn: 0.2458365\ttotal: 9.65s\tremaining: 13.6s\n",
      "415:\tlearn: 0.2457545\ttotal: 9.68s\tremaining: 13.6s\n",
      "416:\tlearn: 0.2457232\ttotal: 9.71s\tremaining: 13.6s\n",
      "417:\tlearn: 0.2456210\ttotal: 9.73s\tremaining: 13.5s\n",
      "418:\tlearn: 0.2455178\ttotal: 9.75s\tremaining: 13.5s\n",
      "419:\tlearn: 0.2454569\ttotal: 9.78s\tremaining: 13.5s\n",
      "420:\tlearn: 0.2453015\ttotal: 9.8s\tremaining: 13.5s\n",
      "421:\tlearn: 0.2452195\ttotal: 9.83s\tremaining: 13.5s\n",
      "422:\tlearn: 0.2451369\ttotal: 9.85s\tremaining: 13.4s\n",
      "423:\tlearn: 0.2450796\ttotal: 9.87s\tremaining: 13.4s\n",
      "424:\tlearn: 0.2450224\ttotal: 9.89s\tremaining: 13.4s\n",
      "425:\tlearn: 0.2449276\ttotal: 9.93s\tremaining: 13.4s\n",
      "426:\tlearn: 0.2448176\ttotal: 9.95s\tremaining: 13.4s\n",
      "427:\tlearn: 0.2447794\ttotal: 9.99s\tremaining: 13.4s\n",
      "428:\tlearn: 0.2447304\ttotal: 10s\tremaining: 13.3s\n",
      "429:\tlearn: 0.2445740\ttotal: 10.1s\tremaining: 13.3s\n",
      "430:\tlearn: 0.2444930\ttotal: 10.1s\tremaining: 13.3s\n",
      "431:\tlearn: 0.2444790\ttotal: 10.1s\tremaining: 13.3s\n",
      "432:\tlearn: 0.2443953\ttotal: 10.1s\tremaining: 13.3s\n",
      "433:\tlearn: 0.2442884\ttotal: 10.2s\tremaining: 13.2s\n",
      "434:\tlearn: 0.2441613\ttotal: 10.2s\tremaining: 13.2s\n",
      "435:\tlearn: 0.2440617\ttotal: 10.2s\tremaining: 13.2s\n",
      "436:\tlearn: 0.2439739\ttotal: 10.2s\tremaining: 13.2s\n",
      "437:\tlearn: 0.2438552\ttotal: 10.3s\tremaining: 13.2s\n",
      "438:\tlearn: 0.2437694\ttotal: 10.3s\tremaining: 13.1s\n",
      "439:\tlearn: 0.2436506\ttotal: 10.3s\tremaining: 13.1s\n",
      "440:\tlearn: 0.2435826\ttotal: 10.3s\tremaining: 13.1s\n",
      "441:\tlearn: 0.2435442\ttotal: 10.4s\tremaining: 13.1s\n",
      "442:\tlearn: 0.2434412\ttotal: 10.4s\tremaining: 13.1s\n",
      "443:\tlearn: 0.2433729\ttotal: 10.4s\tremaining: 13.1s\n",
      "444:\tlearn: 0.2432728\ttotal: 10.5s\tremaining: 13.1s\n",
      "445:\tlearn: 0.2431791\ttotal: 10.5s\tremaining: 13s\n",
      "446:\tlearn: 0.2431140\ttotal: 10.5s\tremaining: 13s\n",
      "447:\tlearn: 0.2429925\ttotal: 10.5s\tremaining: 13s\n",
      "448:\tlearn: 0.2428845\ttotal: 10.6s\tremaining: 13s\n",
      "449:\tlearn: 0.2427866\ttotal: 10.6s\tremaining: 13s\n",
      "450:\tlearn: 0.2426720\ttotal: 10.6s\tremaining: 12.9s\n",
      "451:\tlearn: 0.2426275\ttotal: 10.7s\tremaining: 12.9s\n",
      "452:\tlearn: 0.2425321\ttotal: 10.7s\tremaining: 12.9s\n",
      "453:\tlearn: 0.2424801\ttotal: 10.7s\tremaining: 12.9s\n",
      "454:\tlearn: 0.2423322\ttotal: 10.7s\tremaining: 12.8s\n",
      "455:\tlearn: 0.2422230\ttotal: 10.8s\tremaining: 12.8s\n",
      "456:\tlearn: 0.2421231\ttotal: 10.8s\tremaining: 12.8s\n",
      "457:\tlearn: 0.2420800\ttotal: 10.8s\tremaining: 12.8s\n",
      "458:\tlearn: 0.2420428\ttotal: 10.8s\tremaining: 12.8s\n",
      "459:\tlearn: 0.2419863\ttotal: 10.9s\tremaining: 12.8s\n",
      "460:\tlearn: 0.2419326\ttotal: 10.9s\tremaining: 12.7s\n",
      "461:\tlearn: 0.2417848\ttotal: 10.9s\tremaining: 12.7s\n",
      "462:\tlearn: 0.2417591\ttotal: 10.9s\tremaining: 12.7s\n",
      "463:\tlearn: 0.2416650\ttotal: 11s\tremaining: 12.7s\n",
      "464:\tlearn: 0.2416405\ttotal: 11s\tremaining: 12.7s\n",
      "465:\tlearn: 0.2415349\ttotal: 11s\tremaining: 12.6s\n",
      "466:\tlearn: 0.2414554\ttotal: 11s\tremaining: 12.6s\n",
      "467:\tlearn: 0.2413117\ttotal: 11.1s\tremaining: 12.6s\n",
      "468:\tlearn: 0.2412076\ttotal: 11.1s\tremaining: 12.6s\n",
      "469:\tlearn: 0.2411011\ttotal: 11.1s\tremaining: 12.6s\n",
      "470:\tlearn: 0.2410426\ttotal: 11.2s\tremaining: 12.5s\n",
      "471:\tlearn: 0.2409246\ttotal: 11.2s\tremaining: 12.5s\n",
      "472:\tlearn: 0.2408221\ttotal: 11.2s\tremaining: 12.5s\n",
      "473:\tlearn: 0.2407964\ttotal: 11.2s\tremaining: 12.5s\n",
      "474:\tlearn: 0.2407073\ttotal: 11.3s\tremaining: 12.4s\n",
      "475:\tlearn: 0.2406531\ttotal: 11.3s\tremaining: 12.4s\n",
      "476:\tlearn: 0.2405683\ttotal: 11.3s\tremaining: 12.4s\n",
      "477:\tlearn: 0.2404325\ttotal: 11.3s\tremaining: 12.4s\n",
      "478:\tlearn: 0.2403427\ttotal: 11.3s\tremaining: 12.3s\n",
      "479:\tlearn: 0.2402821\ttotal: 11.4s\tremaining: 12.3s\n",
      "480:\tlearn: 0.2402211\ttotal: 11.4s\tremaining: 12.3s\n",
      "481:\tlearn: 0.2401113\ttotal: 11.4s\tremaining: 12.3s\n",
      "482:\tlearn: 0.2399630\ttotal: 11.4s\tremaining: 12.2s\n",
      "483:\tlearn: 0.2398799\ttotal: 11.5s\tremaining: 12.2s\n",
      "484:\tlearn: 0.2398682\ttotal: 11.5s\tremaining: 12.2s\n",
      "485:\tlearn: 0.2397715\ttotal: 11.5s\tremaining: 12.2s\n",
      "486:\tlearn: 0.2396230\ttotal: 11.5s\tremaining: 12.1s\n",
      "487:\tlearn: 0.2395249\ttotal: 11.5s\tremaining: 12.1s\n",
      "488:\tlearn: 0.2394425\ttotal: 11.6s\tremaining: 12.1s\n",
      "489:\tlearn: 0.2393797\ttotal: 11.6s\tremaining: 12.1s\n",
      "490:\tlearn: 0.2392910\ttotal: 11.6s\tremaining: 12s\n"
     ]
    },
    {
     "name": "stdout",
     "output_type": "stream",
     "text": [
      "491:\tlearn: 0.2392248\ttotal: 11.6s\tremaining: 12s\n",
      "492:\tlearn: 0.2391350\ttotal: 11.7s\tremaining: 12s\n",
      "493:\tlearn: 0.2390066\ttotal: 11.7s\tremaining: 12s\n",
      "494:\tlearn: 0.2389140\ttotal: 11.7s\tremaining: 12s\n",
      "495:\tlearn: 0.2388413\ttotal: 11.7s\tremaining: 11.9s\n",
      "496:\tlearn: 0.2387519\ttotal: 11.8s\tremaining: 11.9s\n",
      "497:\tlearn: 0.2386627\ttotal: 11.8s\tremaining: 11.9s\n",
      "498:\tlearn: 0.2385946\ttotal: 11.8s\tremaining: 11.9s\n",
      "499:\tlearn: 0.2385547\ttotal: 11.8s\tremaining: 11.8s\n",
      "500:\tlearn: 0.2384713\ttotal: 11.9s\tremaining: 11.8s\n",
      "501:\tlearn: 0.2383919\ttotal: 11.9s\tremaining: 11.8s\n",
      "502:\tlearn: 0.2383035\ttotal: 11.9s\tremaining: 11.8s\n",
      "503:\tlearn: 0.2382785\ttotal: 11.9s\tremaining: 11.7s\n",
      "504:\tlearn: 0.2382106\ttotal: 12s\tremaining: 11.7s\n",
      "505:\tlearn: 0.2381064\ttotal: 12s\tremaining: 11.7s\n",
      "506:\tlearn: 0.2380365\ttotal: 12s\tremaining: 11.7s\n",
      "507:\tlearn: 0.2379603\ttotal: 12s\tremaining: 11.7s\n",
      "508:\tlearn: 0.2378898\ttotal: 12.1s\tremaining: 11.6s\n",
      "509:\tlearn: 0.2377664\ttotal: 12.1s\tremaining: 11.6s\n",
      "510:\tlearn: 0.2376984\ttotal: 12.1s\tremaining: 11.6s\n",
      "511:\tlearn: 0.2376618\ttotal: 12.1s\tremaining: 11.6s\n",
      "512:\tlearn: 0.2375846\ttotal: 12.2s\tremaining: 11.6s\n",
      "513:\tlearn: 0.2375633\ttotal: 12.2s\tremaining: 11.5s\n",
      "514:\tlearn: 0.2375436\ttotal: 12.2s\tremaining: 11.5s\n",
      "515:\tlearn: 0.2374621\ttotal: 12.3s\tremaining: 11.5s\n",
      "516:\tlearn: 0.2373848\ttotal: 12.3s\tremaining: 11.5s\n",
      "517:\tlearn: 0.2373251\ttotal: 12.3s\tremaining: 11.4s\n",
      "518:\tlearn: 0.2372687\ttotal: 12.3s\tremaining: 11.4s\n",
      "519:\tlearn: 0.2372080\ttotal: 12.3s\tremaining: 11.4s\n",
      "520:\tlearn: 0.2371250\ttotal: 12.4s\tremaining: 11.4s\n",
      "521:\tlearn: 0.2370281\ttotal: 12.4s\tremaining: 11.3s\n",
      "522:\tlearn: 0.2369856\ttotal: 12.4s\tremaining: 11.3s\n",
      "523:\tlearn: 0.2369684\ttotal: 12.5s\tremaining: 11.3s\n",
      "524:\tlearn: 0.2368498\ttotal: 12.5s\tremaining: 11.3s\n",
      "525:\tlearn: 0.2367675\ttotal: 12.5s\tremaining: 11.3s\n",
      "526:\tlearn: 0.2366511\ttotal: 12.5s\tremaining: 11.2s\n",
      "527:\tlearn: 0.2365788\ttotal: 12.5s\tremaining: 11.2s\n",
      "528:\tlearn: 0.2364303\ttotal: 12.6s\tremaining: 11.2s\n",
      "529:\tlearn: 0.2363224\ttotal: 12.6s\tremaining: 11.2s\n",
      "530:\tlearn: 0.2362240\ttotal: 12.6s\tremaining: 11.1s\n",
      "531:\tlearn: 0.2362020\ttotal: 12.6s\tremaining: 11.1s\n",
      "532:\tlearn: 0.2360763\ttotal: 12.7s\tremaining: 11.1s\n",
      "533:\tlearn: 0.2359925\ttotal: 12.7s\tremaining: 11.1s\n",
      "534:\tlearn: 0.2359009\ttotal: 12.7s\tremaining: 11s\n",
      "535:\tlearn: 0.2358200\ttotal: 12.7s\tremaining: 11s\n",
      "536:\tlearn: 0.2357319\ttotal: 12.8s\tremaining: 11s\n",
      "537:\tlearn: 0.2357134\ttotal: 12.8s\tremaining: 11s\n",
      "538:\tlearn: 0.2356235\ttotal: 12.8s\tremaining: 11s\n",
      "539:\tlearn: 0.2355721\ttotal: 12.8s\tremaining: 10.9s\n",
      "540:\tlearn: 0.2354008\ttotal: 12.9s\tremaining: 10.9s\n",
      "541:\tlearn: 0.2353865\ttotal: 12.9s\tremaining: 10.9s\n",
      "542:\tlearn: 0.2353011\ttotal: 12.9s\tremaining: 10.9s\n",
      "543:\tlearn: 0.2352343\ttotal: 12.9s\tremaining: 10.8s\n",
      "544:\tlearn: 0.2351373\ttotal: 12.9s\tremaining: 10.8s\n",
      "545:\tlearn: 0.2351156\ttotal: 13s\tremaining: 10.8s\n",
      "546:\tlearn: 0.2350973\ttotal: 13s\tremaining: 10.8s\n",
      "547:\tlearn: 0.2350618\ttotal: 13s\tremaining: 10.7s\n",
      "548:\tlearn: 0.2349953\ttotal: 13.1s\tremaining: 10.7s\n",
      "549:\tlearn: 0.2349153\ttotal: 13.1s\tremaining: 10.7s\n",
      "550:\tlearn: 0.2347925\ttotal: 13.1s\tremaining: 10.7s\n",
      "551:\tlearn: 0.2346970\ttotal: 13.1s\tremaining: 10.7s\n",
      "552:\tlearn: 0.2345733\ttotal: 13.2s\tremaining: 10.6s\n",
      "553:\tlearn: 0.2345606\ttotal: 13.2s\tremaining: 10.6s\n",
      "554:\tlearn: 0.2344628\ttotal: 13.2s\tremaining: 10.6s\n",
      "555:\tlearn: 0.2343668\ttotal: 13.2s\tremaining: 10.6s\n",
      "556:\tlearn: 0.2342803\ttotal: 13.2s\tremaining: 10.5s\n",
      "557:\tlearn: 0.2342275\ttotal: 13.3s\tremaining: 10.5s\n",
      "558:\tlearn: 0.2341822\ttotal: 13.3s\tremaining: 10.5s\n",
      "559:\tlearn: 0.2341095\ttotal: 13.3s\tremaining: 10.5s\n",
      "560:\tlearn: 0.2340420\ttotal: 13.4s\tremaining: 10.5s\n",
      "561:\tlearn: 0.2339567\ttotal: 13.4s\tremaining: 10.4s\n",
      "562:\tlearn: 0.2338771\ttotal: 13.4s\tremaining: 10.4s\n",
      "563:\tlearn: 0.2337844\ttotal: 13.5s\tremaining: 10.4s\n",
      "564:\tlearn: 0.2336794\ttotal: 13.5s\tremaining: 10.4s\n",
      "565:\tlearn: 0.2335802\ttotal: 13.5s\tremaining: 10.4s\n",
      "566:\tlearn: 0.2335658\ttotal: 13.5s\tremaining: 10.3s\n",
      "567:\tlearn: 0.2334633\ttotal: 13.6s\tremaining: 10.3s\n",
      "568:\tlearn: 0.2333491\ttotal: 13.6s\tremaining: 10.3s\n",
      "569:\tlearn: 0.2332607\ttotal: 13.6s\tremaining: 10.3s\n",
      "570:\tlearn: 0.2331643\ttotal: 13.6s\tremaining: 10.2s\n",
      "571:\tlearn: 0.2330659\ttotal: 13.7s\tremaining: 10.2s\n",
      "572:\tlearn: 0.2329818\ttotal: 13.7s\tremaining: 10.2s\n",
      "573:\tlearn: 0.2329124\ttotal: 13.7s\tremaining: 10.2s\n",
      "574:\tlearn: 0.2327851\ttotal: 13.7s\tremaining: 10.1s\n",
      "575:\tlearn: 0.2327660\ttotal: 13.8s\tremaining: 10.1s\n",
      "576:\tlearn: 0.2326781\ttotal: 13.8s\tremaining: 10.1s\n",
      "577:\tlearn: 0.2326172\ttotal: 13.8s\tremaining: 10.1s\n",
      "578:\tlearn: 0.2325580\ttotal: 13.9s\tremaining: 10.1s\n",
      "579:\tlearn: 0.2324549\ttotal: 13.9s\tremaining: 10.1s\n",
      "580:\tlearn: 0.2324123\ttotal: 13.9s\tremaining: 10s\n",
      "581:\tlearn: 0.2323366\ttotal: 13.9s\tremaining: 10s\n",
      "582:\tlearn: 0.2322742\ttotal: 14s\tremaining: 9.99s\n",
      "583:\tlearn: 0.2322116\ttotal: 14s\tremaining: 9.97s\n",
      "584:\tlearn: 0.2321133\ttotal: 14s\tremaining: 9.96s\n",
      "585:\tlearn: 0.2320564\ttotal: 14.1s\tremaining: 9.94s\n",
      "586:\tlearn: 0.2320385\ttotal: 14.1s\tremaining: 9.91s\n",
      "587:\tlearn: 0.2319665\ttotal: 14.1s\tremaining: 9.89s\n",
      "588:\tlearn: 0.2318867\ttotal: 14.1s\tremaining: 9.87s\n",
      "589:\tlearn: 0.2318189\ttotal: 14.2s\tremaining: 9.84s\n",
      "590:\tlearn: 0.2317448\ttotal: 14.2s\tremaining: 9.83s\n",
      "591:\tlearn: 0.2316858\ttotal: 14.2s\tremaining: 9.8s\n",
      "592:\tlearn: 0.2316034\ttotal: 14.2s\tremaining: 9.78s\n",
      "593:\tlearn: 0.2315439\ttotal: 14.3s\tremaining: 9.75s\n",
      "594:\tlearn: 0.2314468\ttotal: 14.3s\tremaining: 9.73s\n",
      "595:\tlearn: 0.2313237\ttotal: 14.3s\tremaining: 9.71s\n",
      "596:\tlearn: 0.2311935\ttotal: 14.3s\tremaining: 9.68s\n",
      "597:\tlearn: 0.2311152\ttotal: 14.4s\tremaining: 9.66s\n",
      "598:\tlearn: 0.2310269\ttotal: 14.4s\tremaining: 9.63s\n",
      "599:\tlearn: 0.2309969\ttotal: 14.4s\tremaining: 9.61s\n",
      "600:\tlearn: 0.2309064\ttotal: 14.4s\tremaining: 9.59s\n",
      "601:\tlearn: 0.2308473\ttotal: 14.5s\tremaining: 9.56s\n",
      "602:\tlearn: 0.2307214\ttotal: 14.5s\tremaining: 9.54s\n",
      "603:\tlearn: 0.2306474\ttotal: 14.5s\tremaining: 9.51s\n",
      "604:\tlearn: 0.2305356\ttotal: 14.5s\tremaining: 9.5s\n",
      "605:\tlearn: 0.2304580\ttotal: 14.6s\tremaining: 9.47s\n",
      "606:\tlearn: 0.2304218\ttotal: 14.6s\tremaining: 9.46s\n",
      "607:\tlearn: 0.2303569\ttotal: 14.6s\tremaining: 9.43s\n",
      "608:\tlearn: 0.2302578\ttotal: 14.7s\tremaining: 9.41s\n",
      "609:\tlearn: 0.2301463\ttotal: 14.7s\tremaining: 9.38s\n",
      "610:\tlearn: 0.2300962\ttotal: 14.7s\tremaining: 9.36s\n",
      "611:\tlearn: 0.2300343\ttotal: 14.7s\tremaining: 9.34s\n",
      "612:\tlearn: 0.2300209\ttotal: 14.8s\tremaining: 9.31s\n",
      "613:\tlearn: 0.2299142\ttotal: 14.8s\tremaining: 9.29s\n",
      "614:\tlearn: 0.2298391\ttotal: 14.8s\tremaining: 9.27s\n",
      "615:\tlearn: 0.2297578\ttotal: 14.8s\tremaining: 9.24s\n",
      "616:\tlearn: 0.2296993\ttotal: 14.9s\tremaining: 9.22s\n",
      "617:\tlearn: 0.2296308\ttotal: 14.9s\tremaining: 9.2s\n",
      "618:\tlearn: 0.2295337\ttotal: 14.9s\tremaining: 9.18s\n",
      "619:\tlearn: 0.2294354\ttotal: 14.9s\tremaining: 9.16s\n",
      "620:\tlearn: 0.2293176\ttotal: 15s\tremaining: 9.14s\n",
      "621:\tlearn: 0.2292016\ttotal: 15s\tremaining: 9.12s\n",
      "622:\tlearn: 0.2291772\ttotal: 15s\tremaining: 9.09s\n",
      "623:\tlearn: 0.2290934\ttotal: 15.1s\tremaining: 9.07s\n",
      "624:\tlearn: 0.2289496\ttotal: 15.1s\tremaining: 9.04s\n",
      "625:\tlearn: 0.2288744\ttotal: 15.1s\tremaining: 9.02s\n",
      "626:\tlearn: 0.2288179\ttotal: 15.1s\tremaining: 9s\n",
      "627:\tlearn: 0.2287411\ttotal: 15.2s\tremaining: 8.98s\n",
      "628:\tlearn: 0.2286605\ttotal: 15.2s\tremaining: 8.95s\n",
      "629:\tlearn: 0.2285878\ttotal: 15.2s\tremaining: 8.93s\n",
      "630:\tlearn: 0.2285090\ttotal: 15.2s\tremaining: 8.9s\n",
      "631:\tlearn: 0.2284731\ttotal: 15.2s\tremaining: 8.88s\n",
      "632:\tlearn: 0.2283944\ttotal: 15.3s\tremaining: 8.85s\n",
      "633:\tlearn: 0.2282911\ttotal: 15.3s\tremaining: 8.83s\n",
      "634:\tlearn: 0.2281806\ttotal: 15.3s\tremaining: 8.81s\n",
      "635:\tlearn: 0.2280705\ttotal: 15.4s\tremaining: 8.79s\n",
      "636:\tlearn: 0.2279851\ttotal: 15.4s\tremaining: 8.77s\n",
      "637:\tlearn: 0.2279156\ttotal: 15.4s\tremaining: 8.74s\n",
      "638:\tlearn: 0.2277762\ttotal: 15.4s\tremaining: 8.72s\n",
      "639:\tlearn: 0.2277016\ttotal: 15.5s\tremaining: 8.7s\n",
      "640:\tlearn: 0.2275955\ttotal: 15.5s\tremaining: 8.67s\n",
      "641:\tlearn: 0.2275389\ttotal: 15.5s\tremaining: 8.65s\n",
      "642:\tlearn: 0.2274352\ttotal: 15.5s\tremaining: 8.62s\n",
      "643:\tlearn: 0.2273468\ttotal: 15.6s\tremaining: 8.6s\n",
      "644:\tlearn: 0.2272476\ttotal: 15.6s\tremaining: 8.57s\n",
      "645:\tlearn: 0.2272008\ttotal: 15.6s\tremaining: 8.55s\n",
      "646:\tlearn: 0.2270788\ttotal: 15.6s\tremaining: 8.52s\n",
      "647:\tlearn: 0.2270256\ttotal: 15.6s\tremaining: 8.5s\n",
      "648:\tlearn: 0.2270095\ttotal: 15.7s\tremaining: 8.47s\n",
      "649:\tlearn: 0.2269557\ttotal: 15.7s\tremaining: 8.45s\n"
     ]
    },
    {
     "name": "stdout",
     "output_type": "stream",
     "text": [
      "650:\tlearn: 0.2269012\ttotal: 15.7s\tremaining: 8.42s\n",
      "651:\tlearn: 0.2268170\ttotal: 15.7s\tremaining: 8.4s\n",
      "652:\tlearn: 0.2267351\ttotal: 15.8s\tremaining: 8.37s\n",
      "653:\tlearn: 0.2267271\ttotal: 15.8s\tremaining: 8.35s\n",
      "654:\tlearn: 0.2266115\ttotal: 15.8s\tremaining: 8.32s\n",
      "655:\tlearn: 0.2265453\ttotal: 15.8s\tremaining: 8.3s\n",
      "656:\tlearn: 0.2265124\ttotal: 15.8s\tremaining: 8.27s\n",
      "657:\tlearn: 0.2264192\ttotal: 15.9s\tremaining: 8.25s\n",
      "658:\tlearn: 0.2263150\ttotal: 15.9s\tremaining: 8.22s\n",
      "659:\tlearn: 0.2262898\ttotal: 15.9s\tremaining: 8.2s\n",
      "660:\tlearn: 0.2262122\ttotal: 15.9s\tremaining: 8.17s\n",
      "661:\tlearn: 0.2260908\ttotal: 16s\tremaining: 8.15s\n",
      "662:\tlearn: 0.2260229\ttotal: 16s\tremaining: 8.12s\n",
      "663:\tlearn: 0.2259056\ttotal: 16s\tremaining: 8.1s\n",
      "664:\tlearn: 0.2258246\ttotal: 16s\tremaining: 8.07s\n",
      "665:\tlearn: 0.2257897\ttotal: 16.1s\tremaining: 8.05s\n",
      "666:\tlearn: 0.2257470\ttotal: 16.1s\tremaining: 8.03s\n",
      "667:\tlearn: 0.2256600\ttotal: 16.1s\tremaining: 8s\n",
      "668:\tlearn: 0.2256540\ttotal: 16.1s\tremaining: 7.98s\n",
      "669:\tlearn: 0.2255662\ttotal: 16.2s\tremaining: 7.96s\n",
      "670:\tlearn: 0.2254529\ttotal: 16.2s\tremaining: 7.93s\n",
      "671:\tlearn: 0.2254416\ttotal: 16.2s\tremaining: 7.91s\n",
      "672:\tlearn: 0.2253655\ttotal: 16.2s\tremaining: 7.88s\n",
      "673:\tlearn: 0.2252917\ttotal: 16.3s\tremaining: 7.87s\n",
      "674:\tlearn: 0.2251885\ttotal: 16.3s\tremaining: 7.85s\n",
      "675:\tlearn: 0.2251288\ttotal: 16.3s\tremaining: 7.82s\n",
      "676:\tlearn: 0.2250500\ttotal: 16.3s\tremaining: 7.8s\n",
      "677:\tlearn: 0.2249890\ttotal: 16.4s\tremaining: 7.77s\n",
      "678:\tlearn: 0.2249833\ttotal: 16.4s\tremaining: 7.75s\n",
      "679:\tlearn: 0.2249816\ttotal: 16.4s\tremaining: 7.72s\n",
      "680:\tlearn: 0.2249217\ttotal: 16.4s\tremaining: 7.7s\n",
      "681:\tlearn: 0.2248523\ttotal: 16.5s\tremaining: 7.68s\n",
      "682:\tlearn: 0.2247844\ttotal: 16.5s\tremaining: 7.65s\n",
      "683:\tlearn: 0.2247284\ttotal: 16.5s\tremaining: 7.63s\n",
      "684:\tlearn: 0.2246699\ttotal: 16.5s\tremaining: 7.6s\n",
      "685:\tlearn: 0.2245704\ttotal: 16.6s\tremaining: 7.58s\n",
      "686:\tlearn: 0.2245060\ttotal: 16.6s\tremaining: 7.55s\n",
      "687:\tlearn: 0.2244194\ttotal: 16.6s\tremaining: 7.53s\n",
      "688:\tlearn: 0.2244178\ttotal: 16.6s\tremaining: 7.5s\n",
      "689:\tlearn: 0.2243499\ttotal: 16.7s\tremaining: 7.49s\n",
      "690:\tlearn: 0.2242706\ttotal: 16.7s\tremaining: 7.46s\n",
      "691:\tlearn: 0.2241872\ttotal: 16.7s\tremaining: 7.44s\n",
      "692:\tlearn: 0.2240944\ttotal: 16.7s\tremaining: 7.41s\n",
      "693:\tlearn: 0.2239952\ttotal: 16.8s\tremaining: 7.39s\n",
      "694:\tlearn: 0.2239936\ttotal: 16.8s\tremaining: 7.37s\n",
      "695:\tlearn: 0.2239437\ttotal: 16.8s\tremaining: 7.34s\n",
      "696:\tlearn: 0.2239263\ttotal: 16.8s\tremaining: 7.32s\n",
      "697:\tlearn: 0.2239208\ttotal: 16.9s\tremaining: 7.3s\n",
      "698:\tlearn: 0.2238605\ttotal: 16.9s\tremaining: 7.28s\n",
      "699:\tlearn: 0.2238554\ttotal: 16.9s\tremaining: 7.25s\n",
      "700:\tlearn: 0.2237543\ttotal: 17s\tremaining: 7.23s\n",
      "701:\tlearn: 0.2237125\ttotal: 17s\tremaining: 7.21s\n",
      "702:\tlearn: 0.2235893\ttotal: 17s\tremaining: 7.18s\n",
      "703:\tlearn: 0.2234460\ttotal: 17s\tremaining: 7.16s\n",
      "704:\tlearn: 0.2233973\ttotal: 17.1s\tremaining: 7.14s\n",
      "705:\tlearn: 0.2232918\ttotal: 17.1s\tremaining: 7.12s\n",
      "706:\tlearn: 0.2231968\ttotal: 17.1s\tremaining: 7.09s\n",
      "707:\tlearn: 0.2230948\ttotal: 17.1s\tremaining: 7.07s\n",
      "708:\tlearn: 0.2230276\ttotal: 17.2s\tremaining: 7.05s\n",
      "709:\tlearn: 0.2229618\ttotal: 17.2s\tremaining: 7.02s\n",
      "710:\tlearn: 0.2228989\ttotal: 17.2s\tremaining: 7s\n",
      "711:\tlearn: 0.2228939\ttotal: 17.2s\tremaining: 6.97s\n",
      "712:\tlearn: 0.2228165\ttotal: 17.3s\tremaining: 6.95s\n",
      "713:\tlearn: 0.2227882\ttotal: 17.3s\tremaining: 6.93s\n",
      "714:\tlearn: 0.2227009\ttotal: 17.3s\tremaining: 6.9s\n",
      "715:\tlearn: 0.2225799\ttotal: 17.3s\tremaining: 6.88s\n",
      "716:\tlearn: 0.2224643\ttotal: 17.4s\tremaining: 6.85s\n",
      "717:\tlearn: 0.2224072\ttotal: 17.4s\tremaining: 6.83s\n",
      "718:\tlearn: 0.2222667\ttotal: 17.4s\tremaining: 6.81s\n",
      "719:\tlearn: 0.2222272\ttotal: 17.4s\tremaining: 6.79s\n",
      "720:\tlearn: 0.2222003\ttotal: 17.5s\tremaining: 6.77s\n",
      "721:\tlearn: 0.2220767\ttotal: 17.5s\tremaining: 6.74s\n",
      "722:\tlearn: 0.2220246\ttotal: 17.5s\tremaining: 6.72s\n",
      "723:\tlearn: 0.2219710\ttotal: 17.6s\tremaining: 6.69s\n",
      "724:\tlearn: 0.2219124\ttotal: 17.6s\tremaining: 6.67s\n",
      "725:\tlearn: 0.2218351\ttotal: 17.6s\tremaining: 6.64s\n",
      "726:\tlearn: 0.2217391\ttotal: 17.6s\tremaining: 6.63s\n",
      "727:\tlearn: 0.2217308\ttotal: 17.7s\tremaining: 6.6s\n",
      "728:\tlearn: 0.2216187\ttotal: 17.7s\tremaining: 6.58s\n",
      "729:\tlearn: 0.2215238\ttotal: 17.7s\tremaining: 6.55s\n",
      "730:\tlearn: 0.2214392\ttotal: 17.7s\tremaining: 6.53s\n",
      "731:\tlearn: 0.2213853\ttotal: 17.8s\tremaining: 6.5s\n",
      "732:\tlearn: 0.2213128\ttotal: 17.8s\tremaining: 6.48s\n",
      "733:\tlearn: 0.2212233\ttotal: 17.8s\tremaining: 6.46s\n",
      "734:\tlearn: 0.2211485\ttotal: 17.8s\tremaining: 6.43s\n",
      "735:\tlearn: 0.2210875\ttotal: 17.9s\tremaining: 6.41s\n",
      "736:\tlearn: 0.2210228\ttotal: 17.9s\tremaining: 6.38s\n",
      "737:\tlearn: 0.2209628\ttotal: 17.9s\tremaining: 6.36s\n",
      "738:\tlearn: 0.2209368\ttotal: 18s\tremaining: 6.34s\n",
      "739:\tlearn: 0.2208641\ttotal: 18s\tremaining: 6.32s\n",
      "740:\tlearn: 0.2208262\ttotal: 18s\tremaining: 6.3s\n",
      "741:\tlearn: 0.2207624\ttotal: 18s\tremaining: 6.27s\n",
      "742:\tlearn: 0.2207421\ttotal: 18.1s\tremaining: 6.25s\n",
      "743:\tlearn: 0.2206664\ttotal: 18.1s\tremaining: 6.22s\n",
      "744:\tlearn: 0.2205369\ttotal: 18.1s\tremaining: 6.2s\n",
      "745:\tlearn: 0.2204291\ttotal: 18.1s\tremaining: 6.17s\n",
      "746:\tlearn: 0.2203475\ttotal: 18.2s\tremaining: 6.15s\n",
      "747:\tlearn: 0.2202827\ttotal: 18.2s\tremaining: 6.12s\n",
      "748:\tlearn: 0.2201925\ttotal: 18.2s\tremaining: 6.1s\n",
      "749:\tlearn: 0.2201108\ttotal: 18.2s\tremaining: 6.07s\n",
      "750:\tlearn: 0.2200485\ttotal: 18.2s\tremaining: 6.05s\n",
      "751:\tlearn: 0.2200291\ttotal: 18.3s\tremaining: 6.02s\n",
      "752:\tlearn: 0.2198998\ttotal: 18.3s\tremaining: 6s\n",
      "753:\tlearn: 0.2198188\ttotal: 18.3s\tremaining: 5.97s\n",
      "754:\tlearn: 0.2197401\ttotal: 18.3s\tremaining: 5.95s\n",
      "755:\tlearn: 0.2196911\ttotal: 18.4s\tremaining: 5.93s\n",
      "756:\tlearn: 0.2195256\ttotal: 18.4s\tremaining: 5.9s\n",
      "757:\tlearn: 0.2194379\ttotal: 18.4s\tremaining: 5.88s\n",
      "758:\tlearn: 0.2193531\ttotal: 18.4s\tremaining: 5.85s\n",
      "759:\tlearn: 0.2192769\ttotal: 18.5s\tremaining: 5.83s\n",
      "760:\tlearn: 0.2191912\ttotal: 18.5s\tremaining: 5.8s\n",
      "761:\tlearn: 0.2191310\ttotal: 18.5s\tremaining: 5.79s\n",
      "762:\tlearn: 0.2190687\ttotal: 18.6s\tremaining: 5.76s\n",
      "763:\tlearn: 0.2189584\ttotal: 18.6s\tremaining: 5.74s\n",
      "764:\tlearn: 0.2189016\ttotal: 18.6s\tremaining: 5.71s\n",
      "765:\tlearn: 0.2188072\ttotal: 18.6s\tremaining: 5.69s\n",
      "766:\tlearn: 0.2187773\ttotal: 18.6s\tremaining: 5.66s\n",
      "767:\tlearn: 0.2187536\ttotal: 18.7s\tremaining: 5.64s\n",
      "768:\tlearn: 0.2186509\ttotal: 18.7s\tremaining: 5.62s\n",
      "769:\tlearn: 0.2185235\ttotal: 18.7s\tremaining: 5.6s\n",
      "770:\tlearn: 0.2184987\ttotal: 18.8s\tremaining: 5.57s\n",
      "771:\tlearn: 0.2184031\ttotal: 18.8s\tremaining: 5.55s\n",
      "772:\tlearn: 0.2183639\ttotal: 18.8s\tremaining: 5.52s\n",
      "773:\tlearn: 0.2183175\ttotal: 18.8s\tremaining: 5.5s\n",
      "774:\tlearn: 0.2182531\ttotal: 18.9s\tremaining: 5.47s\n",
      "775:\tlearn: 0.2182052\ttotal: 18.9s\tremaining: 5.45s\n",
      "776:\tlearn: 0.2180965\ttotal: 18.9s\tremaining: 5.42s\n",
      "777:\tlearn: 0.2180518\ttotal: 18.9s\tremaining: 5.4s\n",
      "778:\tlearn: 0.2179551\ttotal: 18.9s\tremaining: 5.37s\n",
      "779:\tlearn: 0.2178411\ttotal: 19s\tremaining: 5.35s\n",
      "780:\tlearn: 0.2177485\ttotal: 19s\tremaining: 5.33s\n",
      "781:\tlearn: 0.2176810\ttotal: 19s\tremaining: 5.3s\n",
      "782:\tlearn: 0.2176143\ttotal: 19.1s\tremaining: 5.28s\n",
      "783:\tlearn: 0.2176098\ttotal: 19.1s\tremaining: 5.26s\n",
      "784:\tlearn: 0.2175131\ttotal: 19.1s\tremaining: 5.23s\n",
      "785:\tlearn: 0.2174180\ttotal: 19.1s\tremaining: 5.21s\n",
      "786:\tlearn: 0.2173499\ttotal: 19.2s\tremaining: 5.19s\n",
      "787:\tlearn: 0.2172699\ttotal: 19.2s\tremaining: 5.16s\n",
      "788:\tlearn: 0.2172122\ttotal: 19.2s\tremaining: 5.14s\n",
      "789:\tlearn: 0.2171760\ttotal: 19.2s\tremaining: 5.12s\n",
      "790:\tlearn: 0.2170812\ttotal: 19.3s\tremaining: 5.09s\n",
      "791:\tlearn: 0.2169945\ttotal: 19.3s\tremaining: 5.07s\n",
      "792:\tlearn: 0.2169288\ttotal: 19.3s\tremaining: 5.04s\n",
      "793:\tlearn: 0.2168458\ttotal: 19.3s\tremaining: 5.02s\n",
      "794:\tlearn: 0.2167874\ttotal: 19.4s\tremaining: 4.99s\n",
      "795:\tlearn: 0.2167162\ttotal: 19.4s\tremaining: 4.97s\n",
      "796:\tlearn: 0.2166482\ttotal: 19.4s\tremaining: 4.94s\n",
      "797:\tlearn: 0.2165609\ttotal: 19.4s\tremaining: 4.92s\n",
      "798:\tlearn: 0.2165596\ttotal: 19.5s\tremaining: 4.9s\n",
      "799:\tlearn: 0.2165275\ttotal: 19.5s\tremaining: 4.87s\n",
      "800:\tlearn: 0.2165234\ttotal: 19.5s\tremaining: 4.85s\n",
      "801:\tlearn: 0.2164170\ttotal: 19.5s\tremaining: 4.82s\n",
      "802:\tlearn: 0.2163434\ttotal: 19.6s\tremaining: 4.8s\n",
      "803:\tlearn: 0.2162860\ttotal: 19.6s\tremaining: 4.77s\n",
      "804:\tlearn: 0.2162248\ttotal: 19.6s\tremaining: 4.75s\n",
      "805:\tlearn: 0.2161486\ttotal: 19.6s\tremaining: 4.72s\n",
      "806:\tlearn: 0.2160884\ttotal: 19.7s\tremaining: 4.7s\n",
      "807:\tlearn: 0.2160097\ttotal: 19.7s\tremaining: 4.68s\n",
      "808:\tlearn: 0.2159201\ttotal: 19.7s\tremaining: 4.65s\n",
      "809:\tlearn: 0.2158593\ttotal: 19.7s\tremaining: 4.63s\n",
      "810:\tlearn: 0.2157833\ttotal: 19.8s\tremaining: 4.6s\n",
      "811:\tlearn: 0.2157822\ttotal: 19.8s\tremaining: 4.58s\n",
      "812:\tlearn: 0.2157339\ttotal: 19.8s\tremaining: 4.55s\n"
     ]
    },
    {
     "name": "stdout",
     "output_type": "stream",
     "text": [
      "813:\tlearn: 0.2156565\ttotal: 19.8s\tremaining: 4.53s\n",
      "814:\tlearn: 0.2156470\ttotal: 19.8s\tremaining: 4.5s\n",
      "815:\tlearn: 0.2155211\ttotal: 19.9s\tremaining: 4.48s\n",
      "816:\tlearn: 0.2154771\ttotal: 19.9s\tremaining: 4.46s\n",
      "817:\tlearn: 0.2153995\ttotal: 19.9s\tremaining: 4.43s\n",
      "818:\tlearn: 0.2153983\ttotal: 20s\tremaining: 4.41s\n",
      "819:\tlearn: 0.2153363\ttotal: 20s\tremaining: 4.39s\n",
      "820:\tlearn: 0.2152561\ttotal: 20s\tremaining: 4.36s\n",
      "821:\tlearn: 0.2152017\ttotal: 20s\tremaining: 4.34s\n",
      "822:\tlearn: 0.2151259\ttotal: 20.1s\tremaining: 4.31s\n",
      "823:\tlearn: 0.2150523\ttotal: 20.1s\tremaining: 4.29s\n",
      "824:\tlearn: 0.2150484\ttotal: 20.1s\tremaining: 4.26s\n",
      "825:\tlearn: 0.2149668\ttotal: 20.1s\tremaining: 4.24s\n",
      "826:\tlearn: 0.2149114\ttotal: 20.2s\tremaining: 4.22s\n",
      "827:\tlearn: 0.2149024\ttotal: 20.2s\tremaining: 4.19s\n",
      "828:\tlearn: 0.2148305\ttotal: 20.2s\tremaining: 4.17s\n",
      "829:\tlearn: 0.2148292\ttotal: 20.2s\tremaining: 4.14s\n",
      "830:\tlearn: 0.2147558\ttotal: 20.3s\tremaining: 4.12s\n",
      "831:\tlearn: 0.2147078\ttotal: 20.3s\tremaining: 4.1s\n",
      "832:\tlearn: 0.2146436\ttotal: 20.3s\tremaining: 4.07s\n",
      "833:\tlearn: 0.2145640\ttotal: 20.3s\tremaining: 4.05s\n",
      "834:\tlearn: 0.2145629\ttotal: 20.4s\tremaining: 4.03s\n",
      "835:\tlearn: 0.2144761\ttotal: 20.4s\tremaining: 4s\n",
      "836:\tlearn: 0.2143939\ttotal: 20.4s\tremaining: 3.98s\n",
      "837:\tlearn: 0.2143062\ttotal: 20.4s\tremaining: 3.95s\n",
      "838:\tlearn: 0.2142074\ttotal: 20.5s\tremaining: 3.93s\n",
      "839:\tlearn: 0.2141825\ttotal: 20.5s\tremaining: 3.9s\n",
      "840:\tlearn: 0.2141228\ttotal: 20.5s\tremaining: 3.88s\n",
      "841:\tlearn: 0.2140408\ttotal: 20.6s\tremaining: 3.86s\n",
      "842:\tlearn: 0.2139682\ttotal: 20.6s\tremaining: 3.83s\n",
      "843:\tlearn: 0.2139104\ttotal: 20.6s\tremaining: 3.81s\n",
      "844:\tlearn: 0.2138029\ttotal: 20.6s\tremaining: 3.78s\n",
      "845:\tlearn: 0.2137536\ttotal: 20.7s\tremaining: 3.76s\n",
      "846:\tlearn: 0.2136556\ttotal: 20.7s\tremaining: 3.73s\n",
      "847:\tlearn: 0.2135737\ttotal: 20.7s\tremaining: 3.71s\n",
      "848:\tlearn: 0.2135106\ttotal: 20.7s\tremaining: 3.69s\n",
      "849:\tlearn: 0.2134593\ttotal: 20.7s\tremaining: 3.66s\n",
      "850:\tlearn: 0.2134556\ttotal: 20.8s\tremaining: 3.63s\n",
      "851:\tlearn: 0.2134067\ttotal: 20.8s\tremaining: 3.61s\n",
      "852:\tlearn: 0.2132925\ttotal: 20.8s\tremaining: 3.59s\n",
      "853:\tlearn: 0.2132432\ttotal: 20.8s\tremaining: 3.56s\n",
      "854:\tlearn: 0.2131717\ttotal: 20.9s\tremaining: 3.54s\n",
      "855:\tlearn: 0.2131707\ttotal: 20.9s\tremaining: 3.51s\n",
      "856:\tlearn: 0.2130765\ttotal: 20.9s\tremaining: 3.49s\n",
      "857:\tlearn: 0.2129515\ttotal: 20.9s\tremaining: 3.46s\n",
      "858:\tlearn: 0.2128740\ttotal: 21s\tremaining: 3.44s\n",
      "859:\tlearn: 0.2128256\ttotal: 21s\tremaining: 3.42s\n",
      "860:\tlearn: 0.2127582\ttotal: 21s\tremaining: 3.39s\n",
      "861:\tlearn: 0.2127548\ttotal: 21s\tremaining: 3.37s\n",
      "862:\tlearn: 0.2127129\ttotal: 21s\tremaining: 3.34s\n",
      "863:\tlearn: 0.2127097\ttotal: 21.1s\tremaining: 3.32s\n",
      "864:\tlearn: 0.2126114\ttotal: 21.1s\tremaining: 3.29s\n",
      "865:\tlearn: 0.2125904\ttotal: 21.1s\tremaining: 3.27s\n",
      "866:\tlearn: 0.2125224\ttotal: 21.1s\tremaining: 3.24s\n",
      "867:\tlearn: 0.2125114\ttotal: 21.2s\tremaining: 3.22s\n",
      "868:\tlearn: 0.2125084\ttotal: 21.2s\tremaining: 3.19s\n",
      "869:\tlearn: 0.2124597\ttotal: 21.2s\tremaining: 3.17s\n",
      "870:\tlearn: 0.2123971\ttotal: 21.2s\tremaining: 3.15s\n",
      "871:\tlearn: 0.2123130\ttotal: 21.3s\tremaining: 3.12s\n",
      "872:\tlearn: 0.2122577\ttotal: 21.3s\tremaining: 3.1s\n",
      "873:\tlearn: 0.2122369\ttotal: 21.3s\tremaining: 3.08s\n",
      "874:\tlearn: 0.2121725\ttotal: 21.4s\tremaining: 3.05s\n",
      "875:\tlearn: 0.2121274\ttotal: 21.4s\tremaining: 3.03s\n",
      "876:\tlearn: 0.2120445\ttotal: 21.4s\tremaining: 3s\n",
      "877:\tlearn: 0.2119611\ttotal: 21.4s\tremaining: 2.98s\n",
      "878:\tlearn: 0.2118198\ttotal: 21.4s\tremaining: 2.95s\n",
      "879:\tlearn: 0.2117886\ttotal: 21.5s\tremaining: 2.93s\n",
      "880:\tlearn: 0.2117274\ttotal: 21.5s\tremaining: 2.9s\n",
      "881:\tlearn: 0.2116476\ttotal: 21.5s\tremaining: 2.88s\n",
      "882:\tlearn: 0.2115962\ttotal: 21.5s\tremaining: 2.85s\n",
      "883:\tlearn: 0.2114957\ttotal: 21.6s\tremaining: 2.83s\n",
      "884:\tlearn: 0.2114515\ttotal: 21.6s\tremaining: 2.8s\n",
      "885:\tlearn: 0.2113356\ttotal: 21.6s\tremaining: 2.78s\n",
      "886:\tlearn: 0.2112584\ttotal: 21.6s\tremaining: 2.75s\n",
      "887:\tlearn: 0.2111688\ttotal: 21.6s\tremaining: 2.73s\n",
      "888:\tlearn: 0.2111194\ttotal: 21.7s\tremaining: 2.71s\n",
      "889:\tlearn: 0.2110199\ttotal: 21.7s\tremaining: 2.68s\n",
      "890:\tlearn: 0.2109348\ttotal: 21.7s\tremaining: 2.66s\n",
      "891:\tlearn: 0.2109051\ttotal: 21.8s\tremaining: 2.63s\n",
      "892:\tlearn: 0.2108968\ttotal: 21.8s\tremaining: 2.61s\n",
      "893:\tlearn: 0.2108211\ttotal: 21.8s\tremaining: 2.58s\n",
      "894:\tlearn: 0.2107563\ttotal: 21.8s\tremaining: 2.56s\n",
      "895:\tlearn: 0.2106811\ttotal: 21.9s\tremaining: 2.54s\n",
      "896:\tlearn: 0.2106286\ttotal: 21.9s\tremaining: 2.51s\n",
      "897:\tlearn: 0.2105531\ttotal: 21.9s\tremaining: 2.49s\n",
      "898:\tlearn: 0.2104627\ttotal: 21.9s\tremaining: 2.46s\n",
      "899:\tlearn: 0.2104235\ttotal: 22s\tremaining: 2.44s\n",
      "900:\tlearn: 0.2103005\ttotal: 22s\tremaining: 2.42s\n",
      "901:\tlearn: 0.2102515\ttotal: 22s\tremaining: 2.39s\n",
      "902:\tlearn: 0.2101422\ttotal: 22s\tremaining: 2.37s\n",
      "903:\tlearn: 0.2100812\ttotal: 22.1s\tremaining: 2.34s\n",
      "904:\tlearn: 0.2100115\ttotal: 22.1s\tremaining: 2.32s\n",
      "905:\tlearn: 0.2099151\ttotal: 22.1s\tremaining: 2.29s\n",
      "906:\tlearn: 0.2098446\ttotal: 22.1s\tremaining: 2.27s\n",
      "907:\tlearn: 0.2097747\ttotal: 22.2s\tremaining: 2.25s\n",
      "908:\tlearn: 0.2097286\ttotal: 22.2s\tremaining: 2.22s\n",
      "909:\tlearn: 0.2096433\ttotal: 22.2s\tremaining: 2.2s\n",
      "910:\tlearn: 0.2095907\ttotal: 22.2s\tremaining: 2.17s\n",
      "911:\tlearn: 0.2095454\ttotal: 22.3s\tremaining: 2.15s\n",
      "912:\tlearn: 0.2094806\ttotal: 22.3s\tremaining: 2.13s\n",
      "913:\tlearn: 0.2094070\ttotal: 22.3s\tremaining: 2.1s\n",
      "914:\tlearn: 0.2093313\ttotal: 22.4s\tremaining: 2.08s\n",
      "915:\tlearn: 0.2092601\ttotal: 22.4s\tremaining: 2.05s\n",
      "916:\tlearn: 0.2091944\ttotal: 22.4s\tremaining: 2.03s\n",
      "917:\tlearn: 0.2090926\ttotal: 22.4s\tremaining: 2s\n",
      "918:\tlearn: 0.2090272\ttotal: 22.4s\tremaining: 1.98s\n",
      "919:\tlearn: 0.2090262\ttotal: 22.5s\tremaining: 1.95s\n",
      "920:\tlearn: 0.2089347\ttotal: 22.5s\tremaining: 1.93s\n",
      "921:\tlearn: 0.2088698\ttotal: 22.5s\tremaining: 1.91s\n",
      "922:\tlearn: 0.2087569\ttotal: 22.5s\tremaining: 1.88s\n",
      "923:\tlearn: 0.2087559\ttotal: 22.6s\tremaining: 1.86s\n",
      "924:\tlearn: 0.2086650\ttotal: 22.6s\tremaining: 1.83s\n",
      "925:\tlearn: 0.2085745\ttotal: 22.6s\tremaining: 1.81s\n",
      "926:\tlearn: 0.2085736\ttotal: 22.6s\tremaining: 1.78s\n",
      "927:\tlearn: 0.2085239\ttotal: 22.7s\tremaining: 1.76s\n",
      "928:\tlearn: 0.2084710\ttotal: 22.7s\tremaining: 1.73s\n",
      "929:\tlearn: 0.2084034\ttotal: 22.7s\tremaining: 1.71s\n",
      "930:\tlearn: 0.2083354\ttotal: 22.7s\tremaining: 1.69s\n",
      "931:\tlearn: 0.2082988\ttotal: 22.8s\tremaining: 1.66s\n",
      "932:\tlearn: 0.2082055\ttotal: 22.8s\tremaining: 1.64s\n",
      "933:\tlearn: 0.2081918\ttotal: 22.8s\tremaining: 1.61s\n",
      "934:\tlearn: 0.2081300\ttotal: 22.8s\tremaining: 1.59s\n",
      "935:\tlearn: 0.2080480\ttotal: 22.9s\tremaining: 1.56s\n",
      "936:\tlearn: 0.2080003\ttotal: 22.9s\tremaining: 1.54s\n",
      "937:\tlearn: 0.2079269\ttotal: 22.9s\tremaining: 1.51s\n",
      "938:\tlearn: 0.2078384\ttotal: 22.9s\tremaining: 1.49s\n",
      "939:\tlearn: 0.2077996\ttotal: 23s\tremaining: 1.47s\n",
      "940:\tlearn: 0.2077088\ttotal: 23s\tremaining: 1.44s\n",
      "941:\tlearn: 0.2076381\ttotal: 23s\tremaining: 1.42s\n",
      "942:\tlearn: 0.2075922\ttotal: 23s\tremaining: 1.39s\n",
      "943:\tlearn: 0.2075125\ttotal: 23.1s\tremaining: 1.37s\n",
      "944:\tlearn: 0.2074672\ttotal: 23.1s\tremaining: 1.34s\n",
      "945:\tlearn: 0.2074300\ttotal: 23.1s\tremaining: 1.32s\n",
      "946:\tlearn: 0.2073907\ttotal: 23.1s\tremaining: 1.29s\n",
      "947:\tlearn: 0.2073750\ttotal: 23.2s\tremaining: 1.27s\n",
      "948:\tlearn: 0.2073366\ttotal: 23.2s\tremaining: 1.25s\n",
      "949:\tlearn: 0.2072602\ttotal: 23.2s\tremaining: 1.22s\n",
      "950:\tlearn: 0.2071763\ttotal: 23.2s\tremaining: 1.2s\n",
      "951:\tlearn: 0.2071184\ttotal: 23.2s\tremaining: 1.17s\n",
      "952:\tlearn: 0.2070459\ttotal: 23.3s\tremaining: 1.15s\n",
      "953:\tlearn: 0.2070015\ttotal: 23.3s\tremaining: 1.12s\n",
      "954:\tlearn: 0.2069348\ttotal: 23.3s\tremaining: 1.1s\n",
      "955:\tlearn: 0.2069052\ttotal: 23.3s\tremaining: 1.07s\n",
      "956:\tlearn: 0.2068229\ttotal: 23.4s\tremaining: 1.05s\n",
      "957:\tlearn: 0.2067810\ttotal: 23.4s\tremaining: 1.02s\n",
      "958:\tlearn: 0.2067080\ttotal: 23.4s\tremaining: 1s\n",
      "959:\tlearn: 0.2066329\ttotal: 23.4s\tremaining: 977ms\n",
      "960:\tlearn: 0.2065544\ttotal: 23.5s\tremaining: 952ms\n",
      "961:\tlearn: 0.2064881\ttotal: 23.5s\tremaining: 928ms\n",
      "962:\tlearn: 0.2063861\ttotal: 23.5s\tremaining: 904ms\n",
      "963:\tlearn: 0.2063262\ttotal: 23.5s\tremaining: 879ms\n",
      "964:\tlearn: 0.2062990\ttotal: 23.6s\tremaining: 855ms\n",
      "965:\tlearn: 0.2062109\ttotal: 23.6s\tremaining: 831ms\n",
      "966:\tlearn: 0.2061696\ttotal: 23.6s\tremaining: 806ms\n",
      "967:\tlearn: 0.2061004\ttotal: 23.6s\tremaining: 782ms\n",
      "968:\tlearn: 0.2060222\ttotal: 23.7s\tremaining: 757ms\n",
      "969:\tlearn: 0.2059369\ttotal: 23.7s\tremaining: 733ms\n",
      "970:\tlearn: 0.2058749\ttotal: 23.7s\tremaining: 708ms\n",
      "971:\tlearn: 0.2058222\ttotal: 23.7s\tremaining: 684ms\n",
      "972:\tlearn: 0.2057878\ttotal: 23.8s\tremaining: 660ms\n",
      "973:\tlearn: 0.2057254\ttotal: 23.8s\tremaining: 635ms\n",
      "974:\tlearn: 0.2056345\ttotal: 23.8s\tremaining: 611ms\n",
      "975:\tlearn: 0.2055899\ttotal: 23.8s\tremaining: 586ms\n",
      "976:\tlearn: 0.2055315\ttotal: 23.9s\tremaining: 562ms\n",
      "977:\tlearn: 0.2054950\ttotal: 23.9s\tremaining: 538ms\n",
      "978:\tlearn: 0.2054371\ttotal: 23.9s\tremaining: 513ms\n",
      "979:\tlearn: 0.2053710\ttotal: 24s\tremaining: 489ms\n"
     ]
    },
    {
     "name": "stdout",
     "output_type": "stream",
     "text": [
      "980:\tlearn: 0.2053281\ttotal: 24s\tremaining: 464ms\n",
      "981:\tlearn: 0.2052700\ttotal: 24s\tremaining: 440ms\n",
      "982:\tlearn: 0.2052351\ttotal: 24s\tremaining: 415ms\n",
      "983:\tlearn: 0.2051874\ttotal: 24s\tremaining: 391ms\n",
      "984:\tlearn: 0.2051474\ttotal: 24.1s\tremaining: 367ms\n",
      "985:\tlearn: 0.2051202\ttotal: 24.1s\tremaining: 342ms\n",
      "986:\tlearn: 0.2050592\ttotal: 24.1s\tremaining: 318ms\n",
      "987:\tlearn: 0.2049880\ttotal: 24.1s\tremaining: 293ms\n",
      "988:\tlearn: 0.2049270\ttotal: 24.2s\tremaining: 269ms\n",
      "989:\tlearn: 0.2048316\ttotal: 24.2s\tremaining: 244ms\n",
      "990:\tlearn: 0.2048041\ttotal: 24.2s\tremaining: 220ms\n",
      "991:\tlearn: 0.2047685\ttotal: 24.2s\tremaining: 195ms\n",
      "992:\tlearn: 0.2047026\ttotal: 24.3s\tremaining: 171ms\n",
      "993:\tlearn: 0.2046458\ttotal: 24.3s\tremaining: 147ms\n",
      "994:\tlearn: 0.2045579\ttotal: 24.3s\tremaining: 122ms\n",
      "995:\tlearn: 0.2045122\ttotal: 24.3s\tremaining: 97.7ms\n",
      "996:\tlearn: 0.2044152\ttotal: 24.4s\tremaining: 73.3ms\n",
      "997:\tlearn: 0.2043508\ttotal: 24.4s\tremaining: 48.9ms\n",
      "998:\tlearn: 0.2042925\ttotal: 24.4s\tremaining: 24.4ms\n",
      "999:\tlearn: 0.2042360\ttotal: 24.4s\tremaining: 0us\n"
     ]
    },
    {
     "data": {
      "text/plain": [
       "<catboost.core.CatBoostClassifier at 0x1e9d895dc40>"
      ]
     },
     "execution_count": 82,
     "metadata": {},
     "output_type": "execute_result"
    }
   ],
   "source": [
    "from catboost import CatBoostClassifier\n",
    "from sklearn.model_selection import train_test_split\n",
    "\n",
    "data = pd.read_csv('vehicle_insurance.csv')\n",
    "\n",
    "categorical_columns = data.loc[:,data.dtypes==np.object].columns # ['Gender', 'Driving_License', 'Region_Code', 'Previously_Insured', 'Vehicle_Age', 'Vehicle_Damage']\n",
    "\n",
    "X = data.drop('Response', axis=1)\n",
    "y = data['Response']\n",
    "\n",
    "X_train, X_test, y_train, y_test = train_test_split(X, y,\n",
    "                                                    random_state=0,\n",
    "                                                    shuffle=True,\n",
    "                                                    test_size=0.2)\n",
    "\n",
    "catboost = CatBoostClassifier()\n",
    "\n",
    "catboost.fit(X_train, y_train, cat_features=categorical_columns.values)"
   ]
  },
  {
   "cell_type": "code",
   "execution_count": 83,
   "id": "56be3175",
   "metadata": {},
   "outputs": [
    {
     "name": "stdout",
     "output_type": "stream",
     "text": [
      "              precision    recall  f1-score   support\n",
      "\n",
      "           0      0.889     0.987     0.935      1770\n",
      "           1      0.343     0.052     0.091       230\n",
      "\n",
      "    accuracy                          0.879      2000\n",
      "   macro avg      0.616     0.520     0.513      2000\n",
      "weighted avg      0.826     0.879     0.838      2000\n",
      "\n"
     ]
    }
   ],
   "source": [
    "print(classification_report(y_test, catboost.predict(X_test), digits=3))"
   ]
  },
  {
   "cell_type": "code",
   "execution_count": 8,
   "id": "01baf652",
   "metadata": {},
   "outputs": [
    {
     "data": {
      "text/plain": [
       "array([ 3.1033428 , 11.36658464,  0.03227638,  7.43228013, 27.35891126,\n",
       "        4.74671151, 21.36760853,  9.26128996,  6.2198574 ,  9.11113739])"
      ]
     },
     "execution_count": 8,
     "metadata": {},
     "output_type": "execute_result"
    }
   ],
   "source": [
    "catboost.feature_importances_"
   ]
  },
  {
   "cell_type": "code",
   "execution_count": 38,
   "id": "227ea1e7",
   "metadata": {},
   "outputs": [
    {
     "data": {
      "text/plain": [
       "array([0.17121637, 0.00078541, 0.04151261, 0.05411706, 0.19701428,\n",
       "       0.08134032, 0.09653876, 0.00675076, 0.01546148, 0.01807761,\n",
       "       0.31718534])"
      ]
     },
     "execution_count": 38,
     "metadata": {},
     "output_type": "execute_result"
    }
   ],
   "source": [
    "feature_importances_matrix[0.1][6]"
   ]
  },
  {
   "cell_type": "code",
   "execution_count": 42,
   "id": "ab7b050e",
   "metadata": {},
   "outputs": [
    {
     "data": {
      "text/plain": [
       "array(['Age', 'Driving_License', 'Region_Code', 'Previously_Insured',\n",
       "       'Annual_Premium', 'Policy_Sales_Channel', 'Vintage', 'Gender_Male',\n",
       "       'Vehicle_Age_< 1 Year', 'Vehicle_Age_> 2 Years',\n",
       "       'Vehicle_Damage_Yes'], dtype=object)"
      ]
     },
     "execution_count": 42,
     "metadata": {},
     "output_type": "execute_result"
    }
   ],
   "source": [
    "X.columns.values"
   ]
  },
  {
   "cell_type": "code",
   "execution_count": 46,
   "id": "a8244c0a",
   "metadata": {},
   "outputs": [
    {
     "data": {
      "image/png": "[encoded data removed]",
      "text/plain": [
       "<Figure size 1152x720 with 1 Axes>"
      ]
     },
     "metadata": {
      "needs_background": "light"
     },
     "output_type": "display_data"
    }
   ],
   "source": [
    "fig = plt.figure()\n",
    "\n",
    "fig.set_size_inches(16, 10)\n",
    "\n",
    "plt.bar(X.columns.values,catboost.feature_importances_)\n",
    "    \n",
    "fig.tight_layout()\n",
    "    \n",
    "plt.show()\n",
    "\n"
   ]
  },
  {
   "attachments": {
    "%D0%B8%D0%B7%D0%BE%D0%B1%D1%80%D0%B0%D0%B6%D0%B5%D0%BD%D0%B8%D0%B5-2.png": {
     "image/png": "[encoded data removed]"
    },
    "%D0%B8%D0%B7%D0%BE%D0%B1%D1%80%D0%B0%D0%B6%D0%B5%D0%BD%D0%B8%D0%B5.png": {
     "image/png": "[encoded data removed]"
    }
   },
   "cell_type": "markdown",
   "id": "6d270037",
   "metadata": {},
   "source": [
    "**Задание 5.** Установите библиотеку `lightgbm`. На сегодняшний день это наиболее быстрый метод градиентного бустинга, при этом расходующий небольшое количество оперативной памяти. Достигает он этого за счет построения деревьев вглубь по листьям (leaf-wise), а не по уровням (level-wise), как другие методы, например XGBoost. \n",
    "Более понятно это на картинке:\n",
    "\n",
    "![%D0%B8%D0%B7%D0%BE%D0%B1%D1%80%D0%B0%D0%B6%D0%B5%D0%BD%D0%B8%D0%B5.png](attachment:%D0%B8%D0%B7%D0%BE%D0%B1%D1%80%D0%B0%D0%B6%D0%B5%D0%BD%D0%B8%D0%B5.png)\n",
    "\n",
    "![%D0%B8%D0%B7%D0%BE%D0%B1%D1%80%D0%B0%D0%B6%D0%B5%D0%BD%D0%B8%D0%B5-2.png](attachment:%D0%B8%D0%B7%D0%BE%D0%B1%D1%80%D0%B0%D0%B6%D0%B5%D0%BD%D0%B8%D0%B5-2.png)\n",
    "\n",
    "В то время, как XGBoost за раз разделяет вершины на целом уровне той же глубины, LightGBM разделяет одну вершину за раз. Отсюда прирост в скорости.\n",
    "\n",
    "Обучите `LGBMClassifier` на изначальных(закодированных) данных и добейтесь максимального качества на тестовой выборке, перебрав параметры глубины деревьев, количества шагов, скорости обучения и т.д."
   ]
  },
  {
   "cell_type": "code",
   "execution_count": 77,
   "id": "e3a8ed29",
   "metadata": {},
   "outputs": [
    {
     "data": {
      "text/html": [
       "<style>#sk-container-id-2 {color: black;background-color: white;}#sk-container-id-2 pre{padding: 0;}#sk-container-id-2 div.sk-toggleable {background-color: white;}#sk-container-id-2 label.sk-toggleable__label {cursor: pointer;display: block;width: 100%;margin-bottom: 0;padding: 0.3em;box-sizing: border-box;text-align: center;}#sk-container-id-2 label.sk-toggleable__label-arrow:before {content: \"▸\";float: left;margin-right: 0.25em;color: #696969;}#sk-container-id-2 label.sk-toggleable__label-arrow:hover:before {color: black;}#sk-container-id-2 div.sk-estimator:hover label.sk-toggleable__label-arrow:before {color: black;}#sk-container-id-2 div.sk-toggleable__content {max-height: 0;max-width: 0;overflow: hidden;text-align: left;background-color: #f0f8ff;}#sk-container-id-2 div.sk-toggleable__content pre {margin: 0.2em;color: black;border-radius: 0.25em;background-color: #f0f8ff;}#sk-container-id-2 input.sk-toggleable__control:checked~div.sk-toggleable__content {max-height: 200px;max-width: 100%;overflow: auto;}#sk-container-id-2 input.sk-toggleable__control:checked~label.sk-toggleable__label-arrow:before {content: \"▾\";}#sk-container-id-2 div.sk-estimator input.sk-toggleable__control:checked~label.sk-toggleable__label {background-color: #d4ebff;}#sk-container-id-2 div.sk-label input.sk-toggleable__control:checked~label.sk-toggleable__label {background-color: #d4ebff;}#sk-container-id-2 input.sk-hidden--visually {border: 0;clip: rect(1px 1px 1px 1px);clip: rect(1px, 1px, 1px, 1px);height: 1px;margin: -1px;overflow: hidden;padding: 0;position: absolute;width: 1px;}#sk-container-id-2 div.sk-estimator {font-family: monospace;background-color: #f0f8ff;border: 1px dotted black;border-radius: 0.25em;box-sizing: border-box;margin-bottom: 0.5em;}#sk-container-id-2 div.sk-estimator:hover {background-color: #d4ebff;}#sk-container-id-2 div.sk-parallel-item::after {content: \"\";width: 100%;border-bottom: 1px solid gray;flex-grow: 1;}#sk-container-id-2 div.sk-label:hover label.sk-toggleable__label {background-color: #d4ebff;}#sk-container-id-2 div.sk-serial::before {content: \"\";position: absolute;border-left: 1px solid gray;box-sizing: border-box;top: 0;bottom: 0;left: 50%;z-index: 0;}#sk-container-id-2 div.sk-serial {display: flex;flex-direction: column;align-items: center;background-color: white;padding-right: 0.2em;padding-left: 0.2em;position: relative;}#sk-container-id-2 div.sk-item {position: relative;z-index: 1;}#sk-container-id-2 div.sk-parallel {display: flex;align-items: stretch;justify-content: center;background-color: white;position: relative;}#sk-container-id-2 div.sk-item::before, #sk-container-id-2 div.sk-parallel-item::before {content: \"\";position: absolute;border-left: 1px solid gray;box-sizing: border-box;top: 0;bottom: 0;left: 50%;z-index: -1;}#sk-container-id-2 div.sk-parallel-item {display: flex;flex-direction: column;z-index: 1;position: relative;background-color: white;}#sk-container-id-2 div.sk-parallel-item:first-child::after {align-self: flex-end;width: 50%;}#sk-container-id-2 div.sk-parallel-item:last-child::after {align-self: flex-start;width: 50%;}#sk-container-id-2 div.sk-parallel-item:only-child::after {width: 0;}#sk-container-id-2 div.sk-dashed-wrapped {border: 1px dashed gray;margin: 0 0.4em 0.5em 0.4em;box-sizing: border-box;padding-bottom: 0.4em;background-color: white;}#sk-container-id-2 div.sk-label label {font-family: monospace;font-weight: bold;display: inline-block;line-height: 1.2em;}#sk-container-id-2 div.sk-label-container {text-align: center;}#sk-container-id-2 div.sk-container {/* jupyter's `normalize.less` sets `[hidden] { display: none; }` but bootstrap.min.css set `[hidden] { display: none !important; }` so we also need the `!important` here to be able to override the default hidden behavior on the sphinx rendered scikit-learn.org. See: https://github.com/scikit-learn/scikit-learn/issues/21755 */display: inline-block !important;position: relative;}#sk-container-id-2 div.sk-text-repr-fallback {display: none;}</style><div id=\"sk-container-id-2\" class=\"sk-top-container\"><div class=\"sk-text-repr-fallback\"><pre>GridSearchCV(estimator=LGBMClassifier(),\n",
       "             param_grid={&#x27;learning_rate&#x27;: [0.1, 0.01, 0.001],\n",
       "                         &#x27;max_depth&#x27;: [2, 3, 5, 100],\n",
       "                         &#x27;n_estimators&#x27;: [100, 500, 1000, 2000]},\n",
       "             scoring=&#x27;neg_mean_squared_error&#x27;)</pre><b>In a Jupyter environment, please rerun this cell to show the HTML representation or trust the notebook. <br />On GitHub, the HTML representation is unable to render, please try loading this page with nbviewer.org.</b></div><div class=\"sk-container\" hidden><div class=\"sk-item sk-dashed-wrapped\"><div class=\"sk-label-container\"><div class=\"sk-label sk-toggleable\"><input class=\"sk-toggleable__control sk-hidden--visually\" id=\"sk-estimator-id-2\" type=\"checkbox\" ><label for=\"sk-estimator-id-2\" class=\"sk-toggleable__label sk-toggleable__label-arrow\">GridSearchCV</label><div class=\"sk-toggleable__content\"><pre>GridSearchCV(estimator=LGBMClassifier(),\n",
       "             param_grid={&#x27;learning_rate&#x27;: [0.1, 0.01, 0.001],\n",
       "                         &#x27;max_depth&#x27;: [2, 3, 5, 100],\n",
       "                         &#x27;n_estimators&#x27;: [100, 500, 1000, 2000]},\n",
       "             scoring=&#x27;neg_mean_squared_error&#x27;)</pre></div></div></div><div class=\"sk-parallel\"><div class=\"sk-parallel-item\"><div class=\"sk-item\"><div class=\"sk-label-container\"><div class=\"sk-label sk-toggleable\"><input class=\"sk-toggleable__control sk-hidden--visually\" id=\"sk-estimator-id-3\" type=\"checkbox\" ><label for=\"sk-estimator-id-3\" class=\"sk-toggleable__label sk-toggleable__label-arrow\">estimator: LGBMClassifier</label><div class=\"sk-toggleable__content\"><pre>LGBMClassifier()</pre></div></div></div><div class=\"sk-serial\"><div class=\"sk-item\"><div class=\"sk-estimator sk-toggleable\"><input class=\"sk-toggleable__control sk-hidden--visually\" id=\"sk-estimator-id-4\" type=\"checkbox\" ><label for=\"sk-estimator-id-4\" class=\"sk-toggleable__label sk-toggleable__label-arrow\">LGBMClassifier</label><div class=\"sk-toggleable__content\"><pre>LGBMClassifier()</pre></div></div></div></div></div></div></div></div></div></div>"
      ],
      "text/plain": [
       "GridSearchCV(estimator=LGBMClassifier(),\n",
       "             param_grid={'learning_rate': [0.1, 0.01, 0.001],\n",
       "                         'max_depth': [2, 3, 5, 100],\n",
       "                         'n_estimators': [100, 500, 1000, 2000]},\n",
       "             scoring='neg_mean_squared_error')"
      ]
     },
     "execution_count": 77,
     "metadata": {},
     "output_type": "execute_result"
    }
   ],
   "source": [
    "from lightgbm import LGBMClassifier\n",
    "from sklearn.model_selection import GridSearchCV\n",
    "\n",
    "params = {'n_estimators': [100, 500, 1000, 2000],\n",
    "          'max_depth': [2, 3, 5, 100],\n",
    "          'learning_rate': [0.1, 0.01, 0.001]}\n",
    "\n",
    "model = LGBMClassifier()\n",
    "\n",
    "search = GridSearchCV(model, \n",
    "                      params, \n",
    "                      scoring='neg_mean_squared_error'\n",
    "                      )\n",
    "\n",
    "search.fit(X_train, y_train)\n"
   ]
  },
  {
   "cell_type": "code",
   "execution_count": 78,
   "id": "a844b8eb",
   "metadata": {},
   "outputs": [
    {
     "name": "stdout",
     "output_type": "stream",
     "text": [
      "Best parameter (CV score=-0.12712):\n",
      "{'learning_rate': 0.01, 'max_depth': 2, 'n_estimators': 100}\n",
      "Качество лучшей модели на финальном тесте: -0.115\n"
     ]
    }
   ],
   "source": [
    "print(f\"Best parameter (CV score={search.best_score_:.5f}):\")\n",
    "print(search.best_params_)\n",
    "\n",
    "print(f\"Качество лучшей модели на финальном тесте: {search.score(X_test, y_test)}\")"
   ]
  },
  {
   "cell_type": "code",
   "execution_count": 79,
   "id": "057812ec",
   "metadata": {},
   "outputs": [
    {
     "data": {
      "text/plain": [
       "0.0"
      ]
     },
     "execution_count": 79,
     "metadata": {},
     "output_type": "execute_result"
    }
   ],
   "source": [
    "from sklearn.metrics import precision_score\n",
    "\n",
    "precision_score(y_test, search.predict(X_test))"
   ]
  },
  {
   "cell_type": "code",
   "execution_count": 81,
   "id": "6a679ec8",
   "metadata": {},
   "outputs": [
    {
     "name": "stdout",
     "output_type": "stream",
     "text": [
      "              precision    recall  f1-score   support\n",
      "\n",
      "           0      0.885     1.000     0.939      1770\n",
      "           1      0.000     0.000     0.000       230\n",
      "\n",
      "    accuracy                          0.885      2000\n",
      "   macro avg      0.443     0.500     0.469      2000\n",
      "weighted avg      0.783     0.885     0.831      2000\n",
      "\n"
     ]
    }
   ],
   "source": [
    "print(classification_report(y_test, search.predict(X_test), digits=3))"
   ]
  },
  {
   "cell_type": "code",
   "execution_count": null,
   "id": "dd26a3a1",
   "metadata": {},
   "outputs": [],
   "source": []
  }
 ],
 "metadata": {
  "kernelspec": {
   "display_name": "Python 3 (ipykernel)",
   "language": "python",
   "name": "python3"
  },
  "language_info": {
   "codemirror_mode": {
    "name": "ipython",
    "version": 3
   },
   "file_extension": ".py",
   "mimetype": "text/x-python",
   "name": "python",
   "nbconvert_exporter": "python",
   "pygments_lexer": "ipython3",
   "version": "3.9.7"
  }
 },
 "nbformat": 4,
 "nbformat_minor": 5
}
